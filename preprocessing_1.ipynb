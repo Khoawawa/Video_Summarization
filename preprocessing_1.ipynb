{
 "cells": [
  {
   "cell_type": "code",
   "execution_count": null,
   "id": "cf41f4ae",
   "metadata": {},
   "outputs": [],
   "source": [
    "import numpy as np\n",
    "import pandas as pd\n",
    "import random\n",
    "import torch\n",
    "\n",
    "seed = 42\n",
    "np.random.seed(seed)\n",
    "random.seed(seed)\n",
    "torch.manual_seed(seed)"
   ]
  },
  {
   "cell_type": "code",
   "execution_count": 2,
   "id": "9a22fc1d",
   "metadata": {},
   "outputs": [],
   "source": [
    "from datasets import load_dataset"
   ]
  },
  {
   "cell_type": "code",
   "execution_count": 3,
   "id": "d5c5f3e9",
   "metadata": {},
   "outputs": [],
   "source": [
    "from datasets import load_dataset\n",
    "\n",
    "# Login using e.g. `huggingface-cli login` to access this dataset\n",
    "ds = load_dataset(\"friedrichor/MSR-VTT\", \"train_9k\")['train']"
   ]
  },
  {
   "cell_type": "code",
   "execution_count": 4,
   "id": "8eb877c8",
   "metadata": {},
   "outputs": [
    {
     "name": "stdout",
     "output_type": "stream",
     "text": [
      "Dataset({\n",
      "    features: ['video_id', 'video', 'caption', 'source', 'category', 'url', 'start time', 'end time', 'id'],\n",
      "    num_rows: 9000\n",
      "})\n"
     ]
    }
   ],
   "source": [
    "print(ds)"
   ]
  },
  {
   "cell_type": "code",
   "execution_count": 5,
   "id": "6a09fddc",
   "metadata": {},
   "outputs": [
    {
     "name": "stdout",
     "output_type": "stream",
     "text": [
      "['video_id', 'video', 'caption', 'source', 'category', 'url', 'start time', 'end time', 'id']\n",
      "{'video_id': Value('string'), 'video': Value('string'), 'caption': List(Value('string')), 'source': Value('string'), 'category': Value('int64'), 'url': Value('string'), 'start time': Value('float64'), 'end time': Value('float64'), 'id': Value('int64')}\n"
     ]
    }
   ],
   "source": [
    "print(ds.column_names)\n",
    "print(ds.features)"
   ]
  },
  {
   "cell_type": "code",
   "execution_count": 6,
   "id": "b8f1cc95",
   "metadata": {},
   "outputs": [],
   "source": [
    "import cv2\n",
    "import mat73\n",
    "import numpy as np\n",
    "fps_target = 2"
   ]
  },
  {
   "cell_type": "code",
   "execution_count": 10,
   "id": "c6a6ee0a",
   "metadata": {},
   "outputs": [],
   "source": [
    "import subprocess\n",
    "\n",
    "def download_clip(url, start, end, out_path):\n",
    "    # Download and trim using ffmpeg\n",
    "    \n",
    "    cmd = [\n",
    "        \"yt-dlp\", \"-f\", \"bestvideo*+bestaudio/best\",\n",
    "        \"--download-sections\", f\"*{start}-{end}\",\n",
    "        \"-o\", out_path, url\n",
    "    ]\n",
    "    subprocess.run(cmd, check=True)\n"
   ]
  },
  {
   "cell_type": "code",
   "execution_count": null,
   "id": "06f99c18",
   "metadata": {},
   "outputs": [],
   "source": [
    "sampled_ds = ds.select()"
   ]
  },
  {
   "cell_type": "code",
   "execution_count": 8,
   "id": "35a587e1",
   "metadata": {},
   "outputs": [
    {
     "name": "stdout",
     "output_type": "stream",
     "text": [
      "https://www.youtube.com/watch?v=9lZi22qLlEo\n",
      "137.72 149.44\n",
      "['a car is shown', 'a group is dancing', 'a man drives a vehicle through the countryside', 'a man drives down the road in an audi', 'a man driving a car', 'a man is driving a car', 'a man is driving down a road', 'a man is driving in a car as part of a commercial', 'a man is driving', 'a man riding the car speedly in a narrow road', 'a man showing the various features of a car', 'a man silently narrates his experience driving an audi', 'a person is driving his car around curves in the road', 'a person telling about a car', 'guy driving a car down the road', 'man talking about a car while driving', 'the man drives the car', 'the man driving the audi as smooth as possible', 'a man is driving', 'guy driving a car down the road']\n"
     ]
    }
   ],
   "source": [
    "test_url = ds[0]['url']\n",
    "start = ds[0]['start time']\n",
    "end = ds[0]['end time']\n",
    "print(test_url)\n",
    "print(start, end)\n",
    "print(ds[0]['caption'])"
   ]
  },
  {
   "cell_type": "code",
   "execution_count": 11,
   "id": "966141fc",
   "metadata": {},
   "outputs": [],
   "source": [
    "download_clip(test_url, start, end, \"test.mp4\")"
   ]
  },
  {
   "cell_type": "code",
   "execution_count": null,
   "id": "9a2da062",
   "metadata": {},
   "outputs": [],
   "source": [
    "'''\n",
    "\n",
    "'''"
   ]
  }
 ],
 "metadata": {
  "kernelspec": {
   "display_name": "sumenv",
   "language": "python",
   "name": "python3"
  },
  "language_info": {
   "codemirror_mode": {
    "name": "ipython",
    "version": 3
   },
   "file_extension": ".py",
   "mimetype": "text/x-python",
   "name": "python",
   "nbconvert_exporter": "python",
   "pygments_lexer": "ipython3",
   "version": "3.11.9"
  }
 },
 "nbformat": 4,
 "nbformat_minor": 5
}
