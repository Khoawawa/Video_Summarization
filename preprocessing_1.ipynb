{
 "cells": [
  {
   "cell_type": "code",
   "execution_count": 27,
   "id": "cf41f4ae",
   "metadata": {},
   "outputs": [
    {
     "data": {
      "text/plain": [
       "<torch._C.Generator at 0x265041fb0d0>"
      ]
     },
     "execution_count": 27,
     "metadata": {},
     "output_type": "execute_result"
    }
   ],
   "source": [
    "import numpy as np\n",
    "import pandas as pd\n",
    "import random\n",
    "import torch\n",
    "import os\n",
    "seed = 42\n",
    "np.random.seed(seed)\n",
    "random.seed(seed)\n",
    "torch.manual_seed(seed)"
   ]
  },
  {
   "cell_type": "code",
   "execution_count": 28,
   "id": "9a22fc1d",
   "metadata": {},
   "outputs": [],
   "source": [
    "from datasets import load_dataset"
   ]
  },
  {
   "cell_type": "code",
   "execution_count": 29,
   "id": "d5c5f3e9",
   "metadata": {},
   "outputs": [],
   "source": [
    "from datasets import load_dataset\n",
    "\n",
    "# Login using e.g. `huggingface-cli login` to access this dataset\n",
    "ds = load_dataset(\"friedrichor/MSR-VTT\", \"train_9k\")['train']"
   ]
  },
  {
   "cell_type": "code",
   "execution_count": 30,
   "id": "8eb877c8",
   "metadata": {},
   "outputs": [
    {
     "name": "stdout",
     "output_type": "stream",
     "text": [
      "Dataset({\n",
      "    features: ['video_id', 'video', 'caption', 'source', 'category', 'url', 'start time', 'end time', 'id'],\n",
      "    num_rows: 9000\n",
      "})\n"
     ]
    }
   ],
   "source": [
    "print(ds)"
   ]
  },
  {
   "cell_type": "code",
   "execution_count": 31,
   "id": "6a09fddc",
   "metadata": {},
   "outputs": [
    {
     "name": "stdout",
     "output_type": "stream",
     "text": [
      "['video_id', 'video', 'caption', 'source', 'category', 'url', 'start time', 'end time', 'id']\n",
      "{'video_id': Value('string'), 'video': Value('string'), 'caption': List(Value('string')), 'source': Value('string'), 'category': Value('int64'), 'url': Value('string'), 'start time': Value('float64'), 'end time': Value('float64'), 'id': Value('int64')}\n"
     ]
    }
   ],
   "source": [
    "print(ds.column_names)\n",
    "print(ds.features)"
   ]
  },
  {
   "cell_type": "code",
   "execution_count": 32,
   "id": "589ce5a1",
   "metadata": {},
   "outputs": [
    {
     "name": "stdout",
     "output_type": "stream",
     "text": [
      "Dataset({\n",
      "    features: ['video_id', 'video', 'caption', 'source', 'category', 'url', 'start time', 'end time', 'id'],\n",
      "    num_rows: 100\n",
      "})\n"
     ]
    }
   ],
   "source": [
    "sampled_ds = ds.shuffle(seed=seed).select(range(100))\n",
    "print(sampled_ds)"
   ]
  },
  {
   "cell_type": "code",
   "execution_count": 33,
   "id": "1eb86e71",
   "metadata": {},
   "outputs": [
    {
     "name": "stdout",
     "output_type": "stream",
     "text": [
      "video2015\n",
      "['a class full of women move their body watching a black guy dance', 'a dance instructor showing a class how to dance certain moves']\n",
      "https://www.youtube.com/watch?v=CHeSIvrCdjc\n",
      "52.68 65.25\n"
     ]
    }
   ],
   "source": [
    "sample = sampled_ds[0]\n",
    "print(sample[\"video_id\"])\n",
    "print(sample[\"caption\"][:2])   # first two captions\n",
    "print(sample[\"url\"])\n",
    "print(sample[\"start time\"], sample[\"end time\"])\n"
   ]
  },
  {
   "cell_type": "code",
   "execution_count": 34,
   "id": "668c9314",
   "metadata": {},
   "outputs": [],
   "source": [
    "data_path = \"data/MSR-VTT\""
   ]
  },
  {
   "cell_type": "code",
   "execution_count": 35,
   "id": "a7548386",
   "metadata": {},
   "outputs": [],
   "source": [
    "os.makedirs(data_path, exist_ok=True)"
   ]
  },
  {
   "cell_type": "code",
   "execution_count": 42,
   "id": "c6a6ee0a",
   "metadata": {},
   "outputs": [
    {
     "data": {
      "application/vnd.jupyter.widget-view+json": {
       "model_id": "9ef962d929e14d25809fe718ab1b9737",
       "version_major": 2,
       "version_minor": 0
      },
      "text/plain": [
       "Map:   0%|          | 0/100 [00:00<?, ? examples/s]"
      ]
     },
     "metadata": {},
     "output_type": "display_data"
    },
    {
     "name": "stdout",
     "output_type": "stream",
     "text": [
      "Failed video4308: Command '['yt-dlp', '-f', 'bestvideo*+bestaudio/best', '--download-sections', '*82.0-94.73', '-o', 'data/MSR-VTT\\\\video4308.mp4', 'https://www.youtube.com/watch?v=gmqgVxIkehw']' returned non-zero exit status 1.\n",
      "Failed video1839: Command '['yt-dlp', '-f', 'bestvideo*+bestaudio/best', '--download-sections', '*50.23-64.58', '-o', 'data/MSR-VTT\\\\video1839.mp4', 'https://www.youtube.com/watch?v=MoEGd7B-OA0']' returned non-zero exit status 1.\n",
      "Failed video102: Command '['yt-dlp', '-f', 'bestvideo*+bestaudio/best', '--download-sections', '*45.76-58.06', '-o', 'data/MSR-VTT\\\\video102.mp4', 'https://www.youtube.com/watch?v=ZayRbTmhYTc']' returned non-zero exit status 1.\n",
      "Failed video9315: Command '['yt-dlp', '-f', 'bestvideo*+bestaudio/best', '--download-sections', '*128.97-139.94', '-o', 'data/MSR-VTT\\\\video9315.mp4', 'https://www.youtube.com/watch?v=3BD2F0QUS5I']' returned non-zero exit status 1.\n",
      "Failed video4654: Command '['yt-dlp', '-f', 'bestvideo*+bestaudio/best', '--download-sections', '*889.69-899.86', '-o', 'data/MSR-VTT\\\\video4654.mp4', 'https://www.youtube.com/watch?v=NaMWJlmE0ew']' returned non-zero exit status 1.\n",
      "Failed video4740: Command '['yt-dlp', '-f', 'bestvideo*+bestaudio/best', '--download-sections', '*99.68-114.5', '-o', 'data/MSR-VTT\\\\video4740.mp4', 'https://www.youtube.com/watch?v=y_SZeknFyWA']' returned non-zero exit status 1.\n",
      "Failed video7802: Command '['yt-dlp', '-f', 'bestvideo*+bestaudio/best', '--download-sections', '*33.96-45.76', '-o', 'data/MSR-VTT\\\\video7802.mp4', 'https://www.youtube.com/watch?v=04RZrf3-Mgo']' returned non-zero exit status 1.\n",
      "Failed video448: Command '['yt-dlp', '-f', 'bestvideo*+bestaudio/best', '--download-sections', '*108.76-125.71', '-o', 'data/MSR-VTT\\\\video448.mp4', 'https://www.youtube.com/watch?v=vfIzCdJSAOc']' returned non-zero exit status 1.\n",
      "Failed video9721: Command '['yt-dlp', '-f', 'bestvideo*+bestaudio/best', '--download-sections', '*64.41-74.45', '-o', 'data/MSR-VTT\\\\video9721.mp4', 'https://www.youtube.com/watch?v=1OOz-7nIedw']' returned non-zero exit status 1.\n",
      "Failed video4879: Command '['yt-dlp', '-f', 'bestvideo*+bestaudio/best', '--download-sections', '*114.13-127.41', '-o', 'data/MSR-VTT\\\\video4879.mp4', 'https://www.youtube.com/watch?v=9NYdnRAGvO8']' returned non-zero exit status 1.\n",
      "Failed video862: Command '['yt-dlp', '-f', 'bestvideo*+bestaudio/best', '--download-sections', '*617.25-645.75', '-o', 'data/MSR-VTT\\\\video862.mp4', 'https://www.youtube.com/watch?v=6Kq13KvlNeI']' returned non-zero exit status 1.\n",
      "Failed video5837: Command '['yt-dlp', '-f', 'bestvideo*+bestaudio/best', '--download-sections', '*21.31-45.51', '-o', 'data/MSR-VTT\\\\video5837.mp4', 'https://www.youtube.com/watch?v=wsgsQ_1QFBs']' returned non-zero exit status 1.\n",
      "Failed video3626: Command '['yt-dlp', '-f', 'bestvideo*+bestaudio/best', '--download-sections', '*207.17-229.09', '-o', 'data/MSR-VTT\\\\video3626.mp4', 'https://www.youtube.com/watch?v=7Y4Kks933OY']' returned non-zero exit status 1.\n",
      "Failed video1521: Command '['yt-dlp', '-f', 'bestvideo*+bestaudio/best', '--download-sections', '*123.77-139.02', '-o', 'data/MSR-VTT\\\\video1521.mp4', 'https://www.youtube.com/watch?v=IPewafS_3D8']' returned non-zero exit status 1.\n",
      "Failed video4282: Command '['yt-dlp', '-f', 'bestvideo*+bestaudio/best', '--download-sections', '*58.34-84.87', '-o', 'data/MSR-VTT\\\\video4282.mp4', 'https://www.youtube.com/watch?v=tbG1xPqCyEs']' returned non-zero exit status 1.\n",
      "Failed video5632: Command '['yt-dlp', '-f', 'bestvideo*+bestaudio/best', '--download-sections', '*34.46-44.5', '-o', 'data/MSR-VTT\\\\video5632.mp4', 'https://www.youtube.com/watch?v=8pedHeiLh0g']' returned non-zero exit status 1.\n",
      "Failed video6290: Command '['yt-dlp', '-f', 'bestvideo*+bestaudio/best', '--download-sections', '*132.23-142.93', '-o', 'data/MSR-VTT\\\\video6290.mp4', 'https://www.youtube.com/watch?v=5C4zPQZeLDE']' returned non-zero exit status 1.\n",
      "Failed video6844: Command '['yt-dlp', '-f', 'bestvideo*+bestaudio/best', '--download-sections', '*199.98-213.05', '-o', 'data/MSR-VTT\\\\video6844.mp4', 'https://www.youtube.com/watch?v=NlhUkRKaAb0']' returned non-zero exit status 1.\n",
      "Failed video7388: Command '['yt-dlp', '-f', 'bestvideo*+bestaudio/best', '--download-sections', '*130.08-144.68', '-o', 'data/MSR-VTT\\\\video7388.mp4', 'https://www.youtube.com/watch?v=LahY0QqoJDc']' returned non-zero exit status 1.\n",
      "Failed video631: Command '['yt-dlp', '-f', 'bestvideo*+bestaudio/best', '--download-sections', '*3.93-20.73', '-o', 'data/MSR-VTT\\\\video631.mp4', 'https://www.youtube.com/watch?v=SzrRAIxibzM']' returned non-zero exit status 1.\n",
      "Failed video74: Command '['yt-dlp', '-f', 'bestvideo*+bestaudio/best', '--download-sections', '*180.23-191.24', '-o', 'data/MSR-VTT\\\\video74.mp4', 'https://www.youtube.com/watch?v=tcnLD6ePch4']' returned non-zero exit status 1.\n",
      "Failed video1436: Command '['yt-dlp', '-f', 'bestvideo*+bestaudio/best', '--download-sections', '*60.34-72.79', '-o', 'data/MSR-VTT\\\\video1436.mp4', 'https://www.youtube.com/watch?v=3MItv-PTKaE']' returned non-zero exit status 1.\n",
      "Failed video6865: Command '['yt-dlp', '-f', 'bestvideo*+bestaudio/best', '--download-sections', '*125.27-145.09', '-o', 'data/MSR-VTT\\\\video6865.mp4', 'https://www.youtube.com/watch?v=zkLoFZb4G-E']' returned non-zero exit status 1.\n",
      "Failed video372: Command '['yt-dlp', '-f', 'bestvideo*+bestaudio/best', '--download-sections', '*40.57-51.05', '-o', 'data/MSR-VTT\\\\video372.mp4', 'https://www.youtube.com/watch?v=KU2fWMxmfAg']' returned non-zero exit status 1.\n",
      "Failed video6721: Command '['yt-dlp', '-f', 'bestvideo*+bestaudio/best', '--download-sections', '*718.41-736.25', '-o', 'data/MSR-VTT\\\\video6721.mp4', 'https://www.youtube.com/watch?v=TA2s8PW9I9s']' returned non-zero exit status 1.\n",
      "Failed video8409: Command '['yt-dlp', '-f', 'bestvideo*+bestaudio/best', '--download-sections', '*110.65-125.25', '-o', 'data/MSR-VTT\\\\video8409.mp4', 'https://www.youtube.com/watch?v=gF8UTf-OFT4']' returned non-zero exit status 1.\n",
      "Failed video2629: Command '['yt-dlp', '-f', 'bestvideo*+bestaudio/best', '--download-sections', '*937.17-951.35', '-o', 'data/MSR-VTT\\\\video2629.mp4', 'https://www.youtube.com/watch?v=5uW2OQtEzUc']' returned non-zero exit status 1.\n",
      "Failed video1054: Command '['yt-dlp', '-f', 'bestvideo*+bestaudio/best', '--download-sections', '*241.05-253.05', '-o', 'data/MSR-VTT\\\\video1054.mp4', 'https://www.youtube.com/watch?v=psScuNlYDM4']' returned non-zero exit status 1.\n",
      "Failed video4552: Command '['yt-dlp', '-f', 'bestvideo*+bestaudio/best', '--download-sections', '*26.27-46.69', '-o', 'data/MSR-VTT\\\\video4552.mp4', 'https://www.youtube.com/watch?v=U4ikKSGcOxY']' returned non-zero exit status 1.\n",
      "Failed video142: Command '['yt-dlp', '-f', 'bestvideo*+bestaudio/best', '--download-sections', '*186.07-196.48', '-o', 'data/MSR-VTT\\\\video142.mp4', 'https://www.youtube.com/watch?v=9y_ZAW6iyxI']' returned non-zero exit status 1.\n",
      "Failed video9154: Command '['yt-dlp', '-f', 'bestvideo*+bestaudio/best', '--download-sections', '*60.04-72.09', '-o', 'data/MSR-VTT\\\\video9154.mp4', 'https://www.youtube.com/watch?v=cJJmk8k49-E']' returned non-zero exit status 1.\n",
      "Failed video4277: Command '['yt-dlp', '-f', 'bestvideo*+bestaudio/best', '--download-sections', '*5.76-17.4', '-o', 'data/MSR-VTT\\\\video4277.mp4', 'https://www.youtube.com/watch?v=JBmtFhRD2m8']' returned non-zero exit status 1.\n",
      "Failed video9792: Command '['yt-dlp', '-f', 'bestvideo*+bestaudio/best', '--download-sections', '*351.21-366.13', '-o', 'data/MSR-VTT\\\\video9792.mp4', 'https://www.youtube.com/watch?v=_ylNpKHWMPQ']' returned non-zero exit status 1.\n",
      "Failed video9495: Command '['yt-dlp', '-f', 'bestvideo*+bestaudio/best', '--download-sections', '*238.57-259.81', '-o', 'data/MSR-VTT\\\\video9495.mp4', 'https://www.youtube.com/watch?v=XvRpoHljffM']' returned non-zero exit status 1.\n",
      "Failed video5395: Command '['yt-dlp', '-f', 'bestvideo*+bestaudio/best', '--download-sections', '*64.21-75.29', '-o', 'data/MSR-VTT\\\\video5395.mp4', 'https://www.youtube.com/watch?v=0saxFFbor7M']' returned non-zero exit status 1.\n",
      "Failed video2362: Command '['yt-dlp', '-f', 'bestvideo*+bestaudio/best', '--download-sections', '*405.39-416.8', '-o', 'data/MSR-VTT\\\\video2362.mp4', 'https://www.youtube.com/watch?v=2PsRDBGOzn8']' returned non-zero exit status 1.\n"
     ]
    }
   ],
   "source": [
    "import subprocess\n",
    "failed_count = 0\n",
    "def download_clip(clip_info):\n",
    "    # Download and trim using ffmpeg\n",
    "    url =  clip_info['url']\n",
    "    start = clip_info['start time']\n",
    "    end = clip_info['end time']\n",
    "    out = os.path.join(data_path, f\"{clip_info['video_id']}.mp4\")\n",
    "    global failed_count\n",
    "    failed_count += 1\n",
    "    if os.path.exists(out):\n",
    "        print(f\"File {out} already exists, skipping download.\")\n",
    "        return out\n",
    "    try:\n",
    "        cmd = [\n",
    "            \"yt-dlp\", \"-f\", \"bestvideo*+bestaudio/best\",\n",
    "            \"--download-sections\", f\"*{start}-{end}\",\n",
    "            \"-o\", out,\n",
    "            url\n",
    "        ]\n",
    "        subprocess.run(cmd, check=True)\n",
    "        return out\n",
    "    except Exception as e:\n",
    "        print(f\"Failed {clip_info['video_id']}: {e}\")\n",
    "        return \"\"\n",
    "sampled_ds = sampled_ds.map(\n",
    "    lambda x: {\"clip_path\": download_clip(x)},\n",
    ")"
   ]
  },
  {
   "cell_type": "code",
   "execution_count": 44,
   "id": "6f8f7820",
   "metadata": {},
   "outputs": [
    {
     "data": {
      "application/vnd.jupyter.widget-view+json": {
       "model_id": "63c6eb9ffbb0449ca8f6fd87a7c73be3",
       "version_major": 2,
       "version_minor": 0
      },
      "text/plain": [
       "Filter:   0%|          | 0/100 [00:00<?, ? examples/s]"
      ]
     },
     "metadata": {},
     "output_type": "display_data"
    },
    {
     "name": "stdout",
     "output_type": "stream",
     "text": [
      "Dataset({\n",
      "    features: ['video_id', 'video', 'caption', 'source', 'category', 'url', 'start time', 'end time', 'id', 'clip_path'],\n",
      "    num_rows: 36\n",
      "})\n"
     ]
    }
   ],
   "source": [
    "missing_ds = sampled_ds.filter(lambda x: not x.get(\"clip_path\"))\n",
    "print(missing_ds)"
   ]
  },
  {
   "cell_type": "code",
   "execution_count": 47,
   "id": "bed371f8",
   "metadata": {},
   "outputs": [
    {
     "data": {
      "application/vnd.jupyter.widget-view+json": {
       "model_id": "caa4f68b174e4952ae075e5977b2b202",
       "version_major": 2,
       "version_minor": 0
      },
      "text/plain": [
       "Filter:   0%|          | 0/64 [00:00<?, ? examples/s]"
      ]
     },
     "metadata": {},
     "output_type": "display_data"
    },
    {
     "name": "stdout",
     "output_type": "stream",
     "text": [
      "Rows after drop: 64\n"
     ]
    }
   ],
   "source": [
    "sampled_ds = sampled_ds.filter(\n",
    "    lambda x: x.get(\"clip_path\") not in (\"\", None)\n",
    ")\n",
    "print(\"Rows after drop:\", len(sampled_ds))"
   ]
  },
  {
   "cell_type": "code",
   "execution_count": 48,
   "id": "83e43297",
   "metadata": {},
   "outputs": [
    {
     "data": {
      "application/vnd.jupyter.widget-view+json": {
       "model_id": "1e46185bd2104ff49f701693caa5cdf3",
       "version_major": 2,
       "version_minor": 0
      },
      "text/plain": [
       "Creating CSV from Arrow format:   0%|          | 0/1 [00:00<?, ?ba/s]"
      ]
     },
     "metadata": {},
     "output_type": "display_data"
    },
    {
     "data": {
      "text/plain": [
       "71419"
      ]
     },
     "execution_count": 48,
     "metadata": {},
     "output_type": "execute_result"
    }
   ],
   "source": [
    "sampled_ds.to_csv(\"data/sampled_msrvtt_clips.csv\")"
   ]
  }
 ],
 "metadata": {
  "kernelspec": {
   "display_name": "sumenv",
   "language": "python",
   "name": "python3"
  },
  "language_info": {
   "codemirror_mode": {
    "name": "ipython",
    "version": 3
   },
   "file_extension": ".py",
   "mimetype": "text/x-python",
   "name": "python",
   "nbconvert_exporter": "python",
   "pygments_lexer": "ipython3",
   "version": "3.11.9"
  }
 },
 "nbformat": 4,
 "nbformat_minor": 5
}
