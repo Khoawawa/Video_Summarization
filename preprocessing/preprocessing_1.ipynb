{
 "cells": [
  {
   "cell_type": "code",
   "id": "cf41f4ae",
   "metadata": {
    "ExecuteTime": {
     "end_time": "2025-10-02T11:02:26.240308Z",
     "start_time": "2025-10-02T11:02:19.716807Z"
    }
   },
   "source": [
    "import numpy as np\n",
    "import pandas as pd\n",
    "import random\n",
    "import torch\n",
    "import os\n",
    "seed = 42\n",
    "np.random.seed(seed)\n",
    "random.seed(seed)\n",
    "torch.manual_seed(seed)"
   ],
   "outputs": [
    {
     "data": {
      "text/plain": [
       "<torch._C.Generator at 0x1c29cfd4790>"
      ]
     },
     "execution_count": 2,
     "metadata": {},
     "output_type": "execute_result"
    }
   ],
   "execution_count": 2
  },
  {
   "cell_type": "code",
   "id": "d5c5f3e9",
   "metadata": {
    "ExecuteTime": {
     "end_time": "2025-10-02T11:02:45.439187Z",
     "start_time": "2025-10-02T11:02:30.837809Z"
    }
   },
   "source": [
    "from datasets import load_dataset\n",
    "\n",
    "# Login using e.g. `huggingface-cli login` to access this dataset\n",
    "ds = load_dataset(\"friedrichor/MSR-VTT\", \"train_7k\")['train']"
   ],
   "outputs": [
    {
     "name": "stderr",
     "output_type": "stream",
     "text": [
      "D:\\New folder\\python\\Lib\\site-packages\\tqdm\\auto.py:21: TqdmWarning: IProgress not found. Please update jupyter and ipywidgets. See https://ipywidgets.readthedocs.io/en/stable/user_install.html\n",
      "  from .autonotebook import tqdm as notebook_tqdm\n"
     ]
    }
   ],
   "execution_count": 3
  },
  {
   "metadata": {
    "ExecuteTime": {
     "end_time": "2025-10-02T11:03:41.176975Z",
     "start_time": "2025-10-02T11:03:41.091643Z"
    }
   },
   "cell_type": "code",
   "source": [
    "print(ds)\n",
    "print(ds.column_names)\n",
    "print(ds.features)\n",
    "sampled_ds = ds.shuffle(seed=seed).select(range(700))\n",
    "print(sampled_ds)\n",
    "data_path = os.path.join(\"data\", \"MSR-VTT\")\n",
    "os.makedirs(data_path, exist_ok=True)\n",
    "sample = sampled_ds[0]\n",
    "print(sample[\"video_id\"])\n",
    "print(sample[\"caption\"][:10])   # first ten captions\n",
    "print(sample[\"url\"])\n",
    "print(sample[\"start time\"], sample[\"end time\"])\n",
    "out = os.path.join(data_path, f\"{sample['video_id']}.mp4\")\n",
    "print(out)"
   ],
   "id": "1aa33efe59f754a8",
   "outputs": [
    {
     "name": "stdout",
     "output_type": "stream",
     "text": [
      "Dataset({\n",
      "    features: ['video_id', 'video', 'caption', 'source', 'category', 'url', 'start time', 'end time', 'id'],\n",
      "    num_rows: 7010\n",
      "})\n",
      "['video_id', 'video', 'caption', 'source', 'category', 'url', 'start time', 'end time', 'id']\n",
      "{'video_id': Value('string'), 'video': Value('string'), 'caption': List(Value('string')), 'source': Value('string'), 'category': Value('int64'), 'url': Value('string'), 'start time': Value('float64'), 'end time': Value('float64'), 'id': Value('int64')}\n",
      "Dataset({\n",
      "    features: ['video_id', 'video', 'caption', 'source', 'category', 'url', 'start time', 'end time', 'id'],\n",
      "    num_rows: 700\n",
      "})\n",
      "video6739\n",
      "['a clip of young woman singing on a stage', 'a group of women are singing a song', 'a group of women is performing a song live', 'a group of women singing on stage', 'a video of five women singing live', 'an all girl band sings on a live tv show', 'five female vocalists perform live', 'five ladies perform a song for a tv show', 'five women singing live on a show while sitting down', 'five women sitting in stools sing a song on a show']\n",
      "https://www.youtube.com/watch?v=LAq_T0RZikA\n",
      "73.95 87.7\n",
      "data\\MSR-VTT\\video6739.mp4\n"
     ]
    }
   ],
   "execution_count": 6
  },
  {
   "cell_type": "code",
   "id": "c6a6ee0a",
   "metadata": {
    "ExecuteTime": {
     "end_time": "2025-10-02T11:04:02.966605Z",
     "start_time": "2025-10-02T11:04:02.945134Z"
    }
   },
   "source": [
    "import subprocess\n",
    "failed_count = 0\n",
    "def download_clip(clip_info):\n",
    "    # Download and trim using ffmpeg\n",
    "    url =  clip_info['url']\n",
    "    start = 0\n",
    "    end = clip_info['end time'] - clip_info['start time']\n",
    "    out = os.path.join(data_path, f\"{clip_info['video_id']}.mp4\")\n",
    "    out = out.replace(\"\\\\\", \"/\")\n",
    "    global failed_count\n",
    "    failed_count += 1\n",
    "    ckp = r\"D:\\thanhloc\\Semester251\\DIP&CV\\yt_cookies.txt\"\n",
    "    if os.path.exists(out):\n",
    "        print(f\"File {out} already exists, skipping download.\")\n",
    "        return out\n",
    "    try:\n",
    "        cmd = [\n",
    "            \"yt-dlp\", \"--cookies\", ckp, \"--sleep-interval\", \"1\", \"--max-sleep-interval\", \"3\",\n",
    "            \"-f\", \"bestvideo[height<=480]*+bestaudio/best[height<=480]\",\n",
    "            \"-o\", out,\n",
    "            url\n",
    "        ]\n",
    "        subprocess.run(cmd, check=True)\n",
    "        return out\n",
    "    except Exception as e:\n",
    "        print(f\"Failed {clip_info['video_id']}: {e}\")\n",
    "        return \"\""
   ],
   "outputs": [],
   "execution_count": 7
  },
  {
   "metadata": {
    "ExecuteTime": {
     "end_time": "2025-10-02T11:25:48.056948Z",
     "start_time": "2025-10-02T11:04:05.698230Z"
    }
   },
   "cell_type": "code",
   "source": [
    "sampled_ds = sampled_ds.map(\n",
    "    lambda x: {\"clip_path\": download_clip(x)},\n",
    ")\n",
    "print(failed_count)\n",
    "print(sampled_ds)"
   ],
   "id": "6abad6ea23f50d0a",
   "outputs": [
    {
     "name": "stderr",
     "output_type": "stream",
     "text": [
      "Map:   0%|          | 0/700 [00:00<?, ? examples/s]"
     ]
    },
    {
     "name": "stdout",
     "output_type": "stream",
     "text": [
      "File data/MSR-VTT/video6739.mp4 already exists, skipping download.\n",
      "File data/MSR-VTT/video975.mp4 already exists, skipping download.\n"
     ]
    },
    {
     "name": "stderr",
     "output_type": "stream",
     "text": [
      "Map:   0%|          | 3/700 [00:03<11:49,  1.02s/ examples]"
     ]
    },
    {
     "name": "stdout",
     "output_type": "stream",
     "text": [
      "Failed video2663: Command '['yt-dlp', '--cookies', 'D:\\\\thanhloc\\\\Semester251\\\\DIP&CV\\\\yt_cookies.txt', '--sleep-interval', '1', '--max-sleep-interval', '3', '-f', 'bestvideo[height<=480]*+bestaudio/best[height<=480]', '-o', 'data/MSR-VTT/video2663.mp4', 'https://www.youtube.com/watch?v=Nwt-DUpKPYA']' returned non-zero exit status 1.\n",
      "File data/MSR-VTT/video143.mp4 already exists, skipping download.\n",
      "File data/MSR-VTT/video5587.mp4 already exists, skipping download.\n"
     ]
    },
    {
     "name": "stderr",
     "output_type": "stream",
     "text": [
      "Map:   1%|          | 6/700 [00:05<10:22,  1.11 examples/s]"
     ]
    },
    {
     "name": "stdout",
     "output_type": "stream",
     "text": [
      "Failed video6543: Command '['yt-dlp', '--cookies', 'D:\\\\thanhloc\\\\Semester251\\\\DIP&CV\\\\yt_cookies.txt', '--sleep-interval', '1', '--max-sleep-interval', '3', '-f', 'bestvideo[height<=480]*+bestaudio/best[height<=480]', '-o', 'data/MSR-VTT/video6543.mp4', 'https://www.youtube.com/watch?v=aLLyQByhtAs']' returned non-zero exit status 1.\n"
     ]
    },
    {
     "name": "stderr",
     "output_type": "stream",
     "text": [
      "Map:   1%|          | 7/700 [00:08<16:39,  1.44s/ examples]"
     ]
    },
    {
     "name": "stdout",
     "output_type": "stream",
     "text": [
      "Failed video4040: Command '['yt-dlp', '--cookies', 'D:\\\\thanhloc\\\\Semester251\\\\DIP&CV\\\\yt_cookies.txt', '--sleep-interval', '1', '--max-sleep-interval', '3', '-f', 'bestvideo[height<=480]*+bestaudio/best[height<=480]', '-o', 'data/MSR-VTT/video4040.mp4', 'https://www.youtube.com/watch?v=BO8qBDMCOXg']' returned non-zero exit status 1.\n"
     ]
    },
    {
     "name": "stderr",
     "output_type": "stream",
     "text": [
      "Map:   1%|          | 8/700 [00:11<19:41,  1.71s/ examples]"
     ]
    },
    {
     "name": "stdout",
     "output_type": "stream",
     "text": [
      "Failed video6643: Command '['yt-dlp', '--cookies', 'D:\\\\thanhloc\\\\Semester251\\\\DIP&CV\\\\yt_cookies.txt', '--sleep-interval', '1', '--max-sleep-interval', '3', '-f', 'bestvideo[height<=480]*+bestaudio/best[height<=480]', '-o', 'data/MSR-VTT/video6643.mp4', 'https://www.youtube.com/watch?v=8y0OkYa8v04']' returned non-zero exit status 1.\n",
      "File data/MSR-VTT/video2741.mp4 already exists, skipping download.\n"
     ]
    },
    {
     "name": "stderr",
     "output_type": "stream",
     "text": [
      "Map:   1%|▏         | 10/700 [00:14<18:16,  1.59s/ examples]"
     ]
    },
    {
     "name": "stdout",
     "output_type": "stream",
     "text": [
      "Failed video6694: Command '['yt-dlp', '--cookies', 'D:\\\\thanhloc\\\\Semester251\\\\DIP&CV\\\\yt_cookies.txt', '--sleep-interval', '1', '--max-sleep-interval', '3', '-f', 'bestvideo[height<=480]*+bestaudio/best[height<=480]', '-o', 'data/MSR-VTT/video6694.mp4', 'https://www.youtube.com/watch?v=jr3Itxn-w7E']' returned non-zero exit status 1.\n",
      "File data/MSR-VTT/video4432.mp4 already exists, skipping download.\n"
     ]
    },
    {
     "name": "stderr",
     "output_type": "stream",
     "text": [
      "Map:   2%|▏         | 12/700 [00:16<16:33,  1.44s/ examples]"
     ]
    },
    {
     "name": "stdout",
     "output_type": "stream",
     "text": [
      "Failed video5625: Command '['yt-dlp', '--cookies', 'D:\\\\thanhloc\\\\Semester251\\\\DIP&CV\\\\yt_cookies.txt', '--sleep-interval', '1', '--max-sleep-interval', '3', '-f', 'bestvideo[height<=480]*+bestaudio/best[height<=480]', '-o', 'data/MSR-VTT/video5625.mp4', 'https://www.youtube.com/watch?v=h1WCXCigZjY']' returned non-zero exit status 1.\n",
      "File data/MSR-VTT/video1270.mp4 already exists, skipping download.\n",
      "File data/MSR-VTT/video1939.mp4 already exists, skipping download.\n"
     ]
    },
    {
     "name": "stderr",
     "output_type": "stream",
     "text": [
      "Map:   2%|▏         | 15/700 [00:19<13:21,  1.17s/ examples]"
     ]
    },
    {
     "name": "stdout",
     "output_type": "stream",
     "text": [
      "Failed video4642: Command '['yt-dlp', '--cookies', 'D:\\\\thanhloc\\\\Semester251\\\\DIP&CV\\\\yt_cookies.txt', '--sleep-interval', '1', '--max-sleep-interval', '3', '-f', 'bestvideo[height<=480]*+bestaudio/best[height<=480]', '-o', 'data/MSR-VTT/video4642.mp4', 'https://www.youtube.com/watch?v=OvOiyXgiqPI']' returned non-zero exit status 1.\n",
      "File data/MSR-VTT/video983.mp4 already exists, skipping download.\n",
      "File data/MSR-VTT/video6058.mp4 already exists, skipping download.\n",
      "File data/MSR-VTT/video5712.mp4 already exists, skipping download.\n",
      "File data/MSR-VTT/video1821.mp4 already exists, skipping download.\n",
      "File data/MSR-VTT/video2439.mp4 already exists, skipping download.\n",
      "File data/MSR-VTT/video1528.mp4 already exists, skipping download.\n"
     ]
    },
    {
     "name": "stderr",
     "output_type": "stream",
     "text": [
      "Map:   3%|▎         | 22/700 [00:21<07:48,  1.45 examples/s]"
     ]
    },
    {
     "name": "stdout",
     "output_type": "stream",
     "text": [
      "Failed video4428: Command '['yt-dlp', '--cookies', 'D:\\\\thanhloc\\\\Semester251\\\\DIP&CV\\\\yt_cookies.txt', '--sleep-interval', '1', '--max-sleep-interval', '3', '-f', 'bestvideo[height<=480]*+bestaudio/best[height<=480]', '-o', 'data/MSR-VTT/video4428.mp4', 'https://www.youtube.com/watch?v=VWPX7fa8Zdc']' returned non-zero exit status 1.\n"
     ]
    },
    {
     "name": "stderr",
     "output_type": "stream",
     "text": [
      "Map:   3%|▎         | 23/700 [00:23<09:37,  1.17 examples/s]"
     ]
    },
    {
     "name": "stdout",
     "output_type": "stream",
     "text": [
      "Failed video276: Command '['yt-dlp', '--cookies', 'D:\\\\thanhloc\\\\Semester251\\\\DIP&CV\\\\yt_cookies.txt', '--sleep-interval', '1', '--max-sleep-interval', '3', '-f', 'bestvideo[height<=480]*+bestaudio/best[height<=480]', '-o', 'data/MSR-VTT/video276.mp4', 'https://www.youtube.com/watch?v=cmlq40G9xK8']' returned non-zero exit status 1.\n"
     ]
    },
    {
     "name": "stderr",
     "output_type": "stream",
     "text": [
      "Map:   3%|▎         | 24/700 [00:26<11:54,  1.06s/ examples]"
     ]
    },
    {
     "name": "stdout",
     "output_type": "stream",
     "text": [
      "Failed video4790: Command '['yt-dlp', '--cookies', 'D:\\\\thanhloc\\\\Semester251\\\\DIP&CV\\\\yt_cookies.txt', '--sleep-interval', '1', '--max-sleep-interval', '3', '-f', 'bestvideo[height<=480]*+bestaudio/best[height<=480]', '-o', 'data/MSR-VTT/video4790.mp4', 'https://www.youtube.com/watch?v=yanhLWWUqic']' returned non-zero exit status 1.\n",
      "File data/MSR-VTT/video4932.mp4 already exists, skipping download.\n"
     ]
    },
    {
     "name": "stderr",
     "output_type": "stream",
     "text": [
      "Map:   4%|▎         | 26/700 [00:29<13:21,  1.19s/ examples]"
     ]
    },
    {
     "name": "stdout",
     "output_type": "stream",
     "text": [
      "Failed video436: Command '['yt-dlp', '--cookies', 'D:\\\\thanhloc\\\\Semester251\\\\DIP&CV\\\\yt_cookies.txt', '--sleep-interval', '1', '--max-sleep-interval', '3', '-f', 'bestvideo[height<=480]*+bestaudio/best[height<=480]', '-o', 'data/MSR-VTT/video436.mp4', 'https://www.youtube.com/watch?v=t9rCQk9NhJs']' returned non-zero exit status 1.\n",
      "File data/MSR-VTT/video4688.mp4 already exists, skipping download.\n",
      "File data/MSR-VTT/video4755.mp4 already exists, skipping download.\n"
     ]
    },
    {
     "name": "stderr",
     "output_type": "stream",
     "text": [
      "Map:   4%|▍         | 29/700 [00:31<11:40,  1.04s/ examples]"
     ]
    },
    {
     "name": "stdout",
     "output_type": "stream",
     "text": [
      "Failed video906: Command '['yt-dlp', '--cookies', 'D:\\\\thanhloc\\\\Semester251\\\\DIP&CV\\\\yt_cookies.txt', '--sleep-interval', '1', '--max-sleep-interval', '3', '-f', 'bestvideo[height<=480]*+bestaudio/best[height<=480]', '-o', 'data/MSR-VTT/video906.mp4', 'https://www.youtube.com/watch?v=uVXK6RMm__4']' returned non-zero exit status 1.\n",
      "File data/MSR-VTT/video960.mp4 already exists, skipping download.\n",
      "File data/MSR-VTT/video6268.mp4 already exists, skipping download.\n",
      "File data/MSR-VTT/video1220.mp4 already exists, skipping download.\n",
      "File data/MSR-VTT/video90.mp4 already exists, skipping download.\n",
      "File data/MSR-VTT/video765.mp4 already exists, skipping download.\n",
      "File data/MSR-VTT/video2212.mp4 already exists, skipping download.\n"
     ]
    },
    {
     "name": "stderr",
     "output_type": "stream",
     "text": [
      "Map:   5%|▌         | 36/700 [00:34<07:22,  1.50 examples/s]"
     ]
    },
    {
     "name": "stdout",
     "output_type": "stream",
     "text": [
      "Failed video1436: Command '['yt-dlp', '--cookies', 'D:\\\\thanhloc\\\\Semester251\\\\DIP&CV\\\\yt_cookies.txt', '--sleep-interval', '1', '--max-sleep-interval', '3', '-f', 'bestvideo[height<=480]*+bestaudio/best[height<=480]', '-o', 'data/MSR-VTT/video1436.mp4', 'https://www.youtube.com/watch?v=3MItv-PTKaE']' returned non-zero exit status 1.\n",
      "File data/MSR-VTT/video4419.mp4 already exists, skipping download.\n",
      "File data/MSR-VTT/video6044.mp4 already exists, skipping download.\n",
      "File data/MSR-VTT/video5130.mp4 already exists, skipping download.\n"
     ]
    },
    {
     "name": "stderr",
     "output_type": "stream",
     "text": [
      "Map:   6%|▌         | 40/700 [00:37<08:02,  1.37 examples/s]"
     ]
    },
    {
     "name": "stdout",
     "output_type": "stream",
     "text": [
      "Failed video4468: Command '['yt-dlp', '--cookies', 'D:\\\\thanhloc\\\\Semester251\\\\DIP&CV\\\\yt_cookies.txt', '--sleep-interval', '1', '--max-sleep-interval', '3', '-f', 'bestvideo[height<=480]*+bestaudio/best[height<=480]', '-o', 'data/MSR-VTT/video4468.mp4', 'https://www.youtube.com/watch?v=BTxuQwiY7eE']' returned non-zero exit status 1.\n",
      "File data/MSR-VTT/video4174.mp4 already exists, skipping download.\n",
      "File data/MSR-VTT/video2259.mp4 already exists, skipping download.\n",
      "File data/MSR-VTT/video1072.mp4 already exists, skipping download.\n",
      "File data/MSR-VTT/video2871.mp4 already exists, skipping download.\n",
      "File data/MSR-VTT/video3280.mp4 already exists, skipping download.\n",
      "File data/MSR-VTT/video5761.mp4 already exists, skipping download.\n"
     ]
    },
    {
     "name": "stderr",
     "output_type": "stream",
     "text": [
      "Map:   7%|▋         | 47/700 [00:41<07:05,  1.53 examples/s]"
     ]
    },
    {
     "name": "stdout",
     "output_type": "stream",
     "text": [
      "Failed video1478: Command '['yt-dlp', '--cookies', 'D:\\\\thanhloc\\\\Semester251\\\\DIP&CV\\\\yt_cookies.txt', '--sleep-interval', '1', '--max-sleep-interval', '3', '-f', 'bestvideo[height<=480]*+bestaudio/best[height<=480]', '-o', 'data/MSR-VTT/video1478.mp4', 'https://www.youtube.com/watch?v=lp22693hJOs']' returned non-zero exit status 1.\n"
     ]
    },
    {
     "name": "stderr",
     "output_type": "stream",
     "text": [
      "Map:   7%|▋         | 48/700 [00:45<09:42,  1.12 examples/s]"
     ]
    },
    {
     "name": "stdout",
     "output_type": "stream",
     "text": [
      "Failed video2542: Command '['yt-dlp', '--cookies', 'D:\\\\thanhloc\\\\Semester251\\\\DIP&CV\\\\yt_cookies.txt', '--sleep-interval', '1', '--max-sleep-interval', '3', '-f', 'bestvideo[height<=480]*+bestaudio/best[height<=480]', '-o', 'data/MSR-VTT/video2542.mp4', 'https://www.youtube.com/watch?v=wO9Dh2rgPdQ']' returned non-zero exit status 1.\n",
      "File data/MSR-VTT/video5323.mp4 already exists, skipping download.\n",
      "File data/MSR-VTT/video6717.mp4 already exists, skipping download.\n",
      "File data/MSR-VTT/video4767.mp4 already exists, skipping download.\n",
      "File data/MSR-VTT/video6764.mp4 already exists, skipping download.\n",
      "File data/MSR-VTT/video5369.mp4 already exists, skipping download.\n",
      "File data/MSR-VTT/video4561.mp4 already exists, skipping download.\n",
      "File data/MSR-VTT/video1707.mp4 already exists, skipping download.\n"
     ]
    },
    {
     "name": "stderr",
     "output_type": "stream",
     "text": [
      "Map:   8%|▊         | 56/700 [00:48<07:01,  1.53 examples/s]"
     ]
    },
    {
     "name": "stdout",
     "output_type": "stream",
     "text": [
      "Failed video6376: Command '['yt-dlp', '--cookies', 'D:\\\\thanhloc\\\\Semester251\\\\DIP&CV\\\\yt_cookies.txt', '--sleep-interval', '1', '--max-sleep-interval', '3', '-f', 'bestvideo[height<=480]*+bestaudio/best[height<=480]', '-o', 'data/MSR-VTT/video6376.mp4', 'https://www.youtube.com/watch?v=v2oGvv4p7Ug']' returned non-zero exit status 1.\n",
      "File data/MSR-VTT/video6398.mp4 already exists, skipping download.\n",
      "File data/MSR-VTT/video5200.mp4 already exists, skipping download.\n",
      "File data/MSR-VTT/video2978.mp4 already exists, skipping download.\n",
      "File data/MSR-VTT/video6241.mp4 already exists, skipping download.\n",
      "File data/MSR-VTT/video3582.mp4 already exists, skipping download.\n",
      "File data/MSR-VTT/video6298.mp4 already exists, skipping download.\n",
      "File data/MSR-VTT/video233.mp4 already exists, skipping download.\n",
      "File data/MSR-VTT/video4072.mp4 already exists, skipping download.\n",
      "File data/MSR-VTT/video5255.mp4 already exists, skipping download.\n"
     ]
    },
    {
     "name": "stderr",
     "output_type": "stream",
     "text": [
      "Map:   9%|▉         | 66/700 [00:50<04:58,  2.12 examples/s]"
     ]
    },
    {
     "name": "stdout",
     "output_type": "stream",
     "text": [
      "Failed video5711: Command '['yt-dlp', '--cookies', 'D:\\\\thanhloc\\\\Semester251\\\\DIP&CV\\\\yt_cookies.txt', '--sleep-interval', '1', '--max-sleep-interval', '3', '-f', 'bestvideo[height<=480]*+bestaudio/best[height<=480]', '-o', 'data/MSR-VTT/video5711.mp4', 'https://www.youtube.com/watch?v=KieIrXqlo1k']' returned non-zero exit status 1.\n"
     ]
    },
    {
     "name": "stderr",
     "output_type": "stream",
     "text": [
      "Map:  10%|▉         | 67/700 [00:53<06:25,  1.64 examples/s]"
     ]
    },
    {
     "name": "stdout",
     "output_type": "stream",
     "text": [
      "Failed video1914: Command '['yt-dlp', '--cookies', 'D:\\\\thanhloc\\\\Semester251\\\\DIP&CV\\\\yt_cookies.txt', '--sleep-interval', '1', '--max-sleep-interval', '3', '-f', 'bestvideo[height<=480]*+bestaudio/best[height<=480]', '-o', 'data/MSR-VTT/video1914.mp4', 'https://www.youtube.com/watch?v=9GfbMqJMnjU']' returned non-zero exit status 1.\n",
      "File data/MSR-VTT/video963.mp4 already exists, skipping download.\n"
     ]
    },
    {
     "name": "stderr",
     "output_type": "stream",
     "text": [
      "Map:  10%|▉         | 69/700 [00:55<07:17,  1.44 examples/s]"
     ]
    },
    {
     "name": "stdout",
     "output_type": "stream",
     "text": [
      "Failed video3730: Command '['yt-dlp', '--cookies', 'D:\\\\thanhloc\\\\Semester251\\\\DIP&CV\\\\yt_cookies.txt', '--sleep-interval', '1', '--max-sleep-interval', '3', '-f', 'bestvideo[height<=480]*+bestaudio/best[height<=480]', '-o', 'data/MSR-VTT/video3730.mp4', 'https://www.youtube.com/watch?v=X4aYH4lx4D0']' returned non-zero exit status 1.\n",
      "File data/MSR-VTT/video3974.mp4 already exists, skipping download.\n"
     ]
    },
    {
     "name": "stderr",
     "output_type": "stream",
     "text": [
      "Map:  10%|█         | 71/700 [00:58<08:13,  1.28 examples/s]"
     ]
    },
    {
     "name": "stdout",
     "output_type": "stream",
     "text": [
      "Failed video5052: Command '['yt-dlp', '--cookies', 'D:\\\\thanhloc\\\\Semester251\\\\DIP&CV\\\\yt_cookies.txt', '--sleep-interval', '1', '--max-sleep-interval', '3', '-f', 'bestvideo[height<=480]*+bestaudio/best[height<=480]', '-o', 'data/MSR-VTT/video5052.mp4', 'https://www.youtube.com/watch?v=BwivUI1TtHA']' returned non-zero exit status 1.\n",
      "File data/MSR-VTT/video724.mp4 already exists, skipping download.\n",
      "File data/MSR-VTT/video1439.mp4 already exists, skipping download.\n",
      "File data/MSR-VTT/video3680.mp4 already exists, skipping download.\n",
      "File data/MSR-VTT/video6546.mp4 already exists, skipping download.\n",
      "File data/MSR-VTT/video6262.mp4 already exists, skipping download.\n",
      "File data/MSR-VTT/video2898.mp4 already exists, skipping download.\n",
      "File data/MSR-VTT/video4557.mp4 already exists, skipping download.\n"
     ]
    },
    {
     "name": "stderr",
     "output_type": "stream",
     "text": [
      "Map:  11%|█▏        | 79/700 [01:00<05:37,  1.84 examples/s]"
     ]
    },
    {
     "name": "stdout",
     "output_type": "stream",
     "text": [
      "Failed video3883: Command '['yt-dlp', '--cookies', 'D:\\\\thanhloc\\\\Semester251\\\\DIP&CV\\\\yt_cookies.txt', '--sleep-interval', '1', '--max-sleep-interval', '3', '-f', 'bestvideo[height<=480]*+bestaudio/best[height<=480]', '-o', 'data/MSR-VTT/video3883.mp4', 'https://www.youtube.com/watch?v=wysv4Na2QsA']' returned non-zero exit status 1.\n",
      "File data/MSR-VTT/video5525.mp4 already exists, skipping download.\n",
      "File data/MSR-VTT/video5013.mp4 already exists, skipping download.\n",
      "File data/MSR-VTT/video6880.mp4 already exists, skipping download.\n"
     ]
    },
    {
     "name": "stderr",
     "output_type": "stream",
     "text": [
      "Map:  12%|█▏        | 83/700 [01:03<05:52,  1.75 examples/s]"
     ]
    },
    {
     "name": "stdout",
     "output_type": "stream",
     "text": [
      "Failed video4708: Command '['yt-dlp', '--cookies', 'D:\\\\thanhloc\\\\Semester251\\\\DIP&CV\\\\yt_cookies.txt', '--sleep-interval', '1', '--max-sleep-interval', '3', '-f', 'bestvideo[height<=480]*+bestaudio/best[height<=480]', '-o', 'data/MSR-VTT/video4708.mp4', 'https://www.youtube.com/watch?v=6PlWmEUHHpM']' returned non-zero exit status 1.\n",
      "File data/MSR-VTT/video3061.mp4 already exists, skipping download.\n"
     ]
    },
    {
     "name": "stderr",
     "output_type": "stream",
     "text": [
      "Map:  12%|█▏        | 85/700 [01:06<07:10,  1.43 examples/s]"
     ]
    },
    {
     "name": "stdout",
     "output_type": "stream",
     "text": [
      "Failed video5581: Command '['yt-dlp', '--cookies', 'D:\\\\thanhloc\\\\Semester251\\\\DIP&CV\\\\yt_cookies.txt', '--sleep-interval', '1', '--max-sleep-interval', '3', '-f', 'bestvideo[height<=480]*+bestaudio/best[height<=480]', '-o', 'data/MSR-VTT/video5581.mp4', 'https://www.youtube.com/watch?v=M1G1aSidDCY']' returned non-zero exit status 1.\n"
     ]
    },
    {
     "name": "stderr",
     "output_type": "stream",
     "text": [
      "Map:  12%|█▏        | 86/700 [01:08<08:57,  1.14 examples/s]"
     ]
    },
    {
     "name": "stdout",
     "output_type": "stream",
     "text": [
      "Failed video4572: Command '['yt-dlp', '--cookies', 'D:\\\\thanhloc\\\\Semester251\\\\DIP&CV\\\\yt_cookies.txt', '--sleep-interval', '1', '--max-sleep-interval', '3', '-f', 'bestvideo[height<=480]*+bestaudio/best[height<=480]', '-o', 'data/MSR-VTT/video4572.mp4', 'https://www.youtube.com/watch?v=306TaVmMadc']' returned non-zero exit status 1.\n",
      "File data/MSR-VTT/video1414.mp4 already exists, skipping download.\n"
     ]
    },
    {
     "name": "stderr",
     "output_type": "stream",
     "text": [
      "Map:  13%|█▎        | 88/700 [01:11<10:30,  1.03s/ examples]"
     ]
    },
    {
     "name": "stdout",
     "output_type": "stream",
     "text": [
      "Failed video4203: Command '['yt-dlp', '--cookies', 'D:\\\\thanhloc\\\\Semester251\\\\DIP&CV\\\\yt_cookies.txt', '--sleep-interval', '1', '--max-sleep-interval', '3', '-f', 'bestvideo[height<=480]*+bestaudio/best[height<=480]', '-o', 'data/MSR-VTT/video4203.mp4', 'https://www.youtube.com/watch?v=lp22693hJOs']' returned non-zero exit status 1.\n"
     ]
    },
    {
     "name": "stderr",
     "output_type": "stream",
     "text": [
      "Map:  13%|█▎        | 89/700 [01:14<12:37,  1.24s/ examples]"
     ]
    },
    {
     "name": "stdout",
     "output_type": "stream",
     "text": [
      "Failed video2018: Command '['yt-dlp', '--cookies', 'D:\\\\thanhloc\\\\Semester251\\\\DIP&CV\\\\yt_cookies.txt', '--sleep-interval', '1', '--max-sleep-interval', '3', '-f', 'bestvideo[height<=480]*+bestaudio/best[height<=480]', '-o', 'data/MSR-VTT/video2018.mp4', 'https://www.youtube.com/watch?v=yzCoQBA0ZmI']' returned non-zero exit status 1.\n"
     ]
    },
    {
     "name": "stderr",
     "output_type": "stream",
     "text": [
      "Map:  13%|█▎        | 90/700 [01:17<16:14,  1.60s/ examples]"
     ]
    },
    {
     "name": "stdout",
     "output_type": "stream",
     "text": [
      "Failed video1145: Command '['yt-dlp', '--cookies', 'D:\\\\thanhloc\\\\Semester251\\\\DIP&CV\\\\yt_cookies.txt', '--sleep-interval', '1', '--max-sleep-interval', '3', '-f', 'bestvideo[height<=480]*+bestaudio/best[height<=480]', '-o', 'data/MSR-VTT/video1145.mp4', 'https://www.youtube.com/watch?v=2ouEGj3FISc']' returned non-zero exit status 1.\n",
      "File data/MSR-VTT/video2734.mp4 already exists, skipping download.\n",
      "File data/MSR-VTT/video1653.mp4 already exists, skipping download.\n"
     ]
    },
    {
     "name": "stderr",
     "output_type": "stream",
     "text": [
      "Map:  13%|█▎        | 93/700 [01:20<13:23,  1.32s/ examples]"
     ]
    },
    {
     "name": "stdout",
     "output_type": "stream",
     "text": [
      "Failed video1574: Command '['yt-dlp', '--cookies', 'D:\\\\thanhloc\\\\Semester251\\\\DIP&CV\\\\yt_cookies.txt', '--sleep-interval', '1', '--max-sleep-interval', '3', '-f', 'bestvideo[height<=480]*+bestaudio/best[height<=480]', '-o', 'data/MSR-VTT/video1574.mp4', 'https://www.youtube.com/watch?v=Aj167ozPAw0']' returned non-zero exit status 1.\n"
     ]
    },
    {
     "name": "stderr",
     "output_type": "stream",
     "text": [
      "Map:  13%|█▎        | 94/700 [01:23<16:03,  1.59s/ examples]"
     ]
    },
    {
     "name": "stdout",
     "output_type": "stream",
     "text": [
      "Failed video6063: Command '['yt-dlp', '--cookies', 'D:\\\\thanhloc\\\\Semester251\\\\DIP&CV\\\\yt_cookies.txt', '--sleep-interval', '1', '--max-sleep-interval', '3', '-f', 'bestvideo[height<=480]*+bestaudio/best[height<=480]', '-o', 'data/MSR-VTT/video6063.mp4', 'https://www.youtube.com/watch?v=XQl-6sN7XM8']' returned non-zero exit status 1.\n"
     ]
    },
    {
     "name": "stderr",
     "output_type": "stream",
     "text": [
      "Map:  14%|█▎        | 95/700 [01:26<17:59,  1.78s/ examples]"
     ]
    },
    {
     "name": "stdout",
     "output_type": "stream",
     "text": [
      "Failed video812: Command '['yt-dlp', '--cookies', 'D:\\\\thanhloc\\\\Semester251\\\\DIP&CV\\\\yt_cookies.txt', '--sleep-interval', '1', '--max-sleep-interval', '3', '-f', 'bestvideo[height<=480]*+bestaudio/best[height<=480]', '-o', 'data/MSR-VTT/video812.mp4', 'https://www.youtube.com/watch?v=YGhRZunT8lQ']' returned non-zero exit status 1.\n",
      "File data/MSR-VTT/video6700.mp4 already exists, skipping download.\n"
     ]
    },
    {
     "name": "stderr",
     "output_type": "stream",
     "text": [
      "Map:  14%|█▍        | 97/700 [01:28<16:27,  1.64s/ examples]"
     ]
    },
    {
     "name": "stdout",
     "output_type": "stream",
     "text": [
      "Failed video1789: Command '['yt-dlp', '--cookies', 'D:\\\\thanhloc\\\\Semester251\\\\DIP&CV\\\\yt_cookies.txt', '--sleep-interval', '1', '--max-sleep-interval', '3', '-f', 'bestvideo[height<=480]*+bestaudio/best[height<=480]', '-o', 'data/MSR-VTT/video1789.mp4', 'https://www.youtube.com/watch?v=__xGK3LU8xs']' returned non-zero exit status 1.\n",
      "File data/MSR-VTT/video819.mp4 already exists, skipping download.\n",
      "File data/MSR-VTT/video1483.mp4 already exists, skipping download.\n",
      "File data/MSR-VTT/video487.mp4 already exists, skipping download.\n"
     ]
    },
    {
     "name": "stderr",
     "output_type": "stream",
     "text": [
      "Map:  14%|█▍        | 101/700 [01:31<10:59,  1.10s/ examples]"
     ]
    },
    {
     "name": "stdout",
     "output_type": "stream",
     "text": [
      "Failed video4006: Command '['yt-dlp', '--cookies', 'D:\\\\thanhloc\\\\Semester251\\\\DIP&CV\\\\yt_cookies.txt', '--sleep-interval', '1', '--max-sleep-interval', '3', '-f', 'bestvideo[height<=480]*+bestaudio/best[height<=480]', '-o', 'data/MSR-VTT/video4006.mp4', 'https://www.youtube.com/watch?v=CHVZH5R6SqM']' returned non-zero exit status 1.\n"
     ]
    },
    {
     "name": "stderr",
     "output_type": "stream",
     "text": [
      "Map:  15%|█▍        | 102/700 [01:33<12:39,  1.27s/ examples]"
     ]
    },
    {
     "name": "stdout",
     "output_type": "stream",
     "text": [
      "Failed video355: Command '['yt-dlp', '--cookies', 'D:\\\\thanhloc\\\\Semester251\\\\DIP&CV\\\\yt_cookies.txt', '--sleep-interval', '1', '--max-sleep-interval', '3', '-f', 'bestvideo[height<=480]*+bestaudio/best[height<=480]', '-o', 'data/MSR-VTT/video355.mp4', 'https://www.youtube.com/watch?v=wpEfMKsXL68']' returned non-zero exit status 1.\n",
      "File data/MSR-VTT/video6093.mp4 already exists, skipping download.\n",
      "File data/MSR-VTT/video2008.mp4 already exists, skipping download.\n",
      "File data/MSR-VTT/video1168.mp4 already exists, skipping download.\n",
      "File data/MSR-VTT/video6705.mp4 already exists, skipping download.\n",
      "File data/MSR-VTT/video4854.mp4 already exists, skipping download.\n",
      "File data/MSR-VTT/video756.mp4 already exists, skipping download.\n",
      "File data/MSR-VTT/video3453.mp4 already exists, skipping download.\n",
      "File data/MSR-VTT/video3278.mp4 already exists, skipping download.\n",
      "File data/MSR-VTT/video6234.mp4 already exists, skipping download.\n",
      "File data/MSR-VTT/video3250.mp4 already exists, skipping download.\n",
      "File data/MSR-VTT/video5535.mp4 already exists, skipping download.\n"
     ]
    },
    {
     "name": "stderr",
     "output_type": "stream",
     "text": [
      "Map:  16%|█▋        | 114/700 [01:35<04:41,  2.08 examples/s]"
     ]
    },
    {
     "name": "stdout",
     "output_type": "stream",
     "text": [
      "Failed video6320: Command '['yt-dlp', '--cookies', 'D:\\\\thanhloc\\\\Semester251\\\\DIP&CV\\\\yt_cookies.txt', '--sleep-interval', '1', '--max-sleep-interval', '3', '-f', 'bestvideo[height<=480]*+bestaudio/best[height<=480]', '-o', 'data/MSR-VTT/video6320.mp4', 'https://www.youtube.com/watch?v=zh7nb_LpUNs']' returned non-zero exit status 1.\n",
      "File data/MSR-VTT/video6733.mp4 already exists, skipping download.\n",
      "File data/MSR-VTT/video3022.mp4 already exists, skipping download.\n"
     ]
    },
    {
     "name": "stderr",
     "output_type": "stream",
     "text": [
      "Map:  17%|█▋        | 117/700 [01:37<05:20,  1.82 examples/s]"
     ]
    },
    {
     "name": "stdout",
     "output_type": "stream",
     "text": [
      "Failed video2040: Command '['yt-dlp', '--cookies', 'D:\\\\thanhloc\\\\Semester251\\\\DIP&CV\\\\yt_cookies.txt', '--sleep-interval', '1', '--max-sleep-interval', '3', '-f', 'bestvideo[height<=480]*+bestaudio/best[height<=480]', '-o', 'data/MSR-VTT/video2040.mp4', 'https://www.youtube.com/watch?v=xrX2pvk6MTU']' returned non-zero exit status 1.\n",
      "File data/MSR-VTT/video2105.mp4 already exists, skipping download.\n"
     ]
    },
    {
     "name": "stderr",
     "output_type": "stream",
     "text": [
      "Map:  17%|█▋        | 119/700 [01:40<06:24,  1.51 examples/s]"
     ]
    },
    {
     "name": "stdout",
     "output_type": "stream",
     "text": [
      "Failed video1812: Command '['yt-dlp', '--cookies', 'D:\\\\thanhloc\\\\Semester251\\\\DIP&CV\\\\yt_cookies.txt', '--sleep-interval', '1', '--max-sleep-interval', '3', '-f', 'bestvideo[height<=480]*+bestaudio/best[height<=480]', '-o', 'data/MSR-VTT/video1812.mp4', 'https://www.youtube.com/watch?v=VMcGOFsJl1A']' returned non-zero exit status 1.\n"
     ]
    },
    {
     "name": "stderr",
     "output_type": "stream",
     "text": [
      "Map:  17%|█▋        | 120/700 [01:42<08:08,  1.19 examples/s]"
     ]
    },
    {
     "name": "stdout",
     "output_type": "stream",
     "text": [
      "Failed video337: Command '['yt-dlp', '--cookies', 'D:\\\\thanhloc\\\\Semester251\\\\DIP&CV\\\\yt_cookies.txt', '--sleep-interval', '1', '--max-sleep-interval', '3', '-f', 'bestvideo[height<=480]*+bestaudio/best[height<=480]', '-o', 'data/MSR-VTT/video337.mp4', 'https://www.youtube.com/watch?v=97hO7FlaAok']' returned non-zero exit status 1.\n"
     ]
    },
    {
     "name": "stderr",
     "output_type": "stream",
     "text": [
      "Map:  17%|█▋        | 121/700 [01:45<10:36,  1.10s/ examples]"
     ]
    },
    {
     "name": "stdout",
     "output_type": "stream",
     "text": [
      "Failed video6580: Command '['yt-dlp', '--cookies', 'D:\\\\thanhloc\\\\Semester251\\\\DIP&CV\\\\yt_cookies.txt', '--sleep-interval', '1', '--max-sleep-interval', '3', '-f', 'bestvideo[height<=480]*+bestaudio/best[height<=480]', '-o', 'data/MSR-VTT/video6580.mp4', 'https://www.youtube.com/watch?v=CgISxAg2RI8']' returned non-zero exit status 1.\n",
      "File data/MSR-VTT/video5303.mp4 already exists, skipping download.\n",
      "File data/MSR-VTT/video4985.mp4 already exists, skipping download.\n"
     ]
    },
    {
     "name": "stderr",
     "output_type": "stream",
     "text": [
      "Map:  18%|█▊        | 124/700 [01:48<09:49,  1.02s/ examples]"
     ]
    },
    {
     "name": "stdout",
     "output_type": "stream",
     "text": [
      "Failed video4981: Command '['yt-dlp', '--cookies', 'D:\\\\thanhloc\\\\Semester251\\\\DIP&CV\\\\yt_cookies.txt', '--sleep-interval', '1', '--max-sleep-interval', '3', '-f', 'bestvideo[height<=480]*+bestaudio/best[height<=480]', '-o', 'data/MSR-VTT/video4981.mp4', 'https://www.youtube.com/watch?v=6uohc4X3cO0']' returned non-zero exit status 1.\n",
      "File data/MSR-VTT/video3644.mp4 already exists, skipping download.\n",
      "File data/MSR-VTT/video6046.mp4 already exists, skipping download.\n",
      "File data/MSR-VTT/video2465.mp4 already exists, skipping download.\n",
      "File data/MSR-VTT/video192.mp4 already exists, skipping download.\n",
      "File data/MSR-VTT/video4069.mp4 already exists, skipping download.\n"
     ]
    },
    {
     "name": "stderr",
     "output_type": "stream",
     "text": [
      "Map:  19%|█▊        | 130/700 [01:50<06:55,  1.37 examples/s]"
     ]
    },
    {
     "name": "stdout",
     "output_type": "stream",
     "text": [
      "Failed video4431: Command '['yt-dlp', '--cookies', 'D:\\\\thanhloc\\\\Semester251\\\\DIP&CV\\\\yt_cookies.txt', '--sleep-interval', '1', '--max-sleep-interval', '3', '-f', 'bestvideo[height<=480]*+bestaudio/best[height<=480]', '-o', 'data/MSR-VTT/video4431.mp4', 'https://www.youtube.com/watch?v=wl8zw8AH4Ho']' returned non-zero exit status 1.\n",
      "File data/MSR-VTT/video3043.mp4 already exists, skipping download.\n"
     ]
    },
    {
     "name": "stderr",
     "output_type": "stream",
     "text": [
      "Map:  19%|█▉        | 132/700 [01:53<08:07,  1.17 examples/s]"
     ]
    },
    {
     "name": "stdout",
     "output_type": "stream",
     "text": [
      "Failed video4794: Command '['yt-dlp', '--cookies', 'D:\\\\thanhloc\\\\Semester251\\\\DIP&CV\\\\yt_cookies.txt', '--sleep-interval', '1', '--max-sleep-interval', '3', '-f', 'bestvideo[height<=480]*+bestaudio/best[height<=480]', '-o', 'data/MSR-VTT/video4794.mp4', 'https://www.youtube.com/watch?v=5bqDu6ahJAU']' returned non-zero exit status 1.\n",
      "File data/MSR-VTT/video2304.mp4 already exists, skipping download.\n",
      "File data/MSR-VTT/video1700.mp4 already exists, skipping download.\n",
      "File data/MSR-VTT/video1641.mp4 already exists, skipping download.\n",
      "File data/MSR-VTT/video3089.mp4 already exists, skipping download.\n",
      "File data/MSR-VTT/video3852.mp4 already exists, skipping download.\n",
      "File data/MSR-VTT/video860.mp4 already exists, skipping download.\n",
      "File data/MSR-VTT/video965.mp4 already exists, skipping download.\n",
      "File data/MSR-VTT/video3182.mp4 already exists, skipping download.\n",
      "File data/MSR-VTT/video4567.mp4 already exists, skipping download.\n",
      "File data/MSR-VTT/video416.mp4 already exists, skipping download.\n",
      "File data/MSR-VTT/video722.mp4 already exists, skipping download.\n"
     ]
    },
    {
     "name": "stderr",
     "output_type": "stream",
     "text": [
      "Map:  21%|██        | 144/700 [01:56<04:13,  2.19 examples/s]"
     ]
    },
    {
     "name": "stdout",
     "output_type": "stream",
     "text": [
      "Failed video5588: Command '['yt-dlp', '--cookies', 'D:\\\\thanhloc\\\\Semester251\\\\DIP&CV\\\\yt_cookies.txt', '--sleep-interval', '1', '--max-sleep-interval', '3', '-f', 'bestvideo[height<=480]*+bestaudio/best[height<=480]', '-o', 'data/MSR-VTT/video5588.mp4', 'https://www.youtube.com/watch?v=hFbiCSOgEAg']' returned non-zero exit status 1.\n"
     ]
    },
    {
     "name": "stderr",
     "output_type": "stream",
     "text": [
      "Map:  21%|██        | 145/700 [01:59<05:47,  1.59 examples/s]"
     ]
    },
    {
     "name": "stdout",
     "output_type": "stream",
     "text": [
      "Failed video5023: Command '['yt-dlp', '--cookies', 'D:\\\\thanhloc\\\\Semester251\\\\DIP&CV\\\\yt_cookies.txt', '--sleep-interval', '1', '--max-sleep-interval', '3', '-f', 'bestvideo[height<=480]*+bestaudio/best[height<=480]', '-o', 'data/MSR-VTT/video5023.mp4', 'https://www.youtube.com/watch?v=c3UcJGVtgrU']' returned non-zero exit status 1.\n",
      "File data/MSR-VTT/video5744.mp4 already exists, skipping download.\n"
     ]
    },
    {
     "name": "stderr",
     "output_type": "stream",
     "text": [
      "Map:  21%|██        | 147/700 [02:01<06:46,  1.36 examples/s]"
     ]
    },
    {
     "name": "stdout",
     "output_type": "stream",
     "text": [
      "Failed video2409: Command '['yt-dlp', '--cookies', 'D:\\\\thanhloc\\\\Semester251\\\\DIP&CV\\\\yt_cookies.txt', '--sleep-interval', '1', '--max-sleep-interval', '3', '-f', 'bestvideo[height<=480]*+bestaudio/best[height<=480]', '-o', 'data/MSR-VTT/video2409.mp4', 'https://www.youtube.com/watch?v=zj5L6-D06EI']' returned non-zero exit status 1.\n",
      "File data/MSR-VTT/video4312.mp4 already exists, skipping download.\n",
      "File data/MSR-VTT/video2354.mp4 already exists, skipping download.\n",
      "File data/MSR-VTT/video1490.mp4 already exists, skipping download.\n",
      "File data/MSR-VTT/video4066.mp4 already exists, skipping download.\n",
      "File data/MSR-VTT/video130.mp4 already exists, skipping download.\n",
      "File data/MSR-VTT/video2544.mp4 already exists, skipping download.\n",
      "File data/MSR-VTT/video2273.mp4 already exists, skipping download.\n"
     ]
    },
    {
     "name": "stderr",
     "output_type": "stream",
     "text": [
      "Map:  22%|██▏       | 155/700 [02:04<04:48,  1.89 examples/s]"
     ]
    },
    {
     "name": "stdout",
     "output_type": "stream",
     "text": [
      "Failed video633: Command '['yt-dlp', '--cookies', 'D:\\\\thanhloc\\\\Semester251\\\\DIP&CV\\\\yt_cookies.txt', '--sleep-interval', '1', '--max-sleep-interval', '3', '-f', 'bestvideo[height<=480]*+bestaudio/best[height<=480]', '-o', 'data/MSR-VTT/video633.mp4', 'https://www.youtube.com/watch?v=rgRQiczkFSQ']' returned non-zero exit status 1.\n",
      "File data/MSR-VTT/video5926.mp4 already exists, skipping download.\n",
      "File data/MSR-VTT/video742.mp4 already exists, skipping download.\n"
     ]
    },
    {
     "name": "stderr",
     "output_type": "stream",
     "text": [
      "Map:  23%|██▎       | 158/700 [02:06<05:05,  1.77 examples/s]"
     ]
    },
    {
     "name": "stdout",
     "output_type": "stream",
     "text": [
      "Failed video3069: Command '['yt-dlp', '--cookies', 'D:\\\\thanhloc\\\\Semester251\\\\DIP&CV\\\\yt_cookies.txt', '--sleep-interval', '1', '--max-sleep-interval', '3', '-f', 'bestvideo[height<=480]*+bestaudio/best[height<=480]', '-o', 'data/MSR-VTT/video3069.mp4', 'https://www.youtube.com/watch?v=nb2z0KYoqMU']' returned non-zero exit status 1.\n",
      "File data/MSR-VTT/video5802.mp4 already exists, skipping download.\n"
     ]
    },
    {
     "name": "stderr",
     "output_type": "stream",
     "text": [
      "Map:  23%|██▎       | 160/700 [02:08<05:47,  1.55 examples/s]"
     ]
    },
    {
     "name": "stdout",
     "output_type": "stream",
     "text": [
      "Failed video3755: Command '['yt-dlp', '--cookies', 'D:\\\\thanhloc\\\\Semester251\\\\DIP&CV\\\\yt_cookies.txt', '--sleep-interval', '1', '--max-sleep-interval', '3', '-f', 'bestvideo[height<=480]*+bestaudio/best[height<=480]', '-o', 'data/MSR-VTT/video3755.mp4', 'https://www.youtube.com/watch?v=YeOXcAQakBE']' returned non-zero exit status 1.\n",
      "File data/MSR-VTT/video2198.mp4 already exists, skipping download.\n"
     ]
    },
    {
     "name": "stderr",
     "output_type": "stream",
     "text": [
      "Map:  23%|██▎       | 162/700 [02:10<06:33,  1.37 examples/s]"
     ]
    },
    {
     "name": "stdout",
     "output_type": "stream",
     "text": [
      "Failed video6020: Command '['yt-dlp', '--cookies', 'D:\\\\thanhloc\\\\Semester251\\\\DIP&CV\\\\yt_cookies.txt', '--sleep-interval', '1', '--max-sleep-interval', '3', '-f', 'bestvideo[height<=480]*+bestaudio/best[height<=480]', '-o', 'data/MSR-VTT/video6020.mp4', 'https://www.youtube.com/watch?v=3a7MoCDiKBU']' returned non-zero exit status 1.\n",
      "File data/MSR-VTT/video2564.mp4 already exists, skipping download.\n"
     ]
    },
    {
     "name": "stderr",
     "output_type": "stream",
     "text": [
      "Map:  23%|██▎       | 164/700 [02:12<07:15,  1.23 examples/s]"
     ]
    },
    {
     "name": "stdout",
     "output_type": "stream",
     "text": [
      "Failed video4837: Command '['yt-dlp', '--cookies', 'D:\\\\thanhloc\\\\Semester251\\\\DIP&CV\\\\yt_cookies.txt', '--sleep-interval', '1', '--max-sleep-interval', '3', '-f', 'bestvideo[height<=480]*+bestaudio/best[height<=480]', '-o', 'data/MSR-VTT/video4837.mp4', 'https://www.youtube.com/watch?v=wfNjBQpa7AQ']' returned non-zero exit status 1.\n",
      "File data/MSR-VTT/video4180.mp4 already exists, skipping download.\n"
     ]
    },
    {
     "name": "stderr",
     "output_type": "stream",
     "text": [
      "Map:  24%|██▎       | 166/700 [02:14<07:49,  1.14 examples/s]"
     ]
    },
    {
     "name": "stdout",
     "output_type": "stream",
     "text": [
      "Failed video4508: Command '['yt-dlp', '--cookies', 'D:\\\\thanhloc\\\\Semester251\\\\DIP&CV\\\\yt_cookies.txt', '--sleep-interval', '1', '--max-sleep-interval', '3', '-f', 'bestvideo[height<=480]*+bestaudio/best[height<=480]', '-o', 'data/MSR-VTT/video4508.mp4', 'https://www.youtube.com/watch?v=X2mLARXVp4E']' returned non-zero exit status 1.\n"
     ]
    },
    {
     "name": "stderr",
     "output_type": "stream",
     "text": [
      "Map:  24%|██▍       | 167/700 [02:17<09:51,  1.11s/ examples]"
     ]
    },
    {
     "name": "stdout",
     "output_type": "stream",
     "text": [
      "Failed video1463: Command '['yt-dlp', '--cookies', 'D:\\\\thanhloc\\\\Semester251\\\\DIP&CV\\\\yt_cookies.txt', '--sleep-interval', '1', '--max-sleep-interval', '3', '-f', 'bestvideo[height<=480]*+bestaudio/best[height<=480]', '-o', 'data/MSR-VTT/video1463.mp4', 'https://www.youtube.com/watch?v=-CilXCFVwBg']' returned non-zero exit status 1.\n"
     ]
    },
    {
     "name": "stderr",
     "output_type": "stream",
     "text": [
      "Map:  24%|██▍       | 168/700 [02:19<11:28,  1.29s/ examples]"
     ]
    },
    {
     "name": "stdout",
     "output_type": "stream",
     "text": [
      "Failed video6654: Command '['yt-dlp', '--cookies', 'D:\\\\thanhloc\\\\Semester251\\\\DIP&CV\\\\yt_cookies.txt', '--sleep-interval', '1', '--max-sleep-interval', '3', '-f', 'bestvideo[height<=480]*+bestaudio/best[height<=480]', '-o', 'data/MSR-VTT/video6654.mp4', 'https://www.youtube.com/watch?v=Yl4qujRmmL8']' returned non-zero exit status 1.\n",
      "File data/MSR-VTT/video6380.mp4 already exists, skipping download.\n"
     ]
    },
    {
     "name": "stderr",
     "output_type": "stream",
     "text": [
      "Map:  24%|██▍       | 170/700 [02:21<10:54,  1.23s/ examples]"
     ]
    },
    {
     "name": "stdout",
     "output_type": "stream",
     "text": [
      "Failed video5639: Command '['yt-dlp', '--cookies', 'D:\\\\thanhloc\\\\Semester251\\\\DIP&CV\\\\yt_cookies.txt', '--sleep-interval', '1', '--max-sleep-interval', '3', '-f', 'bestvideo[height<=480]*+bestaudio/best[height<=480]', '-o', 'data/MSR-VTT/video5639.mp4', 'https://www.youtube.com/watch?v=A5zHBjsJq_E']' returned non-zero exit status 1.\n",
      "File data/MSR-VTT/video2711.mp4 already exists, skipping download.\n",
      "File data/MSR-VTT/video5746.mp4 already exists, skipping download.\n"
     ]
    },
    {
     "name": "stderr",
     "output_type": "stream",
     "text": [
      "Map:  25%|██▍       | 173/700 [02:24<09:08,  1.04s/ examples]"
     ]
    },
    {
     "name": "stdout",
     "output_type": "stream",
     "text": [
      "Failed video4858: Command '['yt-dlp', '--cookies', 'D:\\\\thanhloc\\\\Semester251\\\\DIP&CV\\\\yt_cookies.txt', '--sleep-interval', '1', '--max-sleep-interval', '3', '-f', 'bestvideo[height<=480]*+bestaudio/best[height<=480]', '-o', 'data/MSR-VTT/video4858.mp4', 'https://www.youtube.com/watch?v=3sz_-jgW5VM']' returned non-zero exit status 1.\n",
      "File data/MSR-VTT/video2083.mp4 already exists, skipping download.\n"
     ]
    },
    {
     "name": "stderr",
     "output_type": "stream",
     "text": [
      "Map:  25%|██▌       | 175/700 [02:27<10:10,  1.16s/ examples]"
     ]
    },
    {
     "name": "stdout",
     "output_type": "stream",
     "text": [
      "Failed video3302: Command '['yt-dlp', '--cookies', 'D:\\\\thanhloc\\\\Semester251\\\\DIP&CV\\\\yt_cookies.txt', '--sleep-interval', '1', '--max-sleep-interval', '3', '-f', 'bestvideo[height<=480]*+bestaudio/best[height<=480]', '-o', 'data/MSR-VTT/video3302.mp4', 'https://www.youtube.com/watch?v=0yFQQax55ps']' returned non-zero exit status 1.\n",
      "File data/MSR-VTT/video986.mp4 already exists, skipping download.\n",
      "File data/MSR-VTT/video1186.mp4 already exists, skipping download.\n",
      "File data/MSR-VTT/video2902.mp4 already exists, skipping download.\n",
      "File data/MSR-VTT/video5597.mp4 already exists, skipping download.\n",
      "File data/MSR-VTT/video5079.mp4 already exists, skipping download.\n"
     ]
    },
    {
     "name": "stderr",
     "output_type": "stream",
     "text": [
      "Map:  26%|██▌       | 181/700 [02:30<06:55,  1.25 examples/s]"
     ]
    },
    {
     "name": "stdout",
     "output_type": "stream",
     "text": [
      "Failed video1157: Command '['yt-dlp', '--cookies', 'D:\\\\thanhloc\\\\Semester251\\\\DIP&CV\\\\yt_cookies.txt', '--sleep-interval', '1', '--max-sleep-interval', '3', '-f', 'bestvideo[height<=480]*+bestaudio/best[height<=480]', '-o', 'data/MSR-VTT/video1157.mp4', 'https://www.youtube.com/watch?v=2jEhvqgTacQ']' returned non-zero exit status 1.\n"
     ]
    },
    {
     "name": "stderr",
     "output_type": "stream",
     "text": [
      "Map:  26%|██▌       | 182/700 [02:32<08:23,  1.03 examples/s]"
     ]
    },
    {
     "name": "stdout",
     "output_type": "stream",
     "text": [
      "Failed video156: Command '['yt-dlp', '--cookies', 'D:\\\\thanhloc\\\\Semester251\\\\DIP&CV\\\\yt_cookies.txt', '--sleep-interval', '1', '--max-sleep-interval', '3', '-f', 'bestvideo[height<=480]*+bestaudio/best[height<=480]', '-o', 'data/MSR-VTT/video156.mp4', 'https://www.youtube.com/watch?v=6PiY8PIYw6A']' returned non-zero exit status 1.\n"
     ]
    },
    {
     "name": "stderr",
     "output_type": "stream",
     "text": [
      "Map:  26%|██▌       | 183/700 [02:35<10:20,  1.20s/ examples]"
     ]
    },
    {
     "name": "stdout",
     "output_type": "stream",
     "text": [
      "Failed video2837: Command '['yt-dlp', '--cookies', 'D:\\\\thanhloc\\\\Semester251\\\\DIP&CV\\\\yt_cookies.txt', '--sleep-interval', '1', '--max-sleep-interval', '3', '-f', 'bestvideo[height<=480]*+bestaudio/best[height<=480]', '-o', 'data/MSR-VTT/video2837.mp4', 'https://www.youtube.com/watch?v=AZZME-uNC0I']' returned non-zero exit status 1.\n",
      "File data/MSR-VTT/video1693.mp4 already exists, skipping download.\n",
      "File data/MSR-VTT/video3756.mp4 already exists, skipping download.\n"
     ]
    },
    {
     "name": "stderr",
     "output_type": "stream",
     "text": [
      "Map:  27%|██▋       | 186/700 [02:37<09:14,  1.08s/ examples]"
     ]
    },
    {
     "name": "stdout",
     "output_type": "stream",
     "text": [
      "Failed video4282: Command '['yt-dlp', '--cookies', 'D:\\\\thanhloc\\\\Semester251\\\\DIP&CV\\\\yt_cookies.txt', '--sleep-interval', '1', '--max-sleep-interval', '3', '-f', 'bestvideo[height<=480]*+bestaudio/best[height<=480]', '-o', 'data/MSR-VTT/video4282.mp4', 'https://www.youtube.com/watch?v=tbG1xPqCyEs']' returned non-zero exit status 1.\n",
      "File data/MSR-VTT/video3978.mp4 already exists, skipping download.\n",
      "File data/MSR-VTT/video5834.mp4 already exists, skipping download.\n",
      "File data/MSR-VTT/video5979.mp4 already exists, skipping download.\n",
      "File data/MSR-VTT/video2013.mp4 already exists, skipping download.\n",
      "File data/MSR-VTT/video5615.mp4 already exists, skipping download.\n",
      "File data/MSR-VTT/video3116.mp4 already exists, skipping download.\n"
     ]
    },
    {
     "name": "stderr",
     "output_type": "stream",
     "text": [
      "Map:  28%|██▊       | 193/700 [02:39<05:33,  1.52 examples/s]"
     ]
    },
    {
     "name": "stdout",
     "output_type": "stream",
     "text": [
      "Failed video2133: Command '['yt-dlp', '--cookies', 'D:\\\\thanhloc\\\\Semester251\\\\DIP&CV\\\\yt_cookies.txt', '--sleep-interval', '1', '--max-sleep-interval', '3', '-f', 'bestvideo[height<=480]*+bestaudio/best[height<=480]', '-o', 'data/MSR-VTT/video2133.mp4', 'https://www.youtube.com/watch?v=1XnmmeIIk70']' returned non-zero exit status 1.\n"
     ]
    },
    {
     "name": "stderr",
     "output_type": "stream",
     "text": [
      "Map:  28%|██▊       | 194/700 [02:42<06:55,  1.22 examples/s]"
     ]
    },
    {
     "name": "stdout",
     "output_type": "stream",
     "text": [
      "Failed video2283: Command '['yt-dlp', '--cookies', 'D:\\\\thanhloc\\\\Semester251\\\\DIP&CV\\\\yt_cookies.txt', '--sleep-interval', '1', '--max-sleep-interval', '3', '-f', 'bestvideo[height<=480]*+bestaudio/best[height<=480]', '-o', 'data/MSR-VTT/video2283.mp4', 'https://www.youtube.com/watch?v=1MxxfjGs0YY']' returned non-zero exit status 1.\n"
     ]
    },
    {
     "name": "stderr",
     "output_type": "stream",
     "text": [
      "Map:  28%|██▊       | 195/700 [02:44<08:22,  1.01 examples/s]"
     ]
    },
    {
     "name": "stdout",
     "output_type": "stream",
     "text": [
      "Failed video135: Command '['yt-dlp', '--cookies', 'D:\\\\thanhloc\\\\Semester251\\\\DIP&CV\\\\yt_cookies.txt', '--sleep-interval', '1', '--max-sleep-interval', '3', '-f', 'bestvideo[height<=480]*+bestaudio/best[height<=480]', '-o', 'data/MSR-VTT/video135.mp4', 'https://www.youtube.com/watch?v=4vIjIqPPUSU']' returned non-zero exit status 1.\n",
      "File data/MSR-VTT/video3819.mp4 already exists, skipping download.\n"
     ]
    },
    {
     "name": "stderr",
     "output_type": "stream",
     "text": [
      "Map:  28%|██▊       | 197/700 [02:46<08:39,  1.03s/ examples]"
     ]
    },
    {
     "name": "stdout",
     "output_type": "stream",
     "text": [
      "Failed video2705: Command '['yt-dlp', '--cookies', 'D:\\\\thanhloc\\\\Semester251\\\\DIP&CV\\\\yt_cookies.txt', '--sleep-interval', '1', '--max-sleep-interval', '3', '-f', 'bestvideo[height<=480]*+bestaudio/best[height<=480]', '-o', 'data/MSR-VTT/video2705.mp4', 'https://www.youtube.com/watch?v=V-Yp5AxIULo']' returned non-zero exit status 1.\n"
     ]
    },
    {
     "name": "stderr",
     "output_type": "stream",
     "text": [
      "Map:  28%|██▊       | 198/700 [02:48<10:15,  1.23s/ examples]"
     ]
    },
    {
     "name": "stdout",
     "output_type": "stream",
     "text": [
      "Failed video6365: Command '['yt-dlp', '--cookies', 'D:\\\\thanhloc\\\\Semester251\\\\DIP&CV\\\\yt_cookies.txt', '--sleep-interval', '1', '--max-sleep-interval', '3', '-f', 'bestvideo[height<=480]*+bestaudio/best[height<=480]', '-o', 'data/MSR-VTT/video6365.mp4', 'https://www.youtube.com/watch?v=C32sjPqBz4Y']' returned non-zero exit status 1.\n",
      "File data/MSR-VTT/video4942.mp4 already exists, skipping download.\n",
      "File data/MSR-VTT/video3409.mp4 already exists, skipping download.\n"
     ]
    },
    {
     "name": "stderr",
     "output_type": "stream",
     "text": [
      "Map:  29%|██▊       | 201/700 [02:51<08:29,  1.02s/ examples]"
     ]
    },
    {
     "name": "stdout",
     "output_type": "stream",
     "text": [
      "Failed video1244: Command '['yt-dlp', '--cookies', 'D:\\\\thanhloc\\\\Semester251\\\\DIP&CV\\\\yt_cookies.txt', '--sleep-interval', '1', '--max-sleep-interval', '3', '-f', 'bestvideo[height<=480]*+bestaudio/best[height<=480]', '-o', 'data/MSR-VTT/video1244.mp4', 'https://www.youtube.com/watch?v=PLHxI8M7NBY']' returned non-zero exit status 1.\n"
     ]
    },
    {
     "name": "stderr",
     "output_type": "stream",
     "text": [
      "Map:  29%|██▉       | 202/700 [02:53<09:59,  1.20s/ examples]"
     ]
    },
    {
     "name": "stdout",
     "output_type": "stream",
     "text": [
      "Failed video1099: Command '['yt-dlp', '--cookies', 'D:\\\\thanhloc\\\\Semester251\\\\DIP&CV\\\\yt_cookies.txt', '--sleep-interval', '1', '--max-sleep-interval', '3', '-f', 'bestvideo[height<=480]*+bestaudio/best[height<=480]', '-o', 'data/MSR-VTT/video1099.mp4', 'https://www.youtube.com/watch?v=NVdSW5U0UA8']' returned non-zero exit status 1.\n",
      "File data/MSR-VTT/video6387.mp4 already exists, skipping download.\n",
      "File data/MSR-VTT/video1227.mp4 already exists, skipping download.\n",
      "File data/MSR-VTT/video6008.mp4 already exists, skipping download.\n",
      "File data/MSR-VTT/video5447.mp4 already exists, skipping download.\n",
      "File data/MSR-VTT/video4889.mp4 already exists, skipping download.\n",
      "File data/MSR-VTT/video2954.mp4 already exists, skipping download.\n",
      "File data/MSR-VTT/video2391.mp4 already exists, skipping download.\n",
      "File data/MSR-VTT/video2727.mp4 already exists, skipping download.\n",
      "File data/MSR-VTT/video1010.mp4 already exists, skipping download.\n",
      "File data/MSR-VTT/video5484.mp4 already exists, skipping download.\n",
      "File data/MSR-VTT/video5960.mp4 already exists, skipping download.\n",
      "File data/MSR-VTT/video5568.mp4 already exists, skipping download.\n",
      "File data/MSR-VTT/video3445.mp4 already exists, skipping download.\n",
      "File data/MSR-VTT/video1718.mp4 already exists, skipping download.\n",
      "File data/MSR-VTT/video2855.mp4 already exists, skipping download.\n"
     ]
    },
    {
     "name": "stderr",
     "output_type": "stream",
     "text": [
      "Map:  31%|███       | 218/700 [02:55<02:56,  2.74 examples/s]"
     ]
    },
    {
     "name": "stdout",
     "output_type": "stream",
     "text": [
      "Failed video2742: Command '['yt-dlp', '--cookies', 'D:\\\\thanhloc\\\\Semester251\\\\DIP&CV\\\\yt_cookies.txt', '--sleep-interval', '1', '--max-sleep-interval', '3', '-f', 'bestvideo[height<=480]*+bestaudio/best[height<=480]', '-o', 'data/MSR-VTT/video2742.mp4', 'https://www.youtube.com/watch?v=r6AFW1jXBsk']' returned non-zero exit status 1.\n",
      "File data/MSR-VTT/video5656.mp4 already exists, skipping download.\n",
      "File data/MSR-VTT/video6745.mp4 already exists, skipping download.\n",
      "File data/MSR-VTT/video6069.mp4 already exists, skipping download.\n",
      "File data/MSR-VTT/video5159.mp4 already exists, skipping download.\n",
      "File data/MSR-VTT/video1401.mp4 already exists, skipping download.\n",
      "File data/MSR-VTT/video63.mp4 already exists, skipping download.\n"
     ]
    },
    {
     "name": "stderr",
     "output_type": "stream",
     "text": [
      "Map:  32%|███▏      | 225/700 [02:57<02:46,  2.86 examples/s]"
     ]
    },
    {
     "name": "stdout",
     "output_type": "stream",
     "text": [
      "Failed video3209: Command '['yt-dlp', '--cookies', 'D:\\\\thanhloc\\\\Semester251\\\\DIP&CV\\\\yt_cookies.txt', '--sleep-interval', '1', '--max-sleep-interval', '3', '-f', 'bestvideo[height<=480]*+bestaudio/best[height<=480]', '-o', 'data/MSR-VTT/video3209.mp4', 'https://www.youtube.com/watch?v=Sz7GUOZ0Eko']' returned non-zero exit status 1.\n",
      "File data/MSR-VTT/video2291.mp4 already exists, skipping download.\n",
      "File data/MSR-VTT/video2068.mp4 already exists, skipping download.\n",
      "File data/MSR-VTT/video4113.mp4 already exists, skipping download.\n"
     ]
    },
    {
     "name": "stderr",
     "output_type": "stream",
     "text": [
      "Map:  33%|███▎      | 229/700 [03:01<03:40,  2.13 examples/s]"
     ]
    },
    {
     "name": "stdout",
     "output_type": "stream",
     "text": [
      "Failed video3151: Command '['yt-dlp', '--cookies', 'D:\\\\thanhloc\\\\Semester251\\\\DIP&CV\\\\yt_cookies.txt', '--sleep-interval', '1', '--max-sleep-interval', '3', '-f', 'bestvideo[height<=480]*+bestaudio/best[height<=480]', '-o', 'data/MSR-VTT/video3151.mp4', 'https://www.youtube.com/watch?v=uR9cu-n_5-4']' returned non-zero exit status 1.\n",
      "File data/MSR-VTT/video6459.mp4 already exists, skipping download.\n"
     ]
    },
    {
     "name": "stderr",
     "output_type": "stream",
     "text": [
      "Map:  33%|███▎      | 231/700 [03:04<04:37,  1.69 examples/s]"
     ]
    },
    {
     "name": "stdout",
     "output_type": "stream",
     "text": [
      "Failed video3261: Command '['yt-dlp', '--cookies', 'D:\\\\thanhloc\\\\Semester251\\\\DIP&CV\\\\yt_cookies.txt', '--sleep-interval', '1', '--max-sleep-interval', '3', '-f', 'bestvideo[height<=480]*+bestaudio/best[height<=480]', '-o', 'data/MSR-VTT/video3261.mp4', 'https://www.youtube.com/watch?v=2RXmHzds3pw']' returned non-zero exit status 1.\n",
      "File data/MSR-VTT/video3675.mp4 already exists, skipping download.\n",
      "File data/MSR-VTT/video3306.mp4 already exists, skipping download.\n",
      "File data/MSR-VTT/video1446.mp4 already exists, skipping download.\n",
      "File data/MSR-VTT/video285.mp4 already exists, skipping download.\n",
      "File data/MSR-VTT/video1120.mp4 already exists, skipping download.\n",
      "File data/MSR-VTT/video3446.mp4 already exists, skipping download.\n"
     ]
    },
    {
     "name": "stderr",
     "output_type": "stream",
     "text": [
      "Map:  34%|███▍      | 238/700 [03:06<03:53,  1.97 examples/s]"
     ]
    },
    {
     "name": "stdout",
     "output_type": "stream",
     "text": [
      "Failed video2134: Command '['yt-dlp', '--cookies', 'D:\\\\thanhloc\\\\Semester251\\\\DIP&CV\\\\yt_cookies.txt', '--sleep-interval', '1', '--max-sleep-interval', '3', '-f', 'bestvideo[height<=480]*+bestaudio/best[height<=480]', '-o', 'data/MSR-VTT/video2134.mp4', 'https://www.youtube.com/watch?v=CNEzNxfzoag']' returned non-zero exit status 1.\n"
     ]
    },
    {
     "name": "stderr",
     "output_type": "stream",
     "text": [
      "Map:  34%|███▍      | 239/700 [03:09<05:07,  1.50 examples/s]"
     ]
    },
    {
     "name": "stdout",
     "output_type": "stream",
     "text": [
      "Failed video4931: Command '['yt-dlp', '--cookies', 'D:\\\\thanhloc\\\\Semester251\\\\DIP&CV\\\\yt_cookies.txt', '--sleep-interval', '1', '--max-sleep-interval', '3', '-f', 'bestvideo[height<=480]*+bestaudio/best[height<=480]', '-o', 'data/MSR-VTT/video4931.mp4', 'https://www.youtube.com/watch?v=WKnUq1O44Wg']' returned non-zero exit status 1.\n"
     ]
    },
    {
     "name": "stderr",
     "output_type": "stream",
     "text": [
      "Map:  34%|███▍      | 240/700 [03:11<06:25,  1.19 examples/s]"
     ]
    },
    {
     "name": "stdout",
     "output_type": "stream",
     "text": [
      "Failed video54: Command '['yt-dlp', '--cookies', 'D:\\\\thanhloc\\\\Semester251\\\\DIP&CV\\\\yt_cookies.txt', '--sleep-interval', '1', '--max-sleep-interval', '3', '-f', 'bestvideo[height<=480]*+bestaudio/best[height<=480]', '-o', 'data/MSR-VTT/video54.mp4', 'https://www.youtube.com/watch?v=2q9nzMkiHFE']' returned non-zero exit status 1.\n"
     ]
    },
    {
     "name": "stderr",
     "output_type": "stream",
     "text": [
      "Map:  34%|███▍      | 241/700 [03:14<07:47,  1.02s/ examples]"
     ]
    },
    {
     "name": "stdout",
     "output_type": "stream",
     "text": [
      "Failed video5067: Command '['yt-dlp', '--cookies', 'D:\\\\thanhloc\\\\Semester251\\\\DIP&CV\\\\yt_cookies.txt', '--sleep-interval', '1', '--max-sleep-interval', '3', '-f', 'bestvideo[height<=480]*+bestaudio/best[height<=480]', '-o', 'data/MSR-VTT/video5067.mp4', 'https://www.youtube.com/watch?v=j-oQEDdDfZs']' returned non-zero exit status 1.\n",
      "File data/MSR-VTT/video3646.mp4 already exists, skipping download.\n"
     ]
    },
    {
     "name": "stderr",
     "output_type": "stream",
     "text": [
      "Map:  35%|███▍      | 243/700 [03:16<07:57,  1.04s/ examples]"
     ]
    },
    {
     "name": "stdout",
     "output_type": "stream",
     "text": [
      "Failed video4588: Command '['yt-dlp', '--cookies', 'D:\\\\thanhloc\\\\Semester251\\\\DIP&CV\\\\yt_cookies.txt', '--sleep-interval', '1', '--max-sleep-interval', '3', '-f', 'bestvideo[height<=480]*+bestaudio/best[height<=480]', '-o', 'data/MSR-VTT/video4588.mp4', 'https://www.youtube.com/watch?v=1oSaZ20TplU']' returned non-zero exit status 1.\n",
      "File data/MSR-VTT/video1961.mp4 already exists, skipping download.\n",
      "File data/MSR-VTT/video696.mp4 already exists, skipping download.\n"
     ]
    },
    {
     "name": "stderr",
     "output_type": "stream",
     "text": [
      "Map:  35%|███▌      | 246/700 [03:18<07:06,  1.07 examples/s]"
     ]
    },
    {
     "name": "stdout",
     "output_type": "stream",
     "text": [
      "Failed video1271: Command '['yt-dlp', '--cookies', 'D:\\\\thanhloc\\\\Semester251\\\\DIP&CV\\\\yt_cookies.txt', '--sleep-interval', '1', '--max-sleep-interval', '3', '-f', 'bestvideo[height<=480]*+bestaudio/best[height<=480]', '-o', 'data/MSR-VTT/video1271.mp4', 'https://www.youtube.com/watch?v=yDKbs7bbcPw']' returned non-zero exit status 1.\n",
      "File data/MSR-VTT/video5172.mp4 already exists, skipping download.\n",
      "File data/MSR-VTT/video5414.mp4 already exists, skipping download.\n",
      "File data/MSR-VTT/video2044.mp4 already exists, skipping download.\n"
     ]
    },
    {
     "name": "stderr",
     "output_type": "stream",
     "text": [
      "Map:  36%|███▌      | 250/700 [03:20<05:54,  1.27 examples/s]"
     ]
    },
    {
     "name": "stdout",
     "output_type": "stream",
     "text": [
      "Failed video1644: Command '['yt-dlp', '--cookies', 'D:\\\\thanhloc\\\\Semester251\\\\DIP&CV\\\\yt_cookies.txt', '--sleep-interval', '1', '--max-sleep-interval', '3', '-f', 'bestvideo[height<=480]*+bestaudio/best[height<=480]', '-o', 'data/MSR-VTT/video1644.mp4', 'https://www.youtube.com/watch?v=Z8-ngLO_Nh4']' returned non-zero exit status 1.\n"
     ]
    },
    {
     "name": "stderr",
     "output_type": "stream",
     "text": [
      "Map:  36%|███▌      | 251/700 [03:23<07:52,  1.05s/ examples]"
     ]
    },
    {
     "name": "stdout",
     "output_type": "stream",
     "text": [
      "Failed video5037: Command '['yt-dlp', '--cookies', 'D:\\\\thanhloc\\\\Semester251\\\\DIP&CV\\\\yt_cookies.txt', '--sleep-interval', '1', '--max-sleep-interval', '3', '-f', 'bestvideo[height<=480]*+bestaudio/best[height<=480]', '-o', 'data/MSR-VTT/video5037.mp4', 'https://www.youtube.com/watch?v=UpTYdX72TDg']' returned non-zero exit status 1.\n"
     ]
    },
    {
     "name": "stderr",
     "output_type": "stream",
     "text": [
      "Map:  36%|███▌      | 252/700 [03:26<09:25,  1.26s/ examples]"
     ]
    },
    {
     "name": "stdout",
     "output_type": "stream",
     "text": [
      "Failed video1036: Command '['yt-dlp', '--cookies', 'D:\\\\thanhloc\\\\Semester251\\\\DIP&CV\\\\yt_cookies.txt', '--sleep-interval', '1', '--max-sleep-interval', '3', '-f', 'bestvideo[height<=480]*+bestaudio/best[height<=480]', '-o', 'data/MSR-VTT/video1036.mp4', 'https://www.youtube.com/watch?v=yki8xVUAnDM']' returned non-zero exit status 1.\n"
     ]
    },
    {
     "name": "stderr",
     "output_type": "stream",
     "text": [
      "Map:  36%|███▌      | 253/700 [03:28<11:06,  1.49s/ examples]"
     ]
    },
    {
     "name": "stdout",
     "output_type": "stream",
     "text": [
      "Failed video5788: Command '['yt-dlp', '--cookies', 'D:\\\\thanhloc\\\\Semester251\\\\DIP&CV\\\\yt_cookies.txt', '--sleep-interval', '1', '--max-sleep-interval', '3', '-f', 'bestvideo[height<=480]*+bestaudio/best[height<=480]', '-o', 'data/MSR-VTT/video5788.mp4', 'https://www.youtube.com/watch?v=gmqgVxIkehw']' returned non-zero exit status 1.\n",
      "File data/MSR-VTT/video2652.mp4 already exists, skipping download.\n",
      "File data/MSR-VTT/video3648.mp4 already exists, skipping download.\n",
      "File data/MSR-VTT/video5291.mp4 already exists, skipping download.\n"
     ]
    },
    {
     "name": "stderr",
     "output_type": "stream",
     "text": [
      "Map:  37%|███▋      | 257/700 [03:31<08:11,  1.11s/ examples]"
     ]
    },
    {
     "name": "stdout",
     "output_type": "stream",
     "text": [
      "Failed video4855: Command '['yt-dlp', '--cookies', 'D:\\\\thanhloc\\\\Semester251\\\\DIP&CV\\\\yt_cookies.txt', '--sleep-interval', '1', '--max-sleep-interval', '3', '-f', 'bestvideo[height<=480]*+bestaudio/best[height<=480]', '-o', 'data/MSR-VTT/video4855.mp4', 'https://www.youtube.com/watch?v=XcPeXyx4bUQ']' returned non-zero exit status 1.\n",
      "File data/MSR-VTT/video5602.mp4 already exists, skipping download.\n",
      "File data/MSR-VTT/video4569.mp4 already exists, skipping download.\n",
      "File data/MSR-VTT/video6099.mp4 already exists, skipping download.\n",
      "File data/MSR-VTT/video4344.mp4 already exists, skipping download.\n",
      "File data/MSR-VTT/video5682.mp4 already exists, skipping download.\n",
      "File data/MSR-VTT/video4436.mp4 already exists, skipping download.\n",
      "File data/MSR-VTT/video4359.mp4 already exists, skipping download.\n"
     ]
    },
    {
     "name": "stderr",
     "output_type": "stream",
     "text": [
      "Map:  38%|███▊      | 265/700 [03:35<05:16,  1.37 examples/s]"
     ]
    },
    {
     "name": "stdout",
     "output_type": "stream",
     "text": [
      "Failed video2859: Command '['yt-dlp', '--cookies', 'D:\\\\thanhloc\\\\Semester251\\\\DIP&CV\\\\yt_cookies.txt', '--sleep-interval', '1', '--max-sleep-interval', '3', '-f', 'bestvideo[height<=480]*+bestaudio/best[height<=480]', '-o', 'data/MSR-VTT/video2859.mp4', 'https://www.youtube.com/watch?v=-E7yDX56X4U']' returned non-zero exit status 1.\n"
     ]
    },
    {
     "name": "stderr",
     "output_type": "stream",
     "text": [
      "Map:  38%|███▊      | 266/700 [03:38<07:12,  1.00 examples/s]"
     ]
    },
    {
     "name": "stdout",
     "output_type": "stream",
     "text": [
      "Failed video352: Command '['yt-dlp', '--cookies', 'D:\\\\thanhloc\\\\Semester251\\\\DIP&CV\\\\yt_cookies.txt', '--sleep-interval', '1', '--max-sleep-interval', '3', '-f', 'bestvideo[height<=480]*+bestaudio/best[height<=480]', '-o', 'data/MSR-VTT/video352.mp4', 'https://www.youtube.com/watch?v=x8rzjB1oUSM']' returned non-zero exit status 1.\n",
      "File data/MSR-VTT/video6041.mp4 already exists, skipping download.\n",
      "File data/MSR-VTT/video3697.mp4 already exists, skipping download.\n",
      "File data/MSR-VTT/video922.mp4 already exists, skipping download.\n",
      "File data/MSR-VTT/video3173.mp4 already exists, skipping download.\n",
      "File data/MSR-VTT/video3835.mp4 already exists, skipping download.\n",
      "File data/MSR-VTT/video1826.mp4 already exists, skipping download.\n",
      "File data/MSR-VTT/video96.mp4 already exists, skipping download.\n",
      "File data/MSR-VTT/video208.mp4 already exists, skipping download.\n",
      "File data/MSR-VTT/video3980.mp4 already exists, skipping download.\n",
      "File data/MSR-VTT/video6789.mp4 already exists, skipping download.\n",
      "File data/MSR-VTT/video4402.mp4 already exists, skipping download.\n",
      "File data/MSR-VTT/video3867.mp4 already exists, skipping download.\n"
     ]
    },
    {
     "name": "stderr",
     "output_type": "stream",
     "text": [
      "Map:  40%|███▉      | 279/700 [03:43<04:09,  1.69 examples/s]"
     ]
    },
    {
     "name": "stdout",
     "output_type": "stream",
     "text": [
      "Failed video2011: Command '['yt-dlp', '--cookies', 'D:\\\\thanhloc\\\\Semester251\\\\DIP&CV\\\\yt_cookies.txt', '--sleep-interval', '1', '--max-sleep-interval', '3', '-f', 'bestvideo[height<=480]*+bestaudio/best[height<=480]', '-o', 'data/MSR-VTT/video2011.mp4', 'https://www.youtube.com/watch?v=nb9GMm7QtlM']' returned non-zero exit status 1.\n"
     ]
    },
    {
     "name": "stderr",
     "output_type": "stream",
     "text": [
      "Map:  40%|████      | 280/700 [03:49<06:38,  1.06 examples/s]"
     ]
    },
    {
     "name": "stdout",
     "output_type": "stream",
     "text": [
      "Failed video4096: Command '['yt-dlp', '--cookies', 'D:\\\\thanhloc\\\\Semester251\\\\DIP&CV\\\\yt_cookies.txt', '--sleep-interval', '1', '--max-sleep-interval', '3', '-f', 'bestvideo[height<=480]*+bestaudio/best[height<=480]', '-o', 'data/MSR-VTT/video4096.mp4', 'https://www.youtube.com/watch?v=wc0om_rc2P8']' returned non-zero exit status 1.\n",
      "File data/MSR-VTT/video4612.mp4 already exists, skipping download.\n"
     ]
    },
    {
     "name": "stderr",
     "output_type": "stream",
     "text": [
      "Map:  40%|████      | 282/700 [03:52<07:21,  1.06s/ examples]"
     ]
    },
    {
     "name": "stdout",
     "output_type": "stream",
     "text": [
      "Failed video621: Command '['yt-dlp', '--cookies', 'D:\\\\thanhloc\\\\Semester251\\\\DIP&CV\\\\yt_cookies.txt', '--sleep-interval', '1', '--max-sleep-interval', '3', '-f', 'bestvideo[height<=480]*+bestaudio/best[height<=480]', '-o', 'data/MSR-VTT/video621.mp4', 'https://www.youtube.com/watch?v=272EmUgED3E']' returned non-zero exit status 1.\n"
     ]
    },
    {
     "name": "stderr",
     "output_type": "stream",
     "text": [
      "Map:  40%|████      | 283/700 [03:53<06:44,  1.03 examples/s]"
     ]
    },
    {
     "name": "stdout",
     "output_type": "stream",
     "text": [
      "File data/MSR-VTT/video4792.mp4 already exists, skipping download.\n"
     ]
    },
    {
     "name": "stderr",
     "output_type": "stream",
     "text": [
      "Map:  41%|████      | 284/700 [03:56<09:11,  1.33s/ examples]"
     ]
    },
    {
     "name": "stdout",
     "output_type": "stream",
     "text": [
      "Failed video6964: Command '['yt-dlp', '--cookies', 'D:\\\\thanhloc\\\\Semester251\\\\DIP&CV\\\\yt_cookies.txt', '--sleep-interval', '1', '--max-sleep-interval', '3', '-f', 'bestvideo[height<=480]*+bestaudio/best[height<=480]', '-o', 'data/MSR-VTT/video6964.mp4', 'https://www.youtube.com/watch?v=LM8TUFo6RP0']' returned non-zero exit status 1.\n",
      "File data/MSR-VTT/video712.mp4 already exists, skipping download.\n",
      "File data/MSR-VTT/video1984.mp4 already exists, skipping download.\n",
      "File data/MSR-VTT/video2879.mp4 already exists, skipping download.\n"
     ]
    },
    {
     "name": "stderr",
     "output_type": "stream",
     "text": [
      "Map:  41%|████      | 288/700 [04:00<07:29,  1.09s/ examples]"
     ]
    },
    {
     "name": "stdout",
     "output_type": "stream",
     "text": [
      "Failed video2878: Command '['yt-dlp', '--cookies', 'D:\\\\thanhloc\\\\Semester251\\\\DIP&CV\\\\yt_cookies.txt', '--sleep-interval', '1', '--max-sleep-interval', '3', '-f', 'bestvideo[height<=480]*+bestaudio/best[height<=480]', '-o', 'data/MSR-VTT/video2878.mp4', 'https://www.youtube.com/watch?v=WKnUq1O44Wg']' returned non-zero exit status 1.\n"
     ]
    },
    {
     "name": "stderr",
     "output_type": "stream",
     "text": [
      "Map:  41%|████▏     | 289/700 [04:03<09:20,  1.36s/ examples]"
     ]
    },
    {
     "name": "stdout",
     "output_type": "stream",
     "text": [
      "Failed video6362: Command '['yt-dlp', '--cookies', 'D:\\\\thanhloc\\\\Semester251\\\\DIP&CV\\\\yt_cookies.txt', '--sleep-interval', '1', '--max-sleep-interval', '3', '-f', 'bestvideo[height<=480]*+bestaudio/best[height<=480]', '-o', 'data/MSR-VTT/video6362.mp4', 'https://www.youtube.com/watch?v=sqViwotLSW4']' returned non-zero exit status 1.\n"
     ]
    },
    {
     "name": "stderr",
     "output_type": "stream",
     "text": [
      "Map:  41%|████▏     | 290/700 [04:06<11:13,  1.64s/ examples]"
     ]
    },
    {
     "name": "stdout",
     "output_type": "stream",
     "text": [
      "Failed video6216: Command '['yt-dlp', '--cookies', 'D:\\\\thanhloc\\\\Semester251\\\\DIP&CV\\\\yt_cookies.txt', '--sleep-interval', '1', '--max-sleep-interval', '3', '-f', 'bestvideo[height<=480]*+bestaudio/best[height<=480]', '-o', 'data/MSR-VTT/video6216.mp4', 'https://www.youtube.com/watch?v=IUdjbiwAfN0']' returned non-zero exit status 1.\n",
      "File data/MSR-VTT/video3408.mp4 already exists, skipping download.\n",
      "File data/MSR-VTT/video3162.mp4 already exists, skipping download.\n",
      "File data/MSR-VTT/video3897.mp4 already exists, skipping download.\n",
      "File data/MSR-VTT/video5531.mp4 already exists, skipping download.\n",
      "File data/MSR-VTT/video783.mp4 already exists, skipping download.\n",
      "File data/MSR-VTT/video150.mp4 already exists, skipping download.\n"
     ]
    },
    {
     "name": "stderr",
     "output_type": "stream",
     "text": [
      "Map:  42%|████▏     | 297/700 [04:09<06:22,  1.05 examples/s]"
     ]
    },
    {
     "name": "stdout",
     "output_type": "stream",
     "text": [
      "Failed video6707: Command '['yt-dlp', '--cookies', 'D:\\\\thanhloc\\\\Semester251\\\\DIP&CV\\\\yt_cookies.txt', '--sleep-interval', '1', '--max-sleep-interval', '3', '-f', 'bestvideo[height<=480]*+bestaudio/best[height<=480]', '-o', 'data/MSR-VTT/video6707.mp4', 'https://www.youtube.com/watch?v=CA1knzSKw0A']' returned non-zero exit status 1.\n",
      "File data/MSR-VTT/video1309.mp4 already exists, skipping download.\n",
      "File data/MSR-VTT/video1235.mp4 already exists, skipping download.\n",
      "File data/MSR-VTT/video1535.mp4 already exists, skipping download.\n",
      "File data/MSR-VTT/video6544.mp4 already exists, skipping download.\n",
      "File data/MSR-VTT/video5559.mp4 already exists, skipping download.\n",
      "File data/MSR-VTT/video5956.mp4 already exists, skipping download.\n",
      "File data/MSR-VTT/video3724.mp4 already exists, skipping download.\n",
      "File data/MSR-VTT/video3858.mp4 already exists, skipping download.\n",
      "File data/MSR-VTT/video6094.mp4 already exists, skipping download.\n",
      "File data/MSR-VTT/video5703.mp4 already exists, skipping download.\n",
      "File data/MSR-VTT/video3719.mp4 already exists, skipping download.\n",
      "File data/MSR-VTT/video4997.mp4 already exists, skipping download.\n",
      "File data/MSR-VTT/video5774.mp4 already exists, skipping download.\n",
      "File data/MSR-VTT/video582.mp4 already exists, skipping download.\n",
      "File data/MSR-VTT/video5840.mp4 already exists, skipping download.\n"
     ]
    },
    {
     "name": "stderr",
     "output_type": "stream",
     "text": [
      "Map:  45%|████▍     | 313/700 [04:13<03:05,  2.09 examples/s]"
     ]
    },
    {
     "name": "stdout",
     "output_type": "stream",
     "text": [
      "Failed video4694: Command '['yt-dlp', '--cookies', 'D:\\\\thanhloc\\\\Semester251\\\\DIP&CV\\\\yt_cookies.txt', '--sleep-interval', '1', '--max-sleep-interval', '3', '-f', 'bestvideo[height<=480]*+bestaudio/best[height<=480]', '-o', 'data/MSR-VTT/video4694.mp4', 'https://www.youtube.com/watch?v=YNk-JjVucNQ']' returned non-zero exit status 1.\n",
      "File data/MSR-VTT/video4284.mp4 already exists, skipping download.\n"
     ]
    },
    {
     "name": "stderr",
     "output_type": "stream",
     "text": [
      "Map:  45%|████▌     | 315/700 [04:17<03:53,  1.65 examples/s]"
     ]
    },
    {
     "name": "stdout",
     "output_type": "stream",
     "text": [
      "Failed video2770: Command '['yt-dlp', '--cookies', 'D:\\\\thanhloc\\\\Semester251\\\\DIP&CV\\\\yt_cookies.txt', '--sleep-interval', '1', '--max-sleep-interval', '3', '-f', 'bestvideo[height<=480]*+bestaudio/best[height<=480]', '-o', 'data/MSR-VTT/video2770.mp4', 'https://www.youtube.com/watch?v=9QAHsSQhwGU']' returned non-zero exit status 1.\n"
     ]
    },
    {
     "name": "stderr",
     "output_type": "stream",
     "text": [
      "Map:  45%|████▌     | 316/700 [04:20<05:17,  1.21 examples/s]"
     ]
    },
    {
     "name": "stdout",
     "output_type": "stream",
     "text": [
      "Failed video1464: Command '['yt-dlp', '--cookies', 'D:\\\\thanhloc\\\\Semester251\\\\DIP&CV\\\\yt_cookies.txt', '--sleep-interval', '1', '--max-sleep-interval', '3', '-f', 'bestvideo[height<=480]*+bestaudio/best[height<=480]', '-o', 'data/MSR-VTT/video1464.mp4', 'https://www.youtube.com/watch?v=2TgcUjTyD4s']' returned non-zero exit status 1.\n",
      "File data/MSR-VTT/video1164.mp4 already exists, skipping download.\n",
      "File data/MSR-VTT/video3604.mp4 already exists, skipping download.\n",
      "File data/MSR-VTT/video2015.mp4 already exists, skipping download.\n"
     ]
    },
    {
     "name": "stderr",
     "output_type": "stream",
     "text": [
      "Map:  46%|████▌     | 320/700 [04:24<05:31,  1.14 examples/s]"
     ]
    },
    {
     "name": "stdout",
     "output_type": "stream",
     "text": [
      "Failed video1730: Command '['yt-dlp', '--cookies', 'D:\\\\thanhloc\\\\Semester251\\\\DIP&CV\\\\yt_cookies.txt', '--sleep-interval', '1', '--max-sleep-interval', '3', '-f', 'bestvideo[height<=480]*+bestaudio/best[height<=480]', '-o', 'data/MSR-VTT/video1730.mp4', 'https://www.youtube.com/watch?v=2H3PeCVSQ0g']' returned non-zero exit status 1.\n",
      "File data/MSR-VTT/video5555.mp4 already exists, skipping download.\n"
     ]
    },
    {
     "name": "stderr",
     "output_type": "stream",
     "text": [
      "Map:  46%|████▌     | 322/700 [04:27<06:09,  1.02 examples/s]"
     ]
    },
    {
     "name": "stdout",
     "output_type": "stream",
     "text": [
      "Failed video1561: Command '['yt-dlp', '--cookies', 'D:\\\\thanhloc\\\\Semester251\\\\DIP&CV\\\\yt_cookies.txt', '--sleep-interval', '1', '--max-sleep-interval', '3', '-f', 'bestvideo[height<=480]*+bestaudio/best[height<=480]', '-o', 'data/MSR-VTT/video1561.mp4', 'https://www.youtube.com/watch?v=y4oBgkjK6ZY']' returned non-zero exit status 1.\n"
     ]
    },
    {
     "name": "stderr",
     "output_type": "stream",
     "text": [
      "Map:  46%|████▌     | 323/700 [04:30<07:25,  1.18s/ examples]"
     ]
    },
    {
     "name": "stdout",
     "output_type": "stream",
     "text": [
      "Failed video6125: Command '['yt-dlp', '--cookies', 'D:\\\\thanhloc\\\\Semester251\\\\DIP&CV\\\\yt_cookies.txt', '--sleep-interval', '1', '--max-sleep-interval', '3', '-f', 'bestvideo[height<=480]*+bestaudio/best[height<=480]', '-o', 'data/MSR-VTT/video6125.mp4', 'https://www.youtube.com/watch?v=po1JT6NuJpU']' returned non-zero exit status 1.\n",
      "File data/MSR-VTT/video1830.mp4 already exists, skipping download.\n",
      "File data/MSR-VTT/video354.mp4 already exists, skipping download.\n",
      "File data/MSR-VTT/video2895.mp4 already exists, skipping download.\n"
     ]
    },
    {
     "name": "stderr",
     "output_type": "stream",
     "text": [
      "Map:  47%|████▋     | 327/700 [04:32<05:51,  1.06 examples/s]"
     ]
    },
    {
     "name": "stdout",
     "output_type": "stream",
     "text": [
      "Failed video2600: Command '['yt-dlp', '--cookies', 'D:\\\\thanhloc\\\\Semester251\\\\DIP&CV\\\\yt_cookies.txt', '--sleep-interval', '1', '--max-sleep-interval', '3', '-f', 'bestvideo[height<=480]*+bestaudio/best[height<=480]', '-o', 'data/MSR-VTT/video2600.mp4', 'https://www.youtube.com/watch?v=0tWvRu44MF0']' returned non-zero exit status 1.\n",
      "File data/MSR-VTT/video411.mp4 already exists, skipping download.\n",
      "File data/MSR-VTT/video2834.mp4 already exists, skipping download.\n",
      "File data/MSR-VTT/video895.mp4 already exists, skipping download.\n",
      "File data/MSR-VTT/video6562.mp4 already exists, skipping download.\n",
      "File data/MSR-VTT/video2448.mp4 already exists, skipping download.\n",
      "File data/MSR-VTT/video6542.mp4 already exists, skipping download.\n",
      "File data/MSR-VTT/video3262.mp4 already exists, skipping download.\n"
     ]
    },
    {
     "name": "stderr",
     "output_type": "stream",
     "text": [
      "Map:  48%|████▊     | 335/700 [04:35<03:47,  1.60 examples/s]"
     ]
    },
    {
     "name": "stdout",
     "output_type": "stream",
     "text": [
      "Failed video5025: Command '['yt-dlp', '--cookies', 'D:\\\\thanhloc\\\\Semester251\\\\DIP&CV\\\\yt_cookies.txt', '--sleep-interval', '1', '--max-sleep-interval', '3', '-f', 'bestvideo[height<=480]*+bestaudio/best[height<=480]', '-o', 'data/MSR-VTT/video5025.mp4', 'https://www.youtube.com/watch?v=-Txn5znso4o']' returned non-zero exit status 1.\n",
      "File data/MSR-VTT/video2253.mp4 already exists, skipping download.\n"
     ]
    },
    {
     "name": "stderr",
     "output_type": "stream",
     "text": [
      "Map:  48%|████▊     | 337/700 [04:38<04:36,  1.31 examples/s]"
     ]
    },
    {
     "name": "stdout",
     "output_type": "stream",
     "text": [
      "Failed video2862: Command '['yt-dlp', '--cookies', 'D:\\\\thanhloc\\\\Semester251\\\\DIP&CV\\\\yt_cookies.txt', '--sleep-interval', '1', '--max-sleep-interval', '3', '-f', 'bestvideo[height<=480]*+bestaudio/best[height<=480]', '-o', 'data/MSR-VTT/video2862.mp4', 'https://www.youtube.com/watch?v=1XADjnUCmxA']' returned non-zero exit status 1.\n",
      "File data/MSR-VTT/video3490.mp4 already exists, skipping download.\n"
     ]
    },
    {
     "name": "stderr",
     "output_type": "stream",
     "text": [
      "Map:  48%|████▊     | 339/700 [04:42<05:43,  1.05 examples/s]"
     ]
    },
    {
     "name": "stdout",
     "output_type": "stream",
     "text": [
      "Failed video6357: Command '['yt-dlp', '--cookies', 'D:\\\\thanhloc\\\\Semester251\\\\DIP&CV\\\\yt_cookies.txt', '--sleep-interval', '1', '--max-sleep-interval', '3', '-f', 'bestvideo[height<=480]*+bestaudio/best[height<=480]', '-o', 'data/MSR-VTT/video6357.mp4', 'https://www.youtube.com/watch?v=CGThVd9sInU']' returned non-zero exit status 1.\n"
     ]
    },
    {
     "name": "stderr",
     "output_type": "stream",
     "text": [
      "Map:  49%|████▊     | 340/700 [04:45<07:18,  1.22s/ examples]"
     ]
    },
    {
     "name": "stdout",
     "output_type": "stream",
     "text": [
      "Failed video2176: Command '['yt-dlp', '--cookies', 'D:\\\\thanhloc\\\\Semester251\\\\DIP&CV\\\\yt_cookies.txt', '--sleep-interval', '1', '--max-sleep-interval', '3', '-f', 'bestvideo[height<=480]*+bestaudio/best[height<=480]', '-o', 'data/MSR-VTT/video2176.mp4', 'https://www.youtube.com/watch?v=vOTJWlvPlhk']' returned non-zero exit status 1.\n",
      "File data/MSR-VTT/video4496.mp4 already exists, skipping download.\n"
     ]
    },
    {
     "name": "stderr",
     "output_type": "stream",
     "text": [
      "Map:  49%|████▉     | 342/700 [04:48<07:57,  1.33s/ examples]"
     ]
    },
    {
     "name": "stdout",
     "output_type": "stream",
     "text": [
      "Failed video2095: Command '['yt-dlp', '--cookies', 'D:\\\\thanhloc\\\\Semester251\\\\DIP&CV\\\\yt_cookies.txt', '--sleep-interval', '1', '--max-sleep-interval', '3', '-f', 'bestvideo[height<=480]*+bestaudio/best[height<=480]', '-o', 'data/MSR-VTT/video2095.mp4', 'https://www.youtube.com/watch?v=wDjbEZdg07c']' returned non-zero exit status 1.\n",
      "File data/MSR-VTT/video6813.mp4 already exists, skipping download.\n",
      "File data/MSR-VTT/video3329.mp4 already exists, skipping download.\n",
      "File data/MSR-VTT/video6483.mp4 already exists, skipping download.\n",
      "File data/MSR-VTT/video6075.mp4 already exists, skipping download.\n"
     ]
    },
    {
     "name": "stderr",
     "output_type": "stream",
     "text": [
      "Map:  50%|████▉     | 347/700 [04:52<06:07,  1.04s/ examples]"
     ]
    },
    {
     "name": "stdout",
     "output_type": "stream",
     "text": [
      "Failed video1592: Command '['yt-dlp', '--cookies', 'D:\\\\thanhloc\\\\Semester251\\\\DIP&CV\\\\yt_cookies.txt', '--sleep-interval', '1', '--max-sleep-interval', '3', '-f', 'bestvideo[height<=480]*+bestaudio/best[height<=480]', '-o', 'data/MSR-VTT/video1592.mp4', 'https://www.youtube.com/watch?v=wsgsQ_1QFBs']' returned non-zero exit status 1.\n",
      "File data/MSR-VTT/video904.mp4 already exists, skipping download.\n",
      "File data/MSR-VTT/video5923.mp4 already exists, skipping download.\n",
      "File data/MSR-VTT/video4933.mp4 already exists, skipping download.\n",
      "File data/MSR-VTT/video3677.mp4 already exists, skipping download.\n",
      "File data/MSR-VTT/video31.mp4 already exists, skipping download.\n",
      "File data/MSR-VTT/video535.mp4 already exists, skipping download.\n",
      "File data/MSR-VTT/video2768.mp4 already exists, skipping download.\n",
      "File data/MSR-VTT/video3532.mp4 already exists, skipping download.\n",
      "File data/MSR-VTT/video1590.mp4 already exists, skipping download.\n",
      "File data/MSR-VTT/video3199.mp4 already exists, skipping download.\n"
     ]
    },
    {
     "name": "stderr",
     "output_type": "stream",
     "text": [
      "Map:  51%|█████     | 358/700 [04:56<03:48,  1.50 examples/s]"
     ]
    },
    {
     "name": "stdout",
     "output_type": "stream",
     "text": [
      "Failed video6356: Command '['yt-dlp', '--cookies', 'D:\\\\thanhloc\\\\Semester251\\\\DIP&CV\\\\yt_cookies.txt', '--sleep-interval', '1', '--max-sleep-interval', '3', '-f', 'bestvideo[height<=480]*+bestaudio/best[height<=480]', '-o', 'data/MSR-VTT/video6356.mp4', 'https://www.youtube.com/watch?v=97KtC7UOxJk']' returned non-zero exit status 1.\n"
     ]
    },
    {
     "name": "stderr",
     "output_type": "stream",
     "text": [
      "Map:  51%|█████▏    | 359/700 [04:57<03:37,  1.57 examples/s]"
     ]
    },
    {
     "name": "stdout",
     "output_type": "stream",
     "text": [
      "File data/MSR-VTT/video1388.mp4 already exists, skipping download.\n"
     ]
    },
    {
     "name": "stderr",
     "output_type": "stream",
     "text": [
      "Map:  51%|█████▏    | 360/700 [05:02<05:53,  1.04s/ examples]"
     ]
    },
    {
     "name": "stdout",
     "output_type": "stream",
     "text": [
      "Failed video4634: Command '['yt-dlp', '--cookies', 'D:\\\\thanhloc\\\\Semester251\\\\DIP&CV\\\\yt_cookies.txt', '--sleep-interval', '1', '--max-sleep-interval', '3', '-f', 'bestvideo[height<=480]*+bestaudio/best[height<=480]', '-o', 'data/MSR-VTT/video4634.mp4', 'https://www.youtube.com/watch?v=8-24M3tdxe8']' returned non-zero exit status 1.\n",
      "File data/MSR-VTT/video5929.mp4 already exists, skipping download.\n",
      "File data/MSR-VTT/video1017.mp4 already exists, skipping download.\n"
     ]
    },
    {
     "name": "stderr",
     "output_type": "stream",
     "text": [
      "Map:  52%|█████▏    | 363/700 [05:04<05:37,  1.00s/ examples]"
     ]
    },
    {
     "name": "stdout",
     "output_type": "stream",
     "text": [
      "Failed video2799: Command '['yt-dlp', '--cookies', 'D:\\\\thanhloc\\\\Semester251\\\\DIP&CV\\\\yt_cookies.txt', '--sleep-interval', '1', '--max-sleep-interval', '3', '-f', 'bestvideo[height<=480]*+bestaudio/best[height<=480]', '-o', 'data/MSR-VTT/video2799.mp4', 'https://www.youtube.com/watch?v=TtFm6GJ9mZM']' returned non-zero exit status 1.\n",
      "File data/MSR-VTT/video1934.mp4 already exists, skipping download.\n",
      "File data/MSR-VTT/video1403.mp4 already exists, skipping download.\n",
      "File data/MSR-VTT/video181.mp4 already exists, skipping download.\n"
     ]
    },
    {
     "name": "stderr",
     "output_type": "stream",
     "text": [
      "Map:  52%|█████▏    | 367/700 [05:07<04:55,  1.13 examples/s]"
     ]
    },
    {
     "name": "stdout",
     "output_type": "stream",
     "text": [
      "Failed video4897: Command '['yt-dlp', '--cookies', 'D:\\\\thanhloc\\\\Semester251\\\\DIP&CV\\\\yt_cookies.txt', '--sleep-interval', '1', '--max-sleep-interval', '3', '-f', 'bestvideo[height<=480]*+bestaudio/best[height<=480]', '-o', 'data/MSR-VTT/video4897.mp4', 'https://www.youtube.com/watch?v=U0770Owhk9Y']' returned non-zero exit status 1.\n"
     ]
    },
    {
     "name": "stderr",
     "output_type": "stream",
     "text": [
      "Map:  53%|█████▎    | 368/700 [05:10<06:14,  1.13s/ examples]"
     ]
    },
    {
     "name": "stdout",
     "output_type": "stream",
     "text": [
      "Failed video5637: Command '['yt-dlp', '--cookies', 'D:\\\\thanhloc\\\\Semester251\\\\DIP&CV\\\\yt_cookies.txt', '--sleep-interval', '1', '--max-sleep-interval', '3', '-f', 'bestvideo[height<=480]*+bestaudio/best[height<=480]', '-o', 'data/MSR-VTT/video5637.mp4', 'https://www.youtube.com/watch?v=5qK9EKZcFV8']' returned non-zero exit status 1.\n"
     ]
    },
    {
     "name": "stderr",
     "output_type": "stream",
     "text": [
      "Map:  53%|█████▎    | 371/700 [05:14<05:55,  1.08s/ examples]"
     ]
    },
    {
     "name": "stdout",
     "output_type": "stream",
     "text": [
      "Failed video4518: Command '['yt-dlp', '--cookies', 'D:\\\\thanhloc\\\\Semester251\\\\DIP&CV\\\\yt_cookies.txt', '--sleep-interval', '1', '--max-sleep-interval', '3', '-f', 'bestvideo[height<=480]*+bestaudio/best[height<=480]', '-o', 'data/MSR-VTT/video4518.mp4', 'https://www.youtube.com/watch?v=BaxnMOUILIU']' returned non-zero exit status 1.\n",
      "File data/MSR-VTT/video146.mp4 already exists, skipping download.\n",
      "File data/MSR-VTT/video5122.mp4 already exists, skipping download.\n"
     ]
    },
    {
     "name": "stderr",
     "output_type": "stream",
     "text": [
      "Map:  53%|█████▎    | 372/700 [05:14<05:04,  1.08 examples/s]"
     ]
    },
    {
     "name": "stdout",
     "output_type": "stream",
     "text": [
      "File data/MSR-VTT/video6905.mp4 already exists, skipping download.\n",
      "File data/MSR-VTT/video3356.mp4 already exists, skipping download.\n",
      "File data/MSR-VTT/video5854.mp4 already exists, skipping download.\n",
      "File data/MSR-VTT/video5723.mp4 already exists, skipping download.\n",
      "File data/MSR-VTT/video684.mp4 already exists, skipping download.\n",
      "File data/MSR-VTT/video917.mp4 already exists, skipping download.\n",
      "File data/MSR-VTT/video4497.mp4 already exists, skipping download.\n",
      "File data/MSR-VTT/video3192.mp4 already exists, skipping download.\n",
      "File data/MSR-VTT/video6377.mp4 already exists, skipping download.\n"
     ]
    },
    {
     "name": "stderr",
     "output_type": "stream",
     "text": [
      "Map:  54%|█████▍    | 381/700 [05:18<03:02,  1.75 examples/s]"
     ]
    },
    {
     "name": "stdout",
     "output_type": "stream",
     "text": [
      "Failed video623: Command '['yt-dlp', '--cookies', 'D:\\\\thanhloc\\\\Semester251\\\\DIP&CV\\\\yt_cookies.txt', '--sleep-interval', '1', '--max-sleep-interval', '3', '-f', 'bestvideo[height<=480]*+bestaudio/best[height<=480]', '-o', 'data/MSR-VTT/video623.mp4', 'https://www.youtube.com/watch?v=7P2-CcxC_PI']' returned non-zero exit status 1.\n",
      "File data/MSR-VTT/video926.mp4 already exists, skipping download.\n"
     ]
    },
    {
     "name": "stderr",
     "output_type": "stream",
     "text": [
      "Map:  55%|█████▍    | 383/700 [05:20<03:48,  1.39 examples/s]"
     ]
    },
    {
     "name": "stdout",
     "output_type": "stream",
     "text": [
      "Failed video1865: Command '['yt-dlp', '--cookies', 'D:\\\\thanhloc\\\\Semester251\\\\DIP&CV\\\\yt_cookies.txt', '--sleep-interval', '1', '--max-sleep-interval', '3', '-f', 'bestvideo[height<=480]*+bestaudio/best[height<=480]', '-o', 'data/MSR-VTT/video1865.mp4', 'https://www.youtube.com/watch?v=KU2fWMxmfAg']' returned non-zero exit status 1.\n"
     ]
    },
    {
     "name": "stderr",
     "output_type": "stream",
     "text": [
      "Map:  55%|█████▍    | 384/700 [05:23<05:02,  1.04 examples/s]"
     ]
    },
    {
     "name": "stdout",
     "output_type": "stream",
     "text": [
      "Failed video4547: Command '['yt-dlp', '--cookies', 'D:\\\\thanhloc\\\\Semester251\\\\DIP&CV\\\\yt_cookies.txt', '--sleep-interval', '1', '--max-sleep-interval', '3', '-f', 'bestvideo[height<=480]*+bestaudio/best[height<=480]', '-o', 'data/MSR-VTT/video4547.mp4', 'https://www.youtube.com/watch?v=CihlYXrBuJs']' returned non-zero exit status 1.\n",
      "File data/MSR-VTT/video4136.mp4 already exists, skipping download.\n",
      "File data/MSR-VTT/video2071.mp4 already exists, skipping download.\n"
     ]
    },
    {
     "name": "stderr",
     "output_type": "stream",
     "text": [
      "Map:  55%|█████▌    | 387/700 [05:26<05:10,  1.01 examples/s]"
     ]
    },
    {
     "name": "stdout",
     "output_type": "stream",
     "text": [
      "Failed video6990: Command '['yt-dlp', '--cookies', 'D:\\\\thanhloc\\\\Semester251\\\\DIP&CV\\\\yt_cookies.txt', '--sleep-interval', '1', '--max-sleep-interval', '3', '-f', 'bestvideo[height<=480]*+bestaudio/best[height<=480]', '-o', 'data/MSR-VTT/video6990.mp4', 'https://www.youtube.com/watch?v=z9GrIt4pkHk']' returned non-zero exit status 1.\n",
      "File data/MSR-VTT/video930.mp4 already exists, skipping download.\n",
      "File data/MSR-VTT/video2069.mp4 already exists, skipping download.\n",
      "File data/MSR-VTT/video3800.mp4 already exists, skipping download.\n",
      "File data/MSR-VTT/video4189.mp4 already exists, skipping download.\n"
     ]
    },
    {
     "name": "stderr",
     "output_type": "stream",
     "text": [
      "Map:  56%|█████▌    | 392/700 [05:29<04:04,  1.26 examples/s]"
     ]
    },
    {
     "name": "stdout",
     "output_type": "stream",
     "text": [
      "Failed video3842: Command '['yt-dlp', '--cookies', 'D:\\\\thanhloc\\\\Semester251\\\\DIP&CV\\\\yt_cookies.txt', '--sleep-interval', '1', '--max-sleep-interval', '3', '-f', 'bestvideo[height<=480]*+bestaudio/best[height<=480]', '-o', 'data/MSR-VTT/video3842.mp4', 'https://www.youtube.com/watch?v=0ssZ6hF_3dc']' returned non-zero exit status 1.\n",
      "File data/MSR-VTT/video2505.mp4 already exists, skipping download.\n",
      "File data/MSR-VTT/video3544.mp4 already exists, skipping download.\n",
      "File data/MSR-VTT/video16.mp4 already exists, skipping download.\n",
      "File data/MSR-VTT/video6953.mp4 already exists, skipping download.\n",
      "File data/MSR-VTT/video1642.mp4 already exists, skipping download.\n",
      "File data/MSR-VTT/video3193.mp4 already exists, skipping download.\n"
     ]
    },
    {
     "name": "stderr",
     "output_type": "stream",
     "text": [
      "Map:  57%|█████▋    | 399/700 [05:33<03:19,  1.51 examples/s]"
     ]
    },
    {
     "name": "stdout",
     "output_type": "stream",
     "text": [
      "Failed video2240: Command '['yt-dlp', '--cookies', 'D:\\\\thanhloc\\\\Semester251\\\\DIP&CV\\\\yt_cookies.txt', '--sleep-interval', '1', '--max-sleep-interval', '3', '-f', 'bestvideo[height<=480]*+bestaudio/best[height<=480]', '-o', 'data/MSR-VTT/video2240.mp4', 'https://www.youtube.com/watch?v=SKt2mqzFG_0']' returned non-zero exit status 1.\n"
     ]
    },
    {
     "name": "stderr",
     "output_type": "stream",
     "text": [
      "Map:  57%|█████▋    | 400/700 [05:37<04:42,  1.06 examples/s]"
     ]
    },
    {
     "name": "stdout",
     "output_type": "stream",
     "text": [
      "Failed video2667: Command '['yt-dlp', '--cookies', 'D:\\\\thanhloc\\\\Semester251\\\\DIP&CV\\\\yt_cookies.txt', '--sleep-interval', '1', '--max-sleep-interval', '3', '-f', 'bestvideo[height<=480]*+bestaudio/best[height<=480]', '-o', 'data/MSR-VTT/video2667.mp4', 'https://www.youtube.com/watch?v=Ybx3N1VKK3Y']' returned non-zero exit status 1.\n"
     ]
    },
    {
     "name": "stderr",
     "output_type": "stream",
     "text": [
      "Map:  57%|█████▋    | 401/700 [05:42<07:17,  1.46s/ examples]"
     ]
    },
    {
     "name": "stdout",
     "output_type": "stream",
     "text": [
      "Failed video6669: Command '['yt-dlp', '--cookies', 'D:\\\\thanhloc\\\\Semester251\\\\DIP&CV\\\\yt_cookies.txt', '--sleep-interval', '1', '--max-sleep-interval', '3', '-f', 'bestvideo[height<=480]*+bestaudio/best[height<=480]', '-o', 'data/MSR-VTT/video6669.mp4', 'https://www.youtube.com/watch?v=3IvkH_uKDdo']' returned non-zero exit status 1.\n",
      "File data/MSR-VTT/video3703.mp4 already exists, skipping download.\n"
     ]
    },
    {
     "name": "stderr",
     "output_type": "stream",
     "text": [
      "Map:  58%|█████▊    | 403/700 [05:51<10:39,  2.15s/ examples]"
     ]
    },
    {
     "name": "stdout",
     "output_type": "stream",
     "text": [
      "Failed video4296: Command '['yt-dlp', '--cookies', 'D:\\\\thanhloc\\\\Semester251\\\\DIP&CV\\\\yt_cookies.txt', '--sleep-interval', '1', '--max-sleep-interval', '3', '-f', 'bestvideo[height<=480]*+bestaudio/best[height<=480]', '-o', 'data/MSR-VTT/video4296.mp4', 'https://www.youtube.com/watch?v=jA8zSAF1gPI']' returned non-zero exit status 1.\n",
      "File data/MSR-VTT/video3204.mp4 already exists, skipping download.\n",
      "File data/MSR-VTT/video1206.mp4 already exists, skipping download.\n",
      "File data/MSR-VTT/video6240.mp4 already exists, skipping download.\n",
      "File data/MSR-VTT/video1183.mp4 already exists, skipping download.\n",
      "File data/MSR-VTT/video6399.mp4 already exists, skipping download.\n",
      "File data/MSR-VTT/video4980.mp4 already exists, skipping download.\n",
      "File data/MSR-VTT/video728.mp4 already exists, skipping download.\n"
     ]
    },
    {
     "name": "stderr",
     "output_type": "stream",
     "text": [
      "Map:  59%|█████▊    | 411/700 [05:56<06:00,  1.25s/ examples]"
     ]
    },
    {
     "name": "stdout",
     "output_type": "stream",
     "text": [
      "Failed video3989: Command '['yt-dlp', '--cookies', 'D:\\\\thanhloc\\\\Semester251\\\\DIP&CV\\\\yt_cookies.txt', '--sleep-interval', '1', '--max-sleep-interval', '3', '-f', 'bestvideo[height<=480]*+bestaudio/best[height<=480]', '-o', 'data/MSR-VTT/video3989.mp4', 'https://www.youtube.com/watch?v=6Ndw8upyJKo']' returned non-zero exit status 1.\n",
      "File data/MSR-VTT/video6155.mp4 already exists, skipping download.\n"
     ]
    },
    {
     "name": "stderr",
     "output_type": "stream",
     "text": [
      "Map:  59%|█████▉    | 413/700 [06:00<06:51,  1.43s/ examples]"
     ]
    },
    {
     "name": "stdout",
     "output_type": "stream",
     "text": [
      "Failed video6765: Command '['yt-dlp', '--cookies', 'D:\\\\thanhloc\\\\Semester251\\\\DIP&CV\\\\yt_cookies.txt', '--sleep-interval', '1', '--max-sleep-interval', '3', '-f', 'bestvideo[height<=480]*+bestaudio/best[height<=480]', '-o', 'data/MSR-VTT/video6765.mp4', 'https://www.youtube.com/watch?v=0ZL_q7oUVrQ']' returned non-zero exit status 1.\n",
      "File data/MSR-VTT/video2484.mp4 already exists, skipping download.\n"
     ]
    },
    {
     "name": "stderr",
     "output_type": "stream",
     "text": [
      "Map:  59%|█████▉    | 415/700 [06:04<07:20,  1.55s/ examples]"
     ]
    },
    {
     "name": "stdout",
     "output_type": "stream",
     "text": [
      "Failed video5417: Command '['yt-dlp', '--cookies', 'D:\\\\thanhloc\\\\Semester251\\\\DIP&CV\\\\yt_cookies.txt', '--sleep-interval', '1', '--max-sleep-interval', '3', '-f', 'bestvideo[height<=480]*+bestaudio/best[height<=480]', '-o', 'data/MSR-VTT/video5417.mp4', 'https://www.youtube.com/watch?v=Jgjwv_YuIjI']' returned non-zero exit status 1.\n"
     ]
    },
    {
     "name": "stderr",
     "output_type": "stream",
     "text": [
      "Map:  59%|█████▉    | 416/700 [06:08<08:32,  1.80s/ examples]"
     ]
    },
    {
     "name": "stdout",
     "output_type": "stream",
     "text": [
      "Failed video1804: Command '['yt-dlp', '--cookies', 'D:\\\\thanhloc\\\\Semester251\\\\DIP&CV\\\\yt_cookies.txt', '--sleep-interval', '1', '--max-sleep-interval', '3', '-f', 'bestvideo[height<=480]*+bestaudio/best[height<=480]', '-o', 'data/MSR-VTT/video1804.mp4', 'https://www.youtube.com/watch?v=Y_u9B3TGSzs']' returned non-zero exit status 1.\n",
      "File data/MSR-VTT/video1333.mp4 already exists, skipping download.\n",
      "File data/MSR-VTT/video2399.mp4 already exists, skipping download.\n",
      "File data/MSR-VTT/video2019.mp4 already exists, skipping download.\n",
      "File data/MSR-VTT/video3424.mp4 already exists, skipping download.\n",
      "File data/MSR-VTT/video4563.mp4 already exists, skipping download.\n"
     ]
    },
    {
     "name": "stderr",
     "output_type": "stream",
     "text": [
      "Map:  60%|██████    | 422/700 [06:14<06:14,  1.35s/ examples]"
     ]
    },
    {
     "name": "stdout",
     "output_type": "stream",
     "text": [
      "Failed video3317: Command '['yt-dlp', '--cookies', 'D:\\\\thanhloc\\\\Semester251\\\\DIP&CV\\\\yt_cookies.txt', '--sleep-interval', '1', '--max-sleep-interval', '3', '-f', 'bestvideo[height<=480]*+bestaudio/best[height<=480]', '-o', 'data/MSR-VTT/video3317.mp4', 'https://www.youtube.com/watch?v=3zETEdwV4ko']' returned non-zero exit status 1.\n",
      "File data/MSR-VTT/video1944.mp4 already exists, skipping download.\n",
      "File data/MSR-VTT/video4860.mp4 already exists, skipping download.\n",
      "File data/MSR-VTT/video703.mp4 already exists, skipping download.\n",
      "File data/MSR-VTT/video2467.mp4 already exists, skipping download.\n",
      "File data/MSR-VTT/video2888.mp4 already exists, skipping download.\n"
     ]
    },
    {
     "name": "stderr",
     "output_type": "stream",
     "text": [
      "Map:  61%|██████    | 428/700 [06:19<05:16,  1.16s/ examples]"
     ]
    },
    {
     "name": "stdout",
     "output_type": "stream",
     "text": [
      "Failed video6194: Command '['yt-dlp', '--cookies', 'D:\\\\thanhloc\\\\Semester251\\\\DIP&CV\\\\yt_cookies.txt', '--sleep-interval', '1', '--max-sleep-interval', '3', '-f', 'bestvideo[height<=480]*+bestaudio/best[height<=480]', '-o', 'data/MSR-VTT/video6194.mp4', 'https://www.youtube.com/watch?v=5EfyD7Wu5fQ']' returned non-zero exit status 1.\n",
      "File data/MSR-VTT/video676.mp4 already exists, skipping download.\n"
     ]
    },
    {
     "name": "stderr",
     "output_type": "stream",
     "text": [
      "Map:  61%|██████▏   | 430/700 [06:22<05:30,  1.23s/ examples]"
     ]
    },
    {
     "name": "stdout",
     "output_type": "stream",
     "text": [
      "Failed video4986: Command '['yt-dlp', '--cookies', 'D:\\\\thanhloc\\\\Semester251\\\\DIP&CV\\\\yt_cookies.txt', '--sleep-interval', '1', '--max-sleep-interval', '3', '-f', 'bestvideo[height<=480]*+bestaudio/best[height<=480]', '-o', 'data/MSR-VTT/video4986.mp4', 'https://www.youtube.com/watch?v=psiN4p_SEA0']' returned non-zero exit status 1.\n",
      "File data/MSR-VTT/video3462.mp4 already exists, skipping download.\n"
     ]
    },
    {
     "name": "stderr",
     "output_type": "stream",
     "text": [
      "Map:  62%|██████▏   | 432/700 [06:25<05:37,  1.26s/ examples]"
     ]
    },
    {
     "name": "stdout",
     "output_type": "stream",
     "text": [
      "Failed video3042: Command '['yt-dlp', '--cookies', 'D:\\\\thanhloc\\\\Semester251\\\\DIP&CV\\\\yt_cookies.txt', '--sleep-interval', '1', '--max-sleep-interval', '3', '-f', 'bestvideo[height<=480]*+bestaudio/best[height<=480]', '-o', 'data/MSR-VTT/video3042.mp4', 'https://www.youtube.com/watch?v=n8Pjpuft5dA']' returned non-zero exit status 1.\n",
      "File data/MSR-VTT/video4237.mp4 already exists, skipping download.\n",
      "File data/MSR-VTT/video2596.mp4 already exists, skipping download.\n",
      "File data/MSR-VTT/video847.mp4 already exists, skipping download.\n",
      "File data/MSR-VTT/video4209.mp4 already exists, skipping download.\n"
     ]
    },
    {
     "name": "stderr",
     "output_type": "stream",
     "text": [
      "Map:  62%|██████▏   | 437/700 [06:28<04:21,  1.01 examples/s]"
     ]
    },
    {
     "name": "stdout",
     "output_type": "stream",
     "text": [
      "Failed video3110: Command '['yt-dlp', '--cookies', 'D:\\\\thanhloc\\\\Semester251\\\\DIP&CV\\\\yt_cookies.txt', '--sleep-interval', '1', '--max-sleep-interval', '3', '-f', 'bestvideo[height<=480]*+bestaudio/best[height<=480]', '-o', 'data/MSR-VTT/video3110.mp4', 'https://www.youtube.com/watch?v=Y-XLsQv-w48']' returned non-zero exit status 1.\n"
     ]
    },
    {
     "name": "stderr",
     "output_type": "stream",
     "text": [
      "Map:  63%|██████▎   | 438/700 [06:31<05:13,  1.20s/ examples]"
     ]
    },
    {
     "name": "stdout",
     "output_type": "stream",
     "text": [
      "Failed video462: Command '['yt-dlp', '--cookies', 'D:\\\\thanhloc\\\\Semester251\\\\DIP&CV\\\\yt_cookies.txt', '--sleep-interval', '1', '--max-sleep-interval', '3', '-f', 'bestvideo[height<=480]*+bestaudio/best[height<=480]', '-o', 'data/MSR-VTT/video462.mp4', 'https://www.youtube.com/watch?v=csx_PHKJei8']' returned non-zero exit status 1.\n"
     ]
    },
    {
     "name": "stderr",
     "output_type": "stream",
     "text": [
      "Map:  63%|██████▎   | 439/700 [06:34<06:02,  1.39s/ examples]"
     ]
    },
    {
     "name": "stdout",
     "output_type": "stream",
     "text": [
      "Failed video4484: Command '['yt-dlp', '--cookies', 'D:\\\\thanhloc\\\\Semester251\\\\DIP&CV\\\\yt_cookies.txt', '--sleep-interval', '1', '--max-sleep-interval', '3', '-f', 'bestvideo[height<=480]*+bestaudio/best[height<=480]', '-o', 'data/MSR-VTT/video4484.mp4', 'https://www.youtube.com/watch?v=xKT1w92paYA']' returned non-zero exit status 1.\n"
     ]
    },
    {
     "name": "stderr",
     "output_type": "stream",
     "text": [
      "Map:  63%|██████▎   | 440/700 [06:36<06:59,  1.61s/ examples]"
     ]
    },
    {
     "name": "stdout",
     "output_type": "stream",
     "text": [
      "Failed video2200: Command '['yt-dlp', '--cookies', 'D:\\\\thanhloc\\\\Semester251\\\\DIP&CV\\\\yt_cookies.txt', '--sleep-interval', '1', '--max-sleep-interval', '3', '-f', 'bestvideo[height<=480]*+bestaudio/best[height<=480]', '-o', 'data/MSR-VTT/video2200.mp4', 'https://www.youtube.com/watch?v=vYgfPE5m3B8']' returned non-zero exit status 1.\n",
      "File data/MSR-VTT/video2373.mp4 already exists, skipping download.\n"
     ]
    },
    {
     "name": "stderr",
     "output_type": "stream",
     "text": [
      "Map:  63%|██████▎   | 442/700 [06:40<07:27,  1.73s/ examples]"
     ]
    },
    {
     "name": "stdout",
     "output_type": "stream",
     "text": [
      "Failed video1650: Command '['yt-dlp', '--cookies', 'D:\\\\thanhloc\\\\Semester251\\\\DIP&CV\\\\yt_cookies.txt', '--sleep-interval', '1', '--max-sleep-interval', '3', '-f', 'bestvideo[height<=480]*+bestaudio/best[height<=480]', '-o', 'data/MSR-VTT/video1650.mp4', 'https://www.youtube.com/watch?v=UgwptLqHRLI']' returned non-zero exit status 1.\n"
     ]
    },
    {
     "name": "stderr",
     "output_type": "stream",
     "text": [
      "Map:  63%|██████▎   | 443/700 [06:43<08:28,  1.98s/ examples]"
     ]
    },
    {
     "name": "stdout",
     "output_type": "stream",
     "text": [
      "Failed video2956: Command '['yt-dlp', '--cookies', 'D:\\\\thanhloc\\\\Semester251\\\\DIP&CV\\\\yt_cookies.txt', '--sleep-interval', '1', '--max-sleep-interval', '3', '-f', 'bestvideo[height<=480]*+bestaudio/best[height<=480]', '-o', 'data/MSR-VTT/video2956.mp4', 'https://www.youtube.com/watch?v=iq4dG_i_zxs']' returned non-zero exit status 1.\n"
     ]
    },
    {
     "name": "stderr",
     "output_type": "stream",
     "text": [
      "Map:  63%|██████▎   | 444/700 [06:48<10:52,  2.55s/ examples]"
     ]
    },
    {
     "name": "stdout",
     "output_type": "stream",
     "text": [
      "Failed video3630: Command '['yt-dlp', '--cookies', 'D:\\\\thanhloc\\\\Semester251\\\\DIP&CV\\\\yt_cookies.txt', '--sleep-interval', '1', '--max-sleep-interval', '3', '-f', 'bestvideo[height<=480]*+bestaudio/best[height<=480]', '-o', 'data/MSR-VTT/video3630.mp4', 'https://www.youtube.com/watch?v=uYWoUJ_f4r4']' returned non-zero exit status 1.\n",
      "File data/MSR-VTT/video4143.mp4 already exists, skipping download.\n",
      "File data/MSR-VTT/video3639.mp4 already exists, skipping download.\n",
      "File data/MSR-VTT/video2027.mp4 already exists, skipping download.\n",
      "File data/MSR-VTT/video4450.mp4 already exists, skipping download.\n",
      "File data/MSR-VTT/video1257.mp4 already exists, skipping download.\n",
      "File data/MSR-VTT/video6185.mp4 already exists, skipping download.\n",
      "File data/MSR-VTT/video4122.mp4 already exists, skipping download.\n",
      "File data/MSR-VTT/video1620.mp4 already exists, skipping download.\n",
      "File data/MSR-VTT/video3200.mp4 already exists, skipping download.\n",
      "File data/MSR-VTT/video212.mp4 already exists, skipping download.\n",
      "File data/MSR-VTT/video6790.mp4 already exists, skipping download.\n",
      "File data/MSR-VTT/video6824.mp4 already exists, skipping download.\n",
      "File data/MSR-VTT/video2112.mp4 already exists, skipping download.\n"
     ]
    },
    {
     "name": "stderr",
     "output_type": "stream",
     "text": [
      "Map:  65%|██████▌   | 458/700 [06:52<02:50,  1.42 examples/s]"
     ]
    },
    {
     "name": "stdout",
     "output_type": "stream",
     "text": [
      "Failed video6908: Command '['yt-dlp', '--cookies', 'D:\\\\thanhloc\\\\Semester251\\\\DIP&CV\\\\yt_cookies.txt', '--sleep-interval', '1', '--max-sleep-interval', '3', '-f', 'bestvideo[height<=480]*+bestaudio/best[height<=480]', '-o', 'data/MSR-VTT/video6908.mp4', 'https://www.youtube.com/watch?v=9F4IrqgH6qA']' returned non-zero exit status 1.\n",
      "File data/MSR-VTT/video2597.mp4 already exists, skipping download.\n",
      "File data/MSR-VTT/video5693.mp4 already exists, skipping download.\n",
      "File data/MSR-VTT/video2257.mp4 already exists, skipping download.\n",
      "File data/MSR-VTT/video2076.mp4 already exists, skipping download.\n"
     ]
    },
    {
     "name": "stderr",
     "output_type": "stream",
     "text": [
      "Map:  66%|██████▌   | 463/700 [06:55<02:44,  1.44 examples/s]"
     ]
    },
    {
     "name": "stdout",
     "output_type": "stream",
     "text": [
      "Failed video3127: Command '['yt-dlp', '--cookies', 'D:\\\\thanhloc\\\\Semester251\\\\DIP&CV\\\\yt_cookies.txt', '--sleep-interval', '1', '--max-sleep-interval', '3', '-f', 'bestvideo[height<=480]*+bestaudio/best[height<=480]', '-o', 'data/MSR-VTT/video3127.mp4', 'https://www.youtube.com/watch?v=6WbqOWLqBv0']' returned non-zero exit status 1.\n",
      "File data/MSR-VTT/video2840.mp4 already exists, skipping download.\n",
      "File data/MSR-VTT/video3712.mp4 already exists, skipping download.\n"
     ]
    },
    {
     "name": "stderr",
     "output_type": "stream",
     "text": [
      "Map:  67%|██████▋   | 466/700 [06:59<03:06,  1.26 examples/s]"
     ]
    },
    {
     "name": "stdout",
     "output_type": "stream",
     "text": [
      "Failed video4852: Command '['yt-dlp', '--cookies', 'D:\\\\thanhloc\\\\Semester251\\\\DIP&CV\\\\yt_cookies.txt', '--sleep-interval', '1', '--max-sleep-interval', '3', '-f', 'bestvideo[height<=480]*+bestaudio/best[height<=480]', '-o', 'data/MSR-VTT/video4852.mp4', 'https://www.youtube.com/watch?v=0yFQQax55ps']' returned non-zero exit status 1.\n",
      "File data/MSR-VTT/video1585.mp4 already exists, skipping download.\n",
      "File data/MSR-VTT/video1801.mp4 already exists, skipping download.\n"
     ]
    },
    {
     "name": "stderr",
     "output_type": "stream",
     "text": [
      "Map:  67%|██████▋   | 469/700 [07:05<04:11,  1.09s/ examples]"
     ]
    },
    {
     "name": "stdout",
     "output_type": "stream",
     "text": [
      "Failed video6794: Command '['yt-dlp', '--cookies', 'D:\\\\thanhloc\\\\Semester251\\\\DIP&CV\\\\yt_cookies.txt', '--sleep-interval', '1', '--max-sleep-interval', '3', '-f', 'bestvideo[height<=480]*+bestaudio/best[height<=480]', '-o', 'data/MSR-VTT/video6794.mp4', 'https://www.youtube.com/watch?v=W8yjP35v1EU']' returned non-zero exit status 1.\n",
      "File data/MSR-VTT/video5701.mp4 already exists, skipping download.\n",
      "File data/MSR-VTT/video24.mp4 already exists, skipping download.\n"
     ]
    },
    {
     "name": "stderr",
     "output_type": "stream",
     "text": [
      "Map:  67%|██████▋   | 472/700 [07:08<04:05,  1.08s/ examples]"
     ]
    },
    {
     "name": "stdout",
     "output_type": "stream",
     "text": [
      "Failed video1391: Command '['yt-dlp', '--cookies', 'D:\\\\thanhloc\\\\Semester251\\\\DIP&CV\\\\yt_cookies.txt', '--sleep-interval', '1', '--max-sleep-interval', '3', '-f', 'bestvideo[height<=480]*+bestaudio/best[height<=480]', '-o', 'data/MSR-VTT/video1391.mp4', 'https://www.youtube.com/watch?v=Y1c_ehKN5Rs']' returned non-zero exit status 1.\n"
     ]
    },
    {
     "name": "stderr",
     "output_type": "stream",
     "text": [
      "Map:  68%|██████▊   | 473/700 [07:12<05:03,  1.34s/ examples]"
     ]
    },
    {
     "name": "stdout",
     "output_type": "stream",
     "text": [
      "Failed video3889: Command '['yt-dlp', '--cookies', 'D:\\\\thanhloc\\\\Semester251\\\\DIP&CV\\\\yt_cookies.txt', '--sleep-interval', '1', '--max-sleep-interval', '3', '-f', 'bestvideo[height<=480]*+bestaudio/best[height<=480]', '-o', 'data/MSR-VTT/video3889.mp4', 'https://www.youtube.com/watch?v=X3bbTtSD1xM']' returned non-zero exit status 1.\n"
     ]
    },
    {
     "name": "stderr",
     "output_type": "stream",
     "text": [
      "Map:  68%|██████▊   | 474/700 [07:16<06:20,  1.69s/ examples]"
     ]
    },
    {
     "name": "stdout",
     "output_type": "stream",
     "text": [
      "Failed video2108: Command '['yt-dlp', '--cookies', 'D:\\\\thanhloc\\\\Semester251\\\\DIP&CV\\\\yt_cookies.txt', '--sleep-interval', '1', '--max-sleep-interval', '3', '-f', 'bestvideo[height<=480]*+bestaudio/best[height<=480]', '-o', 'data/MSR-VTT/video2108.mp4', 'https://www.youtube.com/watch?v=JropYnhB4Tk']' returned non-zero exit status 1.\n",
      "File data/MSR-VTT/video5790.mp4 already exists, skipping download.\n",
      "File data/MSR-VTT/video4441.mp4 already exists, skipping download.\n",
      "File data/MSR-VTT/video3019.mp4 already exists, skipping download.\n",
      "File data/MSR-VTT/video32.mp4 already exists, skipping download.\n",
      "File data/MSR-VTT/video3620.mp4 already exists, skipping download.\n",
      "File data/MSR-VTT/video6795.mp4 already exists, skipping download.\n"
     ]
    },
    {
     "name": "stderr",
     "output_type": "stream",
     "text": [
      "Map:  69%|██████▊   | 481/700 [07:19<03:46,  1.03s/ examples]"
     ]
    },
    {
     "name": "stdout",
     "output_type": "stream",
     "text": [
      "Failed video2886: Command '['yt-dlp', '--cookies', 'D:\\\\thanhloc\\\\Semester251\\\\DIP&CV\\\\yt_cookies.txt', '--sleep-interval', '1', '--max-sleep-interval', '3', '-f', 'bestvideo[height<=480]*+bestaudio/best[height<=480]', '-o', 'data/MSR-VTT/video2886.mp4', 'https://www.youtube.com/watch?v=-UK8B1nK8Co']' returned non-zero exit status 1.\n",
      "File data/MSR-VTT/video2691.mp4 already exists, skipping download.\n",
      "File data/MSR-VTT/video1527.mp4 already exists, skipping download.\n",
      "File data/MSR-VTT/video5847.mp4 already exists, skipping download.\n"
     ]
    },
    {
     "name": "stderr",
     "output_type": "stream",
     "text": [
      "Map:  69%|██████▉   | 485/700 [07:23<03:23,  1.05 examples/s]"
     ]
    },
    {
     "name": "stdout",
     "output_type": "stream",
     "text": [
      "Failed video3571: Command '['yt-dlp', '--cookies', 'D:\\\\thanhloc\\\\Semester251\\\\DIP&CV\\\\yt_cookies.txt', '--sleep-interval', '1', '--max-sleep-interval', '3', '-f', 'bestvideo[height<=480]*+bestaudio/best[height<=480]', '-o', 'data/MSR-VTT/video3571.mp4', 'https://www.youtube.com/watch?v=7Roa3aKnFoE']' returned non-zero exit status 1.\n",
      "File data/MSR-VTT/video82.mp4 already exists, skipping download.\n",
      "File data/MSR-VTT/video925.mp4 already exists, skipping download.\n",
      "File data/MSR-VTT/video2413.mp4 already exists, skipping download.\n",
      "File data/MSR-VTT/video2129.mp4 already exists, skipping download.\n",
      "File data/MSR-VTT/video6120.mp4 already exists, skipping download.\n"
     ]
    },
    {
     "name": "stderr",
     "output_type": "stream",
     "text": [
      "Map:  70%|███████   | 491/700 [07:26<02:48,  1.24 examples/s]"
     ]
    },
    {
     "name": "stdout",
     "output_type": "stream",
     "text": [
      "Failed video4169: Command '['yt-dlp', '--cookies', 'D:\\\\thanhloc\\\\Semester251\\\\DIP&CV\\\\yt_cookies.txt', '--sleep-interval', '1', '--max-sleep-interval', '3', '-f', 'bestvideo[height<=480]*+bestaudio/best[height<=480]', '-o', 'data/MSR-VTT/video4169.mp4', 'https://www.youtube.com/watch?v=sZVQENvQcB8']' returned non-zero exit status 1.\n"
     ]
    },
    {
     "name": "stderr",
     "output_type": "stream",
     "text": [
      "Map:  70%|███████   | 492/700 [07:29<03:27,  1.00 examples/s]"
     ]
    },
    {
     "name": "stdout",
     "output_type": "stream",
     "text": [
      "Failed video4094: Command '['yt-dlp', '--cookies', 'D:\\\\thanhloc\\\\Semester251\\\\DIP&CV\\\\yt_cookies.txt', '--sleep-interval', '1', '--max-sleep-interval', '3', '-f', 'bestvideo[height<=480]*+bestaudio/best[height<=480]', '-o', 'data/MSR-VTT/video4094.mp4', 'https://www.youtube.com/watch?v=n8Pjpuft5dA']' returned non-zero exit status 1.\n",
      "File data/MSR-VTT/video757.mp4 already exists, skipping download.\n",
      "File data/MSR-VTT/video1356.mp4 already exists, skipping download.\n",
      "File data/MSR-VTT/video2772.mp4 already exists, skipping download.\n",
      "File data/MSR-VTT/video1134.mp4 already exists, skipping download.\n"
     ]
    },
    {
     "name": "stderr",
     "output_type": "stream",
     "text": [
      "Map:  71%|███████   | 497/700 [07:32<02:44,  1.23 examples/s]"
     ]
    },
    {
     "name": "stdout",
     "output_type": "stream",
     "text": [
      "Failed video6752: Command '['yt-dlp', '--cookies', 'D:\\\\thanhloc\\\\Semester251\\\\DIP&CV\\\\yt_cookies.txt', '--sleep-interval', '1', '--max-sleep-interval', '3', '-f', 'bestvideo[height<=480]*+bestaudio/best[height<=480]', '-o', 'data/MSR-VTT/video6752.mp4', 'https://www.youtube.com/watch?v=1cOshmG3mAQ']' returned non-zero exit status 1.\n",
      "File data/MSR-VTT/video3017.mp4 already exists, skipping download.\n",
      "File data/MSR-VTT/video3418.mp4 already exists, skipping download.\n",
      "File data/MSR-VTT/video5545.mp4 already exists, skipping download.\n",
      "File data/MSR-VTT/video1104.mp4 already exists, skipping download.\n"
     ]
    },
    {
     "name": "stderr",
     "output_type": "stream",
     "text": [
      "Map:  72%|███████▏  | 502/700 [07:34<02:20,  1.41 examples/s]"
     ]
    },
    {
     "name": "stdout",
     "output_type": "stream",
     "text": [
      "Failed video3916: Command '['yt-dlp', '--cookies', 'D:\\\\thanhloc\\\\Semester251\\\\DIP&CV\\\\yt_cookies.txt', '--sleep-interval', '1', '--max-sleep-interval', '3', '-f', 'bestvideo[height<=480]*+bestaudio/best[height<=480]', '-o', 'data/MSR-VTT/video3916.mp4', 'https://www.youtube.com/watch?v=KK1UC8W9gcI']' returned non-zero exit status 1.\n",
      "File data/MSR-VTT/video652.mp4 already exists, skipping download.\n",
      "File data/MSR-VTT/video1082.mp4 already exists, skipping download.\n",
      "File data/MSR-VTT/video2970.mp4 already exists, skipping download.\n"
     ]
    },
    {
     "name": "stderr",
     "output_type": "stream",
     "text": [
      "Map:  72%|███████▏  | 506/700 [07:38<02:23,  1.35 examples/s]"
     ]
    },
    {
     "name": "stdout",
     "output_type": "stream",
     "text": [
      "Failed video56: Command '['yt-dlp', '--cookies', 'D:\\\\thanhloc\\\\Semester251\\\\DIP&CV\\\\yt_cookies.txt', '--sleep-interval', '1', '--max-sleep-interval', '3', '-f', 'bestvideo[height<=480]*+bestaudio/best[height<=480]', '-o', 'data/MSR-VTT/video56.mp4', 'https://www.youtube.com/watch?v=Ii2THk_yR3Q']' returned non-zero exit status 1.\n",
      "File data/MSR-VTT/video5678.mp4 already exists, skipping download.\n",
      "File data/MSR-VTT/video6353.mp4 already exists, skipping download.\n"
     ]
    },
    {
     "name": "stderr",
     "output_type": "stream",
     "text": [
      "Map:  73%|███████▎  | 509/700 [07:41<02:37,  1.21 examples/s]"
     ]
    },
    {
     "name": "stdout",
     "output_type": "stream",
     "text": [
      "Failed video3227: Command '['yt-dlp', '--cookies', 'D:\\\\thanhloc\\\\Semester251\\\\DIP&CV\\\\yt_cookies.txt', '--sleep-interval', '1', '--max-sleep-interval', '3', '-f', 'bestvideo[height<=480]*+bestaudio/best[height<=480]', '-o', 'data/MSR-VTT/video3227.mp4', 'https://www.youtube.com/watch?v=2By0C07Hbu8']' returned non-zero exit status 1.\n"
     ]
    },
    {
     "name": "stderr",
     "output_type": "stream",
     "text": [
      "Map:  73%|███████▎  | 510/700 [07:44<03:24,  1.07s/ examples]"
     ]
    },
    {
     "name": "stdout",
     "output_type": "stream",
     "text": [
      "Failed video5123: Command '['yt-dlp', '--cookies', 'D:\\\\thanhloc\\\\Semester251\\\\DIP&CV\\\\yt_cookies.txt', '--sleep-interval', '1', '--max-sleep-interval', '3', '-f', 'bestvideo[height<=480]*+bestaudio/best[height<=480]', '-o', 'data/MSR-VTT/video5123.mp4', 'https://www.youtube.com/watch?v=v8GABv0KnUg']' returned non-zero exit status 1.\n",
      "File data/MSR-VTT/video938.mp4 already exists, skipping download.\n",
      "File data/MSR-VTT/video5107.mp4 already exists, skipping download.\n",
      "File data/MSR-VTT/video163.mp4 already exists, skipping download.\n",
      "File data/MSR-VTT/video5554.mp4 already exists, skipping download.\n"
     ]
    },
    {
     "name": "stderr",
     "output_type": "stream",
     "text": [
      "Map:  74%|███████▎  | 515/700 [07:48<02:50,  1.09 examples/s]"
     ]
    },
    {
     "name": "stdout",
     "output_type": "stream",
     "text": [
      "Failed video4433: Command '['yt-dlp', '--cookies', 'D:\\\\thanhloc\\\\Semester251\\\\DIP&CV\\\\yt_cookies.txt', '--sleep-interval', '1', '--max-sleep-interval', '3', '-f', 'bestvideo[height<=480]*+bestaudio/best[height<=480]', '-o', 'data/MSR-VTT/video4433.mp4', 'https://www.youtube.com/watch?v=Ta0smNAe5Rs']' returned non-zero exit status 1.\n",
      "File data/MSR-VTT/video1781.mp4 already exists, skipping download.\n",
      "File data/MSR-VTT/video3255.mp4 already exists, skipping download.\n"
     ]
    },
    {
     "name": "stderr",
     "output_type": "stream",
     "text": [
      "Map:  74%|███████▍  | 518/700 [07:51<02:55,  1.04 examples/s]"
     ]
    },
    {
     "name": "stdout",
     "output_type": "stream",
     "text": [
      "Failed video5273: Command '['yt-dlp', '--cookies', 'D:\\\\thanhloc\\\\Semester251\\\\DIP&CV\\\\yt_cookies.txt', '--sleep-interval', '1', '--max-sleep-interval', '3', '-f', 'bestvideo[height<=480]*+bestaudio/best[height<=480]', '-o', 'data/MSR-VTT/video5273.mp4', 'https://www.youtube.com/watch?v=91Ec_949hO0']' returned non-zero exit status 1.\n",
      "File data/MSR-VTT/video4207.mp4 already exists, skipping download.\n"
     ]
    },
    {
     "name": "stderr",
     "output_type": "stream",
     "text": [
      "Map:  74%|███████▍  | 520/700 [07:54<03:14,  1.08s/ examples]"
     ]
    },
    {
     "name": "stdout",
     "output_type": "stream",
     "text": [
      "Failed video5856: Command '['yt-dlp', '--cookies', 'D:\\\\thanhloc\\\\Semester251\\\\DIP&CV\\\\yt_cookies.txt', '--sleep-interval', '1', '--max-sleep-interval', '3', '-f', 'bestvideo[height<=480]*+bestaudio/best[height<=480]', '-o', 'data/MSR-VTT/video5856.mp4', 'https://www.youtube.com/watch?v=m9uDOfPn-_M']' returned non-zero exit status 1.\n",
      "File data/MSR-VTT/video195.mp4 already exists, skipping download.\n",
      "File data/MSR-VTT/video6324.mp4 already exists, skipping download.\n"
     ]
    },
    {
     "name": "stderr",
     "output_type": "stream",
     "text": [
      "Map:  75%|███████▍  | 523/700 [07:57<03:06,  1.06s/ examples]"
     ]
    },
    {
     "name": "stdout",
     "output_type": "stream",
     "text": [
      "Failed video2683: Command '['yt-dlp', '--cookies', 'D:\\\\thanhloc\\\\Semester251\\\\DIP&CV\\\\yt_cookies.txt', '--sleep-interval', '1', '--max-sleep-interval', '3', '-f', 'bestvideo[height<=480]*+bestaudio/best[height<=480]', '-o', 'data/MSR-VTT/video2683.mp4', 'https://www.youtube.com/watch?v=y1M52qhRsdA']' returned non-zero exit status 1.\n",
      "File data/MSR-VTT/video6684.mp4 already exists, skipping download.\n",
      "File data/MSR-VTT/video6915.mp4 already exists, skipping download.\n",
      "File data/MSR-VTT/video6231.mp4 already exists, skipping download.\n",
      "File data/MSR-VTT/video4758.mp4 already exists, skipping download.\n",
      "File data/MSR-VTT/video1031.mp4 already exists, skipping download.\n",
      "File data/MSR-VTT/video2363.mp4 already exists, skipping download.\n"
     ]
    },
    {
     "name": "stderr",
     "output_type": "stream",
     "text": [
      "Map:  76%|███████▌  | 530/700 [08:00<02:10,  1.31 examples/s]"
     ]
    },
    {
     "name": "stdout",
     "output_type": "stream",
     "text": [
      "Failed video6756: Command '['yt-dlp', '--cookies', 'D:\\\\thanhloc\\\\Semester251\\\\DIP&CV\\\\yt_cookies.txt', '--sleep-interval', '1', '--max-sleep-interval', '3', '-f', 'bestvideo[height<=480]*+bestaudio/best[height<=480]', '-o', 'data/MSR-VTT/video6756.mp4', 'https://www.youtube.com/watch?v=slpMhNEyEF4']' returned non-zero exit status 1.\n",
      "File data/MSR-VTT/video3165.mp4 already exists, skipping download.\n",
      "File data/MSR-VTT/video6676.mp4 already exists, skipping download.\n"
     ]
    },
    {
     "name": "stderr",
     "output_type": "stream",
     "text": [
      "Map:  76%|███████▌  | 533/700 [08:03<02:18,  1.21 examples/s]"
     ]
    },
    {
     "name": "stdout",
     "output_type": "stream",
     "text": [
      "Failed video3224: Command '['yt-dlp', '--cookies', 'D:\\\\thanhloc\\\\Semester251\\\\DIP&CV\\\\yt_cookies.txt', '--sleep-interval', '1', '--max-sleep-interval', '3', '-f', 'bestvideo[height<=480]*+bestaudio/best[height<=480]', '-o', 'data/MSR-VTT/video3224.mp4', 'https://www.youtube.com/watch?v=wJA_1OCcaxY']' returned non-zero exit status 1.\n",
      "File data/MSR-VTT/video5942.mp4 already exists, skipping download.\n",
      "File data/MSR-VTT/video3415.mp4 already exists, skipping download.\n",
      "File data/MSR-VTT/video6718.mp4 already exists, skipping download.\n",
      "File data/MSR-VTT/video4974.mp4 already exists, skipping download.\n",
      "File data/MSR-VTT/video2274.mp4 already exists, skipping download.\n"
     ]
    },
    {
     "name": "stderr",
     "output_type": "stream",
     "text": [
      "Map:  77%|███████▋  | 539/700 [08:07<01:58,  1.36 examples/s]"
     ]
    },
    {
     "name": "stdout",
     "output_type": "stream",
     "text": [
      "Failed video5304: Command '['yt-dlp', '--cookies', 'D:\\\\thanhloc\\\\Semester251\\\\DIP&CV\\\\yt_cookies.txt', '--sleep-interval', '1', '--max-sleep-interval', '3', '-f', 'bestvideo[height<=480]*+bestaudio/best[height<=480]', '-o', 'data/MSR-VTT/video5304.mp4', 'https://www.youtube.com/watch?v=APSAWyDLa9s']' returned non-zero exit status 1.\n",
      "File data/MSR-VTT/video4581.mp4 already exists, skipping download.\n",
      "File data/MSR-VTT/video1606.mp4 already exists, skipping download.\n"
     ]
    },
    {
     "name": "stderr",
     "output_type": "stream",
     "text": [
      "Map:  77%|███████▋  | 542/700 [08:11<02:16,  1.16 examples/s]"
     ]
    },
    {
     "name": "stdout",
     "output_type": "stream",
     "text": [
      "Failed video330: Command '['yt-dlp', '--cookies', 'D:\\\\thanhloc\\\\Semester251\\\\DIP&CV\\\\yt_cookies.txt', '--sleep-interval', '1', '--max-sleep-interval', '3', '-f', 'bestvideo[height<=480]*+bestaudio/best[height<=480]', '-o', 'data/MSR-VTT/video330.mp4', 'https://www.youtube.com/watch?v=KieIrXqlo1k']' returned non-zero exit status 1.\n",
      "File data/MSR-VTT/video3032.mp4 already exists, skipping download.\n",
      "File data/MSR-VTT/video4993.mp4 already exists, skipping download.\n",
      "File data/MSR-VTT/video5851.mp4 already exists, skipping download.\n"
     ]
    },
    {
     "name": "stderr",
     "output_type": "stream",
     "text": [
      "Map:  78%|███████▊  | 546/700 [08:14<02:09,  1.19 examples/s]"
     ]
    },
    {
     "name": "stdout",
     "output_type": "stream",
     "text": [
      "Failed video4016: Command '['yt-dlp', '--cookies', 'D:\\\\thanhloc\\\\Semester251\\\\DIP&CV\\\\yt_cookies.txt', '--sleep-interval', '1', '--max-sleep-interval', '3', '-f', 'bestvideo[height<=480]*+bestaudio/best[height<=480]', '-o', 'data/MSR-VTT/video4016.mp4', 'https://www.youtube.com/watch?v=8y8zt-jB9J0']' returned non-zero exit status 1.\n",
      "File data/MSR-VTT/video2427.mp4 already exists, skipping download.\n",
      "File data/MSR-VTT/video6628.mp4 already exists, skipping download.\n",
      "File data/MSR-VTT/video6427.mp4 already exists, skipping download.\n",
      "File data/MSR-VTT/video2162.mp4 already exists, skipping download.\n"
     ]
    },
    {
     "name": "stderr",
     "output_type": "stream",
     "text": [
      "Map:  79%|███████▊  | 551/700 [08:18<01:58,  1.26 examples/s]"
     ]
    },
    {
     "name": "stdout",
     "output_type": "stream",
     "text": [
      "Failed video557: Command '['yt-dlp', '--cookies', 'D:\\\\thanhloc\\\\Semester251\\\\DIP&CV\\\\yt_cookies.txt', '--sleep-interval', '1', '--max-sleep-interval', '3', '-f', 'bestvideo[height<=480]*+bestaudio/best[height<=480]', '-o', 'data/MSR-VTT/video557.mp4', 'https://www.youtube.com/watch?v=VQG89Y3Z1h4']' returned non-zero exit status 1.\n",
      "File data/MSR-VTT/video1979.mp4 already exists, skipping download.\n"
     ]
    },
    {
     "name": "stderr",
     "output_type": "stream",
     "text": [
      "Map:  79%|███████▉  | 553/700 [08:21<02:16,  1.08 examples/s]"
     ]
    },
    {
     "name": "stdout",
     "output_type": "stream",
     "text": [
      "Failed video5275: Command '['yt-dlp', '--cookies', 'D:\\\\thanhloc\\\\Semester251\\\\DIP&CV\\\\yt_cookies.txt', '--sleep-interval', '1', '--max-sleep-interval', '3', '-f', 'bestvideo[height<=480]*+bestaudio/best[height<=480]', '-o', 'data/MSR-VTT/video5275.mp4', 'https://www.youtube.com/watch?v=0f07bJOAI4c']' returned non-zero exit status 1.\n",
      "File data/MSR-VTT/video5705.mp4 already exists, skipping download.\n"
     ]
    },
    {
     "name": "stderr",
     "output_type": "stream",
     "text": [
      "Map:  79%|███████▉  | 555/700 [08:24<02:30,  1.04s/ examples]"
     ]
    },
    {
     "name": "stdout",
     "output_type": "stream",
     "text": [
      "Failed video2982: Command '['yt-dlp', '--cookies', 'D:\\\\thanhloc\\\\Semester251\\\\DIP&CV\\\\yt_cookies.txt', '--sleep-interval', '1', '--max-sleep-interval', '3', '-f', 'bestvideo[height<=480]*+bestaudio/best[height<=480]', '-o', 'data/MSR-VTT/video2982.mp4', 'https://www.youtube.com/watch?v=1X289sq1pLk']' returned non-zero exit status 1.\n"
     ]
    },
    {
     "name": "stderr",
     "output_type": "stream",
     "text": [
      "Map:  79%|███████▉  | 556/700 [08:26<02:57,  1.23s/ examples]"
     ]
    },
    {
     "name": "stdout",
     "output_type": "stream",
     "text": [
      "Failed video5962: Command '['yt-dlp', '--cookies', 'D:\\\\thanhloc\\\\Semester251\\\\DIP&CV\\\\yt_cookies.txt', '--sleep-interval', '1', '--max-sleep-interval', '3', '-f', 'bestvideo[height<=480]*+bestaudio/best[height<=480]', '-o', 'data/MSR-VTT/video5962.mp4', 'https://www.youtube.com/watch?v=qo2KlXMjMm4']' returned non-zero exit status 1.\n",
      "File data/MSR-VTT/video6164.mp4 already exists, skipping download.\n",
      "File data/MSR-VTT/video4184.mp4 already exists, skipping download.\n",
      "File data/MSR-VTT/video5565.mp4 already exists, skipping download.\n",
      "File data/MSR-VTT/video6800.mp4 already exists, skipping download.\n",
      "File data/MSR-VTT/video628.mp4 already exists, skipping download.\n",
      "File data/MSR-VTT/video6976.mp4 already exists, skipping download.\n",
      "File data/MSR-VTT/video4077.mp4 already exists, skipping download.\n",
      "File data/MSR-VTT/video106.mp4 already exists, skipping download.\n"
     ]
    },
    {
     "name": "stderr",
     "output_type": "stream",
     "text": [
      "Map:  81%|████████  | 565/700 [08:30<01:39,  1.35 examples/s]"
     ]
    },
    {
     "name": "stdout",
     "output_type": "stream",
     "text": [
      "Failed video6788: Command '['yt-dlp', '--cookies', 'D:\\\\thanhloc\\\\Semester251\\\\DIP&CV\\\\yt_cookies.txt', '--sleep-interval', '1', '--max-sleep-interval', '3', '-f', 'bestvideo[height<=480]*+bestaudio/best[height<=480]', '-o', 'data/MSR-VTT/video6788.mp4', 'https://www.youtube.com/watch?v=JevbpLrtsVM']' returned non-zero exit status 1.\n"
     ]
    },
    {
     "name": "stderr",
     "output_type": "stream",
     "text": [
      "Map:  81%|████████  | 566/700 [08:34<02:15,  1.01s/ examples]"
     ]
    },
    {
     "name": "stdout",
     "output_type": "stream",
     "text": [
      "Failed video2482: Command '['yt-dlp', '--cookies', 'D:\\\\thanhloc\\\\Semester251\\\\DIP&CV\\\\yt_cookies.txt', '--sleep-interval', '1', '--max-sleep-interval', '3', '-f', 'bestvideo[height<=480]*+bestaudio/best[height<=480]', '-o', 'data/MSR-VTT/video2482.mp4', 'https://www.youtube.com/watch?v=tZXu26hz0bE']' returned non-zero exit status 1.\n"
     ]
    },
    {
     "name": "stderr",
     "output_type": "stream",
     "text": [
      "Map:  81%|████████  | 567/700 [08:38<02:49,  1.28s/ examples]"
     ]
    },
    {
     "name": "stdout",
     "output_type": "stream",
     "text": [
      "Failed video2266: Command '['yt-dlp', '--cookies', 'D:\\\\thanhloc\\\\Semester251\\\\DIP&CV\\\\yt_cookies.txt', '--sleep-interval', '1', '--max-sleep-interval', '3', '-f', 'bestvideo[height<=480]*+bestaudio/best[height<=480]', '-o', 'data/MSR-VTT/video2266.mp4', 'https://www.youtube.com/watch?v=_dW1uLDD6ig']' returned non-zero exit status 1.\n",
      "File data/MSR-VTT/video500.mp4 already exists, skipping download.\n",
      "File data/MSR-VTT/video6015.mp4 already exists, skipping download.\n"
     ]
    },
    {
     "name": "stderr",
     "output_type": "stream",
     "text": [
      "Map:  81%|████████▏ | 570/700 [08:43<03:04,  1.42s/ examples]"
     ]
    },
    {
     "name": "stdout",
     "output_type": "stream",
     "text": [
      "Failed video502: Command '['yt-dlp', '--cookies', 'D:\\\\thanhloc\\\\Semester251\\\\DIP&CV\\\\yt_cookies.txt', '--sleep-interval', '1', '--max-sleep-interval', '3', '-f', 'bestvideo[height<=480]*+bestaudio/best[height<=480]', '-o', 'data/MSR-VTT/video502.mp4', 'https://www.youtube.com/watch?v=CtZOuzp9uPI']' returned non-zero exit status 1.\n"
     ]
    },
    {
     "name": "stderr",
     "output_type": "stream",
     "text": [
      "Map:  82%|████████▏ | 571/700 [08:48<04:17,  1.99s/ examples]"
     ]
    },
    {
     "name": "stdout",
     "output_type": "stream",
     "text": [
      "Failed video4652: Command '['yt-dlp', '--cookies', 'D:\\\\thanhloc\\\\Semester251\\\\DIP&CV\\\\yt_cookies.txt', '--sleep-interval', '1', '--max-sleep-interval', '3', '-f', 'bestvideo[height<=480]*+bestaudio/best[height<=480]', '-o', 'data/MSR-VTT/video4652.mp4', 'https://www.youtube.com/watch?v=cxaPvRNCp5g']' returned non-zero exit status 1.\n"
     ]
    },
    {
     "name": "stderr",
     "output_type": "stream",
     "text": [
      "Map:  82%|████████▏ | 572/700 [08:53<04:59,  2.34s/ examples]"
     ]
    },
    {
     "name": "stdout",
     "output_type": "stream",
     "text": [
      "Failed video2325: Command '['yt-dlp', '--cookies', 'D:\\\\thanhloc\\\\Semester251\\\\DIP&CV\\\\yt_cookies.txt', '--sleep-interval', '1', '--max-sleep-interval', '3', '-f', 'bestvideo[height<=480]*+bestaudio/best[height<=480]', '-o', 'data/MSR-VTT/video2325.mp4', 'https://www.youtube.com/watch?v=_47FQRlGy9w']' returned non-zero exit status 1.\n",
      "File data/MSR-VTT/video3665.mp4 already exists, skipping download.\n",
      "File data/MSR-VTT/video4127.mp4 already exists, skipping download.\n",
      "File data/MSR-VTT/video350.mp4 already exists, skipping download.\n"
     ]
    },
    {
     "name": "stderr",
     "output_type": "stream",
     "text": [
      "Map:  82%|████████▏ | 576/700 [08:56<03:23,  1.64s/ examples]"
     ]
    },
    {
     "name": "stdout",
     "output_type": "stream",
     "text": [
      "Failed video3463: Command '['yt-dlp', '--cookies', 'D:\\\\thanhloc\\\\Semester251\\\\DIP&CV\\\\yt_cookies.txt', '--sleep-interval', '1', '--max-sleep-interval', '3', '-f', 'bestvideo[height<=480]*+bestaudio/best[height<=480]', '-o', 'data/MSR-VTT/video3463.mp4', 'https://www.youtube.com/watch?v=x8kb-PsxCQ4']' returned non-zero exit status 1.\n",
      "File data/MSR-VTT/video2850.mp4 already exists, skipping download.\n"
     ]
    },
    {
     "name": "stderr",
     "output_type": "stream",
     "text": [
      "Map:  83%|████████▎ | 578/700 [08:59<03:13,  1.59s/ examples]"
     ]
    },
    {
     "name": "stdout",
     "output_type": "stream",
     "text": [
      "Failed video2767: Command '['yt-dlp', '--cookies', 'D:\\\\thanhloc\\\\Semester251\\\\DIP&CV\\\\yt_cookies.txt', '--sleep-interval', '1', '--max-sleep-interval', '3', '-f', 'bestvideo[height<=480]*+bestaudio/best[height<=480]', '-o', 'data/MSR-VTT/video2767.mp4', 'https://www.youtube.com/watch?v=YC3U0GKE1io']' returned non-zero exit status 1.\n",
      "File data/MSR-VTT/video2468.mp4 already exists, skipping download.\n",
      "File data/MSR-VTT/video1912.mp4 already exists, skipping download.\n"
     ]
    },
    {
     "name": "stderr",
     "output_type": "stream",
     "text": [
      "Map:  83%|████████▎ | 581/700 [09:01<02:33,  1.29s/ examples]"
     ]
    },
    {
     "name": "stdout",
     "output_type": "stream",
     "text": [
      "Failed video4782: Command '['yt-dlp', '--cookies', 'D:\\\\thanhloc\\\\Semester251\\\\DIP&CV\\\\yt_cookies.txt', '--sleep-interval', '1', '--max-sleep-interval', '3', '-f', 'bestvideo[height<=480]*+bestaudio/best[height<=480]', '-o', 'data/MSR-VTT/video4782.mp4', 'https://www.youtube.com/watch?v=JRoJry50Mm4']' returned non-zero exit status 1.\n",
      "File data/MSR-VTT/video1867.mp4 already exists, skipping download.\n",
      "File data/MSR-VTT/video3178.mp4 already exists, skipping download.\n",
      "File data/MSR-VTT/video3341.mp4 already exists, skipping download.\n",
      "File data/MSR-VTT/video6902.mp4 already exists, skipping download.\n"
     ]
    },
    {
     "name": "stderr",
     "output_type": "stream",
     "text": [
      "Map:  84%|████████▎ | 586/700 [09:04<01:47,  1.07 examples/s]"
     ]
    },
    {
     "name": "stdout",
     "output_type": "stream",
     "text": [
      "Failed video1890: Command '['yt-dlp', '--cookies', 'D:\\\\thanhloc\\\\Semester251\\\\DIP&CV\\\\yt_cookies.txt', '--sleep-interval', '1', '--max-sleep-interval', '3', '-f', 'bestvideo[height<=480]*+bestaudio/best[height<=480]', '-o', 'data/MSR-VTT/video1890.mp4', 'https://www.youtube.com/watch?v=zsMiEvPZaLM']' returned non-zero exit status 1.\n",
      "File data/MSR-VTT/video4902.mp4 already exists, skipping download.\n",
      "File data/MSR-VTT/video4443.mp4 already exists, skipping download.\n",
      "File data/MSR-VTT/video5143.mp4 already exists, skipping download.\n"
     ]
    },
    {
     "name": "stderr",
     "output_type": "stream",
     "text": [
      "Map:  84%|████████▍ | 590/700 [09:06<01:32,  1.18 examples/s]"
     ]
    },
    {
     "name": "stdout",
     "output_type": "stream",
     "text": [
      "Failed video6091: Command '['yt-dlp', '--cookies', 'D:\\\\thanhloc\\\\Semester251\\\\DIP&CV\\\\yt_cookies.txt', '--sleep-interval', '1', '--max-sleep-interval', '3', '-f', 'bestvideo[height<=480]*+bestaudio/best[height<=480]', '-o', 'data/MSR-VTT/video6091.mp4', 'https://www.youtube.com/watch?v=2jEhvqgTacQ']' returned non-zero exit status 1.\n",
      "File data/MSR-VTT/video1127.mp4 already exists, skipping download.\n",
      "File data/MSR-VTT/video1792.mp4 already exists, skipping download.\n"
     ]
    },
    {
     "name": "stderr",
     "output_type": "stream",
     "text": [
      "Map:  85%|████████▍ | 593/700 [09:09<01:26,  1.23 examples/s]"
     ]
    },
    {
     "name": "stdout",
     "output_type": "stream",
     "text": [
      "Failed video4793: Command '['yt-dlp', '--cookies', 'D:\\\\thanhloc\\\\Semester251\\\\DIP&CV\\\\yt_cookies.txt', '--sleep-interval', '1', '--max-sleep-interval', '3', '-f', 'bestvideo[height<=480]*+bestaudio/best[height<=480]', '-o', 'data/MSR-VTT/video4793.mp4', 'https://www.youtube.com/watch?v=AlJaB3zunIc']' returned non-zero exit status 1.\n",
      "File data/MSR-VTT/video6152.mp4 already exists, skipping download.\n"
     ]
    },
    {
     "name": "stderr",
     "output_type": "stream",
     "text": [
      "Map:  85%|████████▌ | 595/700 [09:11<01:31,  1.15 examples/s]"
     ]
    },
    {
     "name": "stdout",
     "output_type": "stream",
     "text": [
      "Failed video5313: Command '['yt-dlp', '--cookies', 'D:\\\\thanhloc\\\\Semester251\\\\DIP&CV\\\\yt_cookies.txt', '--sleep-interval', '1', '--max-sleep-interval', '3', '-f', 'bestvideo[height<=480]*+bestaudio/best[height<=480]', '-o', 'data/MSR-VTT/video5313.mp4', 'https://www.youtube.com/watch?v=AOXaxInfRAU']' returned non-zero exit status 1.\n",
      "File data/MSR-VTT/video6827.mp4 already exists, skipping download.\n",
      "File data/MSR-VTT/video6033.mp4 already exists, skipping download.\n",
      "File data/MSR-VTT/video2928.mp4 already exists, skipping download.\n"
     ]
    },
    {
     "name": "stderr",
     "output_type": "stream",
     "text": [
      "Map:  86%|████████▌ | 599/700 [09:13<01:18,  1.28 examples/s]"
     ]
    },
    {
     "name": "stdout",
     "output_type": "stream",
     "text": [
      "Failed video4795: Command '['yt-dlp', '--cookies', 'D:\\\\thanhloc\\\\Semester251\\\\DIP&CV\\\\yt_cookies.txt', '--sleep-interval', '1', '--max-sleep-interval', '3', '-f', 'bestvideo[height<=480]*+bestaudio/best[height<=480]', '-o', 'data/MSR-VTT/video4795.mp4', 'https://www.youtube.com/watch?v=6PiY8PIYw6A']' returned non-zero exit status 1.\n"
     ]
    },
    {
     "name": "stderr",
     "output_type": "stream",
     "text": [
      "Map:  86%|████████▌ | 600/700 [09:16<01:35,  1.05 examples/s]"
     ]
    },
    {
     "name": "stdout",
     "output_type": "stream",
     "text": [
      "Failed video4195: Command '['yt-dlp', '--cookies', 'D:\\\\thanhloc\\\\Semester251\\\\DIP&CV\\\\yt_cookies.txt', '--sleep-interval', '1', '--max-sleep-interval', '3', '-f', 'bestvideo[height<=480]*+bestaudio/best[height<=480]', '-o', 'data/MSR-VTT/video4195.mp4', 'https://www.youtube.com/watch?v=W4Lvn_zv5Uw']' returned non-zero exit status 1.\n",
      "File data/MSR-VTT/video4358.mp4 already exists, skipping download.\n",
      "File data/MSR-VTT/video910.mp4 already exists, skipping download.\n",
      "File data/MSR-VTT/video592.mp4 already exists, skipping download.\n"
     ]
    },
    {
     "name": "stderr",
     "output_type": "stream",
     "text": [
      "Map:  86%|████████▋ | 604/700 [09:18<01:20,  1.19 examples/s]"
     ]
    },
    {
     "name": "stdout",
     "output_type": "stream",
     "text": [
      "Failed video4768: Command '['yt-dlp', '--cookies', 'D:\\\\thanhloc\\\\Semester251\\\\DIP&CV\\\\yt_cookies.txt', '--sleep-interval', '1', '--max-sleep-interval', '3', '-f', 'bestvideo[height<=480]*+bestaudio/best[height<=480]', '-o', 'data/MSR-VTT/video4768.mp4', 'https://www.youtube.com/watch?v=4qYoU5IvIJs']' returned non-zero exit status 1.\n"
     ]
    },
    {
     "name": "stderr",
     "output_type": "stream",
     "text": [
      "Map:  86%|████████▋ | 605/700 [09:21<01:38,  1.03s/ examples]"
     ]
    },
    {
     "name": "stdout",
     "output_type": "stream",
     "text": [
      "Failed video5868: Command '['yt-dlp', '--cookies', 'D:\\\\thanhloc\\\\Semester251\\\\DIP&CV\\\\yt_cookies.txt', '--sleep-interval', '1', '--max-sleep-interval', '3', '-f', 'bestvideo[height<=480]*+bestaudio/best[height<=480]', '-o', 'data/MSR-VTT/video5868.mp4', 'https://www.youtube.com/watch?v=pUOuP1OJF3I']' returned non-zero exit status 1.\n",
      "File data/MSR-VTT/video4531.mp4 already exists, skipping download.\n",
      "File data/MSR-VTT/video4467.mp4 already exists, skipping download.\n",
      "File data/MSR-VTT/video4362.mp4 already exists, skipping download.\n",
      "File data/MSR-VTT/video6169.mp4 already exists, skipping download.\n",
      "File data/MSR-VTT/video4004.mp4 already exists, skipping download.\n"
     ]
    },
    {
     "name": "stderr",
     "output_type": "stream",
     "text": [
      "Map:  87%|████████▋ | 611/700 [09:23<01:03,  1.40 examples/s]"
     ]
    },
    {
     "name": "stdout",
     "output_type": "stream",
     "text": [
      "Failed video2362: Command '['yt-dlp', '--cookies', 'D:\\\\thanhloc\\\\Semester251\\\\DIP&CV\\\\yt_cookies.txt', '--sleep-interval', '1', '--max-sleep-interval', '3', '-f', 'bestvideo[height<=480]*+bestaudio/best[height<=480]', '-o', 'data/MSR-VTT/video2362.mp4', 'https://www.youtube.com/watch?v=2PsRDBGOzn8']' returned non-zero exit status 1.\n"
     ]
    },
    {
     "name": "stderr",
     "output_type": "stream",
     "text": [
      "Map:  87%|████████▋ | 612/700 [09:26<01:24,  1.04 examples/s]"
     ]
    },
    {
     "name": "stdout",
     "output_type": "stream",
     "text": [
      "Failed video6522: Command '['yt-dlp', '--cookies', 'D:\\\\thanhloc\\\\Semester251\\\\DIP&CV\\\\yt_cookies.txt', '--sleep-interval', '1', '--max-sleep-interval', '3', '-f', 'bestvideo[height<=480]*+bestaudio/best[height<=480]', '-o', 'data/MSR-VTT/video6522.mp4', 'https://www.youtube.com/watch?v=TyiYdofkCCk']' returned non-zero exit status 1.\n",
      "File data/MSR-VTT/video366.mp4 already exists, skipping download.\n",
      "File data/MSR-VTT/video5748.mp4 already exists, skipping download.\n",
      "File data/MSR-VTT/video4555.mp4 already exists, skipping download.\n",
      "File data/MSR-VTT/video5671.mp4 already exists, skipping download.\n",
      "File data/MSR-VTT/video2475.mp4 already exists, skipping download.\n",
      "File data/MSR-VTT/video2553.mp4 already exists, skipping download.\n"
     ]
    },
    {
     "name": "stderr",
     "output_type": "stream",
     "text": [
      "Map:  88%|████████▊ | 619/700 [09:29<00:51,  1.56 examples/s]"
     ]
    },
    {
     "name": "stdout",
     "output_type": "stream",
     "text": [
      "Failed video1774: Command '['yt-dlp', '--cookies', 'D:\\\\thanhloc\\\\Semester251\\\\DIP&CV\\\\yt_cookies.txt', '--sleep-interval', '1', '--max-sleep-interval', '3', '-f', 'bestvideo[height<=480]*+bestaudio/best[height<=480]', '-o', 'data/MSR-VTT/video1774.mp4', 'https://www.youtube.com/watch?v=SImZU652IqI']' returned non-zero exit status 1.\n",
      "File data/MSR-VTT/video39.mp4 already exists, skipping download.\n",
      "File data/MSR-VTT/video6312.mp4 already exists, skipping download.\n"
     ]
    },
    {
     "name": "stderr",
     "output_type": "stream",
     "text": [
      "Map:  89%|████████▉ | 622/700 [09:31<00:51,  1.50 examples/s]"
     ]
    },
    {
     "name": "stdout",
     "output_type": "stream",
     "text": [
      "Failed video4541: Command '['yt-dlp', '--cookies', 'D:\\\\thanhloc\\\\Semester251\\\\DIP&CV\\\\yt_cookies.txt', '--sleep-interval', '1', '--max-sleep-interval', '3', '-f', 'bestvideo[height<=480]*+bestaudio/best[height<=480]', '-o', 'data/MSR-VTT/video4541.mp4', 'https://www.youtube.com/watch?v=xKN7LDegLTo']' returned non-zero exit status 1.\n",
      "File data/MSR-VTT/video80.mp4 already exists, skipping download.\n"
     ]
    },
    {
     "name": "stderr",
     "output_type": "stream",
     "text": [
      "Map:  89%|████████▉ | 624/700 [09:33<00:56,  1.36 examples/s]"
     ]
    },
    {
     "name": "stdout",
     "output_type": "stream",
     "text": [
      "Failed video324: Command '['yt-dlp', '--cookies', 'D:\\\\thanhloc\\\\Semester251\\\\DIP&CV\\\\yt_cookies.txt', '--sleep-interval', '1', '--max-sleep-interval', '3', '-f', 'bestvideo[height<=480]*+bestaudio/best[height<=480]', '-o', 'data/MSR-VTT/video324.mp4', 'https://www.youtube.com/watch?v=4hG4W1qm250']' returned non-zero exit status 1.\n",
      "File data/MSR-VTT/video5717.mp4 already exists, skipping download.\n"
     ]
    },
    {
     "name": "stderr",
     "output_type": "stream",
     "text": [
      "Map:  89%|████████▉ | 626/700 [09:35<00:59,  1.24 examples/s]"
     ]
    },
    {
     "name": "stdout",
     "output_type": "stream",
     "text": [
      "Failed video48: Command '['yt-dlp', '--cookies', 'D:\\\\thanhloc\\\\Semester251\\\\DIP&CV\\\\yt_cookies.txt', '--sleep-interval', '1', '--max-sleep-interval', '3', '-f', 'bestvideo[height<=480]*+bestaudio/best[height<=480]', '-o', 'data/MSR-VTT/video48.mp4', 'https://www.youtube.com/watch?v=AZZME-uNC0I']' returned non-zero exit status 1.\n",
      "File data/MSR-VTT/video4771.mp4 already exists, skipping download.\n",
      "File data/MSR-VTT/video6436.mp4 already exists, skipping download.\n",
      "File data/MSR-VTT/video4995.mp4 already exists, skipping download.\n",
      "File data/MSR-VTT/video1896.mp4 already exists, skipping download.\n",
      "File data/MSR-VTT/video1451.mp4 already exists, skipping download.\n",
      "File data/MSR-VTT/video5007.mp4 already exists, skipping download.\n",
      "File data/MSR-VTT/video4305.mp4 already exists, skipping download.\n",
      "File data/MSR-VTT/video1991.mp4 already exists, skipping download.\n",
      "File data/MSR-VTT/video6849.mp4 already exists, skipping download.\n"
     ]
    },
    {
     "name": "stderr",
     "output_type": "stream",
     "text": [
      "Map:  91%|█████████ | 636/700 [09:38<00:31,  2.06 examples/s]"
     ]
    },
    {
     "name": "stdout",
     "output_type": "stream",
     "text": [
      "Failed video806: Command '['yt-dlp', '--cookies', 'D:\\\\thanhloc\\\\Semester251\\\\DIP&CV\\\\yt_cookies.txt', '--sleep-interval', '1', '--max-sleep-interval', '3', '-f', 'bestvideo[height<=480]*+bestaudio/best[height<=480]', '-o', 'data/MSR-VTT/video806.mp4', 'https://www.youtube.com/watch?v=Ta0smNAe5Rs']' returned non-zero exit status 1.\n",
      "File data/MSR-VTT/video2324.mp4 already exists, skipping download.\n",
      "File data/MSR-VTT/video115.mp4 already exists, skipping download.\n",
      "File data/MSR-VTT/video158.mp4 already exists, skipping download.\n",
      "File data/MSR-VTT/video5863.mp4 already exists, skipping download.\n",
      "File data/MSR-VTT/video6881.mp4 already exists, skipping download.\n"
     ]
    },
    {
     "name": "stderr",
     "output_type": "stream",
     "text": [
      "Map:  92%|█████████▏| 642/700 [09:52<01:04,  1.12s/ examples]"
     ]
    },
    {
     "name": "stdout",
     "output_type": "stream",
     "text": [
      "File data/MSR-VTT/video361.mp4 already exists, skipping download.\n",
      "File data/MSR-VTT/video4828.mp4 already exists, skipping download.\n",
      "File data/MSR-VTT/video5229.mp4 already exists, skipping download.\n",
      "File data/MSR-VTT/video5607.mp4 already exists, skipping download.\n",
      "File data/MSR-VTT/video660.mp4 already exists, skipping download.\n",
      "File data/MSR-VTT/video3615.mp4 already exists, skipping download.\n"
     ]
    },
    {
     "name": "stderr",
     "output_type": "stream",
     "text": [
      "Map:  93%|█████████▎| 649/700 [09:54<00:42,  1.20 examples/s]"
     ]
    },
    {
     "name": "stdout",
     "output_type": "stream",
     "text": [
      "Failed video1032: Command '['yt-dlp', '--cookies', 'D:\\\\thanhloc\\\\Semester251\\\\DIP&CV\\\\yt_cookies.txt', '--sleep-interval', '1', '--max-sleep-interval', '3', '-f', 'bestvideo[height<=480]*+bestaudio/best[height<=480]', '-o', 'data/MSR-VTT/video1032.mp4', 'https://www.youtube.com/watch?v=19DfrkRECDY']' returned non-zero exit status 1.\n",
      "File data/MSR-VTT/video2384.mp4 already exists, skipping download.\n"
     ]
    },
    {
     "name": "stderr",
     "output_type": "stream",
     "text": [
      "Map:  93%|█████████▎| 651/700 [09:56<00:42,  1.15 examples/s]"
     ]
    },
    {
     "name": "stdout",
     "output_type": "stream",
     "text": [
      "Failed video5182: Command '['yt-dlp', '--cookies', 'D:\\\\thanhloc\\\\Semester251\\\\DIP&CV\\\\yt_cookies.txt', '--sleep-interval', '1', '--max-sleep-interval', '3', '-f', 'bestvideo[height<=480]*+bestaudio/best[height<=480]', '-o', 'data/MSR-VTT/video5182.mp4', 'https://www.youtube.com/watch?v=xClycmpX9fk']' returned non-zero exit status 1.\n",
      "File data/MSR-VTT/video3798.mp4 already exists, skipping download.\n",
      "File data/MSR-VTT/video1456.mp4 already exists, skipping download.\n",
      "File data/MSR-VTT/video779.mp4 already exists, skipping download.\n"
     ]
    },
    {
     "name": "stderr",
     "output_type": "stream",
     "text": [
      "Map:  94%|█████████▍| 661/700 [12:16<07:12, 11.09s/ examples]"
     ]
    },
    {
     "name": "stdout",
     "output_type": "stream",
     "text": [
      "Failed video2655: Command '['yt-dlp', '--cookies', 'D:\\\\thanhloc\\\\Semester251\\\\DIP&CV\\\\yt_cookies.txt', '--sleep-interval', '1', '--max-sleep-interval', '3', '-f', 'bestvideo[height<=480]*+bestaudio/best[height<=480]', '-o', 'data/MSR-VTT/video2655.mp4', 'https://www.youtube.com/watch?v=8avAQ8UbPGk']' returned non-zero exit status 1.\n"
     ]
    },
    {
     "name": "stderr",
     "output_type": "stream",
     "text": [
      "Map:  95%|█████████▌| 668/700 [13:56<06:04, 11.40s/ examples]"
     ]
    },
    {
     "name": "stdout",
     "output_type": "stream",
     "text": [
      "Failed video6060: Command '['yt-dlp', '--cookies', 'D:\\\\thanhloc\\\\Semester251\\\\DIP&CV\\\\yt_cookies.txt', '--sleep-interval', '1', '--max-sleep-interval', '3', '-f', 'bestvideo[height<=480]*+bestaudio/best[height<=480]', '-o', 'data/MSR-VTT/video6060.mp4', 'https://www.youtube.com/watch?v=CbK9Z8rJtp8']' returned non-zero exit status 1.\n"
     ]
    },
    {
     "name": "stderr",
     "output_type": "stream",
     "text": [
      "Map:  96%|█████████▌| 673/700 [15:37<07:20, 16.31s/ examples]"
     ]
    },
    {
     "name": "stdout",
     "output_type": "stream",
     "text": [
      "Failed video2749: Command '['yt-dlp', '--cookies', 'D:\\\\thanhloc\\\\Semester251\\\\DIP&CV\\\\yt_cookies.txt', '--sleep-interval', '1', '--max-sleep-interval', '3', '-f', 'bestvideo[height<=480]*+bestaudio/best[height<=480]', '-o', 'data/MSR-VTT/video2749.mp4', 'https://www.youtube.com/watch?v=zaIF7G8cDSc']' returned non-zero exit status 1.\n"
     ]
    },
    {
     "name": "stderr",
     "output_type": "stream",
     "text": [
      "Map:  96%|█████████▋| 674/700 [15:40<05:22, 12.41s/ examples]"
     ]
    },
    {
     "name": "stdout",
     "output_type": "stream",
     "text": [
      "Failed video5846: Command '['yt-dlp', '--cookies', 'D:\\\\thanhloc\\\\Semester251\\\\DIP&CV\\\\yt_cookies.txt', '--sleep-interval', '1', '--max-sleep-interval', '3', '-f', 'bestvideo[height<=480]*+bestaudio/best[height<=480]', '-o', 'data/MSR-VTT/video5846.mp4', 'https://www.youtube.com/watch?v=3y82AR2IVlc']' returned non-zero exit status 1.\n"
     ]
    },
    {
     "name": "stderr",
     "output_type": "stream",
     "text": [
      "Map:  97%|█████████▋| 681/700 [17:49<05:09, 16.31s/ examples]"
     ]
    },
    {
     "name": "stdout",
     "output_type": "stream",
     "text": [
      "Failed video4914: Command '['yt-dlp', '--cookies', 'D:\\\\thanhloc\\\\Semester251\\\\DIP&CV\\\\yt_cookies.txt', '--sleep-interval', '1', '--max-sleep-interval', '3', '-f', 'bestvideo[height<=480]*+bestaudio/best[height<=480]', '-o', 'data/MSR-VTT/video4914.mp4', 'https://www.youtube.com/watch?v=ZJVi6Ba16mk']' returned non-zero exit status 1.\n"
     ]
    },
    {
     "name": "stderr",
     "output_type": "stream",
     "text": [
      "Map:  98%|█████████▊| 685/700 [18:50<03:31, 14.09s/ examples]"
     ]
    },
    {
     "name": "stdout",
     "output_type": "stream",
     "text": [
      "Failed video3214: Command '['yt-dlp', '--cookies', 'D:\\\\thanhloc\\\\Semester251\\\\DIP&CV\\\\yt_cookies.txt', '--sleep-interval', '1', '--max-sleep-interval', '3', '-f', 'bestvideo[height<=480]*+bestaudio/best[height<=480]', '-o', 'data/MSR-VTT/video3214.mp4', 'https://www.youtube.com/watch?v=19xTAtdj_pA']' returned non-zero exit status 1.\n"
     ]
    },
    {
     "name": "stderr",
     "output_type": "stream",
     "text": [
      "Map:  98%|█████████▊| 686/700 [18:52<02:27, 10.55s/ examples]"
     ]
    },
    {
     "name": "stdout",
     "output_type": "stream",
     "text": [
      "Failed video6030: Command '['yt-dlp', '--cookies', 'D:\\\\thanhloc\\\\Semester251\\\\DIP&CV\\\\yt_cookies.txt', '--sleep-interval', '1', '--max-sleep-interval', '3', '-f', 'bestvideo[height<=480]*+bestaudio/best[height<=480]', '-o', 'data/MSR-VTT/video6030.mp4', 'https://www.youtube.com/watch?v=WuaSDc_vW9I']' returned non-zero exit status 1.\n"
     ]
    },
    {
     "name": "stderr",
     "output_type": "stream",
     "text": [
      "Map:  98%|█████████▊| 689/700 [19:23<01:43,  9.38s/ examples]"
     ]
    },
    {
     "name": "stdout",
     "output_type": "stream",
     "text": [
      "Failed video5983: Command '['yt-dlp', '--cookies', 'D:\\\\thanhloc\\\\Semester251\\\\DIP&CV\\\\yt_cookies.txt', '--sleep-interval', '1', '--max-sleep-interval', '3', '-f', 'bestvideo[height<=480]*+bestaudio/best[height<=480]', '-o', 'data/MSR-VTT/video5983.mp4', 'https://www.youtube.com/watch?v=-FOPaJqjCM0']' returned non-zero exit status 1.\n"
     ]
    },
    {
     "name": "stderr",
     "output_type": "stream",
     "text": [
      "Map:  99%|█████████▊| 690/700 [19:25<01:13,  7.33s/ examples]"
     ]
    },
    {
     "name": "stdout",
     "output_type": "stream",
     "text": [
      "Failed video3951: Command '['yt-dlp', '--cookies', 'D:\\\\thanhloc\\\\Semester251\\\\DIP&CV\\\\yt_cookies.txt', '--sleep-interval', '1', '--max-sleep-interval', '3', '-f', 'bestvideo[height<=480]*+bestaudio/best[height<=480]', '-o', 'data/MSR-VTT/video3951.mp4', 'https://www.youtube.com/watch?v=KyGJOgkzsok']' returned non-zero exit status 1.\n"
     ]
    },
    {
     "name": "stderr",
     "output_type": "stream",
     "text": [
      "Map:  99%|█████████▊| 691/700 [19:28<00:53,  5.91s/ examples]"
     ]
    },
    {
     "name": "stdout",
     "output_type": "stream",
     "text": [
      "Failed video2559: Command '['yt-dlp', '--cookies', 'D:\\\\thanhloc\\\\Semester251\\\\DIP&CV\\\\yt_cookies.txt', '--sleep-interval', '1', '--max-sleep-interval', '3', '-f', 'bestvideo[height<=480]*+bestaudio/best[height<=480]', '-o', 'data/MSR-VTT/video2559.mp4', 'https://www.youtube.com/watch?v=cYYyABedMl0']' returned non-zero exit status 1.\n"
     ]
    },
    {
     "name": "stderr",
     "output_type": "stream",
     "text": [
      "Map: 100%|█████████▉| 697/700 [21:09<00:40, 13.37s/ examples]"
     ]
    },
    {
     "name": "stdout",
     "output_type": "stream",
     "text": [
      "Failed video1225: Command '['yt-dlp', '--cookies', 'D:\\\\thanhloc\\\\Semester251\\\\DIP&CV\\\\yt_cookies.txt', '--sleep-interval', '1', '--max-sleep-interval', '3', '-f', 'bestvideo[height<=480]*+bestaudio/best[height<=480]', '-o', 'data/MSR-VTT/video1225.mp4', 'https://www.youtube.com/watch?v=X_S0Nx-fCHo']' returned non-zero exit status 1.\n"
     ]
    },
    {
     "name": "stderr",
     "output_type": "stream",
     "text": [
      "Map: 100%|██████████| 700/700 [21:41<00:00, 10.72s/ examples]"
     ]
    },
    {
     "name": "stdout",
     "output_type": "stream",
     "text": [
      "Failed video6171: Command '['yt-dlp', '--cookies', 'D:\\\\thanhloc\\\\Semester251\\\\DIP&CV\\\\yt_cookies.txt', '--sleep-interval', '1', '--max-sleep-interval', '3', '-f', 'bestvideo[height<=480]*+bestaudio/best[height<=480]', '-o', 'data/MSR-VTT/video6171.mp4', 'https://www.youtube.com/watch?v=TS77oMc7l2Q']' returned non-zero exit status 1.\n"
     ]
    },
    {
     "name": "stderr",
     "output_type": "stream",
     "text": [
      "Map: 100%|██████████| 700/700 [21:42<00:00,  1.86s/ examples]"
     ]
    },
    {
     "name": "stdout",
     "output_type": "stream",
     "text": [
      "700\n",
      "Dataset({\n",
      "    features: ['video_id', 'video', 'caption', 'source', 'category', 'url', 'start time', 'end time', 'id', 'clip_path'],\n",
      "    num_rows: 700\n",
      "})\n"
     ]
    },
    {
     "name": "stderr",
     "output_type": "stream",
     "text": [
      "\n"
     ]
    }
   ],
   "execution_count": 8
  },
  {
   "metadata": {
    "ExecuteTime": {
     "end_time": "2025-10-02T11:26:25.615125Z",
     "start_time": "2025-10-02T11:26:25.600644Z"
    }
   },
   "cell_type": "code",
   "source": [
    "sample = sampled_ds[300]\n",
    "print(sample[\"video_id\"])\n",
    "print(sample[\"caption\"][:10])   # first ten captions\n",
    "\n",
    "print(sample[\"clip_path\"])"
   ],
   "id": "63829c5034417ef4",
   "outputs": [
    {
     "name": "stdout",
     "output_type": "stream",
     "text": [
      "video6544\n",
      "['a drama on the stage show', 'a group of indian men giving a talk to a group', 'a man is holding a hat', 'a man is talking to a man about the audience', 'a man is talking', 'a military official and two young men are talking in front of a group of people in a non-english language', 'a spanish gameshow on tv', 'about a malayalam tv show', 'guys on stage for live tv show', 'man in military outfit talks with other men']\n",
      "data/MSR-VTT/video6544.mp4\n"
     ]
    }
   ],
   "execution_count": 10
  },
  {
   "metadata": {
    "ExecuteTime": {
     "end_time": "2025-10-02T11:26:28.464864Z",
     "start_time": "2025-10-02T11:26:28.242431Z"
    }
   },
   "cell_type": "code",
   "source": [
    "missing_ds = sampled_ds.filter(lambda x: not x.get(\"clip_path\"))\n",
    "print(missing_ds)\n",
    "print(sampled_ds)"
   ],
   "id": "3d4d2d37c7e9caf0",
   "outputs": [
    {
     "name": "stderr",
     "output_type": "stream",
     "text": [
      "Filter: 100%|██████████| 700/700 [00:00<00:00, 4594.06 examples/s]"
     ]
    },
    {
     "name": "stdout",
     "output_type": "stream",
     "text": [
      "Dataset({\n",
      "    features: ['video_id', 'video', 'caption', 'source', 'category', 'url', 'start time', 'end time', 'id', 'clip_path'],\n",
      "    num_rows: 202\n",
      "})\n",
      "Dataset({\n",
      "    features: ['video_id', 'video', 'caption', 'source', 'category', 'url', 'start time', 'end time', 'id', 'clip_path'],\n",
      "    num_rows: 700\n",
      "})\n"
     ]
    },
    {
     "name": "stderr",
     "output_type": "stream",
     "text": [
      "\n"
     ]
    }
   ],
   "execution_count": 11
  },
  {
   "cell_type": "code",
   "id": "bed371f8",
   "metadata": {
    "ExecuteTime": {
     "end_time": "2025-10-02T11:26:32.554117Z",
     "start_time": "2025-10-02T11:26:32.476874Z"
    }
   },
   "source": [
    "sampled_ds = sampled_ds.filter(\n",
    "    lambda x: x.get(\"clip_path\") not in (\"\", None)\n",
    ")\n",
    "print(\"Rows after drop:\", len(sampled_ds))\n",
    "print(sampled_ds)"
   ],
   "outputs": [
    {
     "name": "stderr",
     "output_type": "stream",
     "text": [
      "Filter: 100%|██████████| 700/700 [00:00<00:00, 11744.33 examples/s]"
     ]
    },
    {
     "name": "stdout",
     "output_type": "stream",
     "text": [
      "Rows after drop: 498\n",
      "Dataset({\n",
      "    features: ['video_id', 'video', 'caption', 'source', 'category', 'url', 'start time', 'end time', 'id', 'clip_path'],\n",
      "    num_rows: 498\n",
      "})\n"
     ]
    },
    {
     "name": "stderr",
     "output_type": "stream",
     "text": [
      "\n"
     ]
    }
   ],
   "execution_count": 12
  },
  {
   "cell_type": "code",
   "id": "83e43297",
   "metadata": {
    "ExecuteTime": {
     "end_time": "2025-10-02T11:26:36.632044Z",
     "start_time": "2025-10-02T11:26:36.277058Z"
    }
   },
   "source": [
    "sampled_ds.to_csv(\"data/sampled_msrvtt_clips.csv\")"
   ],
   "outputs": [
    {
     "name": "stderr",
     "output_type": "stream",
     "text": [
      "Creating CSV from Arrow format: 100%|██████████| 1/1 [00:00<00:00,  3.85ba/s]\n"
     ]
    },
    {
     "data": {
      "text/plain": [
       "571581"
      ]
     },
     "execution_count": 13,
     "metadata": {},
     "output_type": "execute_result"
    }
   ],
   "execution_count": 13
  }
 ],
 "metadata": {
  "kernelspec": {
   "display_name": "Python 3",
   "language": "python",
   "name": "python3"
  },
  "language_info": {
   "codemirror_mode": {
    "name": "ipython",
    "version": 3
   },
   "file_extension": ".py",
   "mimetype": "text/x-python",
   "name": "python",
   "nbconvert_exporter": "python",
   "pygments_lexer": "ipython3",
   "version": "3.13.1"
  }
 },
 "nbformat": 4,
 "nbformat_minor": 5
}
