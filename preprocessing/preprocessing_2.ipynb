{
 "cells": [
  {
   "cell_type": "code",
   "execution_count": 1,
   "id": "0c6fab8e",
   "metadata": {},
   "outputs": [
    {
     "data": {
      "text/plain": [
       "<torch._C.Generator at 0x2e78791cdd0>"
      ]
     },
     "execution_count": 1,
     "metadata": {},
     "output_type": "execute_result"
    }
   ],
   "source": [
    "import numpy as np\n",
    "import pandas as pd\n",
    "import random\n",
    "import torch\n",
    "import os\n",
    "seed = 42\n",
    "np.random.seed(seed)\n",
    "random.seed(seed)\n",
    "torch.manual_seed(seed)"
   ]
  },
  {
   "cell_type": "code",
   "execution_count": 2,
   "id": "bbe49ad5",
   "metadata": {},
   "outputs": [
    {
     "name": "stdout",
     "output_type": "stream",
     "text": [
      "(64, 10)\n",
      "Index(['video_id', 'video', 'caption', 'source', 'category', 'url',\n",
      "       'start time', 'end time', 'id', 'clip_path'],\n",
      "      dtype='object')\n",
      "    video_id          video  \\\n",
      "0  video2015  video2015.mp4   \n",
      "1  video9988  video9988.mp4   \n",
      "2  video3085  video3085.mp4   \n",
      "3  video7470  video7470.mp4   \n",
      "4  video5183  video5183.mp4   \n",
      "\n",
      "                                             caption   source  category  \\\n",
      "0  ['a class full of women move their body watchi...  MSR-VTT         3   \n",
      "1  ['a band is playing a song' 'a band performs a...  MSR-VTT         3   \n",
      "2  ['an owl is staring a man brushes it s head wi...  MSR-VTT        15   \n",
      "3  ['a car describing the features of a car'\\n 'a...  MSR-VTT         9   \n",
      "4  ['a boy is doing voiceover for lego toys'\\n 'a...  MSR-VTT         2   \n",
      "\n",
      "                                           url  start time  end time    id  \\\n",
      "0  https://www.youtube.com/watch?v=CHeSIvrCdjc       52.68     65.25  2015   \n",
      "1  https://www.youtube.com/watch?v=dMBCQcKAxuY       54.25     64.45  9988   \n",
      "2  https://www.youtube.com/watch?v=XeFxdkaFzRA      214.17    231.38  3085   \n",
      "3  https://www.youtube.com/watch?v=HUgzSc207CM      261.95    276.11  7470   \n",
      "4  https://www.youtube.com/watch?v=mnV-u9ANA84      225.35    252.15  5183   \n",
      "\n",
      "                    clip_path  \n",
      "0  data/MSR-VTT\\video2015.mp4  \n",
      "1  data/MSR-VTT\\video9988.mp4  \n",
      "2  data/MSR-VTT\\video3085.mp4  \n",
      "3  data/MSR-VTT\\video7470.mp4  \n",
      "4  data/MSR-VTT\\video5183.mp4  \n"
     ]
    }
   ],
   "source": [
    "df = pd.read_csv('data/sampled_msrvtt_clips.csv')\n",
    "print(df.shape)        # rows, columns\n",
    "print(df.columns)      # list of column names\n",
    "print(df.head())       # preview first few rows"
   ]
  },
  {
   "cell_type": "markdown",
   "id": "204b07fc",
   "metadata": {},
   "source": [
    "# TODO: Preprocessing the data in CSV format\n",
    "\n",
    "## Steps needed\n",
    "- File tải về sẽ là dạng **.mkv**, trong đó có 2 phần:\n",
    "  - **Audio data**\n",
    "  - **Frame data**\n",
    "\n",
    "- Với frame data:\n",
    "  - Kiểm tra **tính đúng đắn** của dữ liệu → loại bỏ nhiễu/hỏng.\n",
    "  - Kiểm tra **tính chất** của dữ liệu  \n",
    "    - Ví dụ: số lượng frame của các video (mean, min, max…).  \n",
    "    - Có thể vẽ biểu đồ ở bước này.\n",
    "    - *Một video có thể có nhiều captions → tách các captions này thành các dòng khác nhau trong CSV.*\n",
    "  - Giảm cấu hình của các frame (ví dụ **720p → 480p**).  \n",
    "    - Có thể làm ngay lúc download trong file `preprocessing_1` với **yt-dlp** (Em nghien cuu them trong thư vien nay nha).\n",
    "  - Chuẩn hóa kích thước frame **224 × 224**.  \n",
    "    - Các bước transform nên để trong `Dataset`.  \n",
    "    - Việc khai báo `Dataset` thực hiện trong `utils/prepare.py`.\n",
    "  - Giảm FPS: tạo 2 tùy chọn  \n",
    "    - 1 bản **không giảm**  \n",
    "    - 1 bản **giảm** để linh hoạt."
   ]
  },
  {
   "cell_type": "code",
   "execution_count": null,
   "id": "97825194",
   "metadata": {},
   "outputs": [],
   "source": [
    "# TODO: preprocessing the data in csv format\n",
    "# steps needed\n",
    "# - file tải về sẽ là dạng .mkv trong đó sẽ có 2 phần \n",
    "#   + audio data\n",
    "#   + frame data\n",
    "# - với frame data \n",
    "#   + kiem tra tinh dung dan cua du lieu --> n.a nhiễu ....\n",
    "#   + kiem tra tinh chat cua du lieu  --> ví dụ số lượng frame của các video (mean, min, max...). Em có thể vẽ biểu đồ ở bước này\n",
    "#    * em có thể thấy 1 video sẽ có nhiều captions. Em có thể tách các captions này thành các dòng khác nhau trong csv.\n",
    "#   + giam cau hinh cua cac frame (i.e 720p -> 480p). Em có thể làm điều này từ lúc download ở file preprocessing_1 với yt-dlp. Em nghiên cứu thử\n",
    "#   + chuẩn hóa kích thước frame 224 x 224. Các bước transform em nên để trong Dataset. việc khai báo Dataset thì thực hiện trong utils/prepare.py\n",
    "#   + với giảm fps, em làm 2 option nha. 1 cái không giảm, 1 cái giảm để mình linh hoạt.#"
   ]
  }
 ],
 "metadata": {
  "kernelspec": {
   "display_name": "sumenv",
   "language": "python",
   "name": "python3"
  },
  "language_info": {
   "codemirror_mode": {
    "name": "ipython",
    "version": 3
   },
   "file_extension": ".py",
   "mimetype": "text/x-python",
   "name": "python",
   "nbconvert_exporter": "python",
   "pygments_lexer": "ipython3",
   "version": "3.11.9"
  }
 },
 "nbformat": 4,
 "nbformat_minor": 5
}
